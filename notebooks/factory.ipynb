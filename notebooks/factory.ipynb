{
 "cells": [
  {
   "cell_type": "code",
   "execution_count": 9,
   "id": "dd4d6bc3",
   "metadata": {},
   "outputs": [],
   "source": [
    "from dataclasses import dataclass \n",
    "from functools import wraps, partial\n",
    "\n",
    "@dataclass\n",
    "class MyClass:\n",
    "    \"\"\"A simple dataclass example.\"\"\"\n",
    "    special_attr: list\n",
    "    name: str\n",
    "    age: int\n",
    "\n",
    "    @classmethod\n",
    "    def get_factory(cls, **opts):\n",
    "        \"\"\"Factory method to create an instance of MyClass.\"\"\"\n",
    "        @wraps(cls)\n",
    "        def factory(special_attr):\n",
    "            return cls(special_attr, **opts)\n",
    "        return factory\n",
    "    \n",
    "@dataclass\n",
    "class MyDerivedClass(MyClass):\n",
    "    \"\"\"A derived class that extends MyClass.\"\"\"\n",
    "    special_attr: list\n",
    "    name: str\n",
    "    age: int\n",
    "    extra_attr: str"
   ]
  },
  {
   "cell_type": "code",
   "execution_count": 11,
   "id": "59ca1b29",
   "metadata": {},
   "outputs": [
    {
     "data": {
      "text/plain": [
       "MyDerivedClass(special_attr='hehe', name='John Doe', age=30, extra_attr='lmao')"
      ]
     },
     "execution_count": 11,
     "metadata": {},
     "output_type": "execute_result"
    }
   ],
   "source": [
    "MyDerivedClass.get_factory(name='John Doe', age=30, extra_attr=\"lmao\")(\"hehe\")"
   ]
  }
 ],
 "metadata": {
  "kernelspec": {
   "display_name": ".venv",
   "language": "python",
   "name": "python3"
  },
  "language_info": {
   "codemirror_mode": {
    "name": "ipython",
    "version": 3
   },
   "file_extension": ".py",
   "mimetype": "text/x-python",
   "name": "python",
   "nbconvert_exporter": "python",
   "pygments_lexer": "ipython3",
   "version": "3.12.9"
  }
 },
 "nbformat": 4,
 "nbformat_minor": 5
}
