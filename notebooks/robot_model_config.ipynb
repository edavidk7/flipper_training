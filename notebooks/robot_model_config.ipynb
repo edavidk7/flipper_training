{
 "cells": [
  {
   "cell_type": "code",
   "execution_count": 1,
   "metadata": {},
   "outputs": [],
   "source": [
    "%load_ext autoreload\n",
    "%autoreload 2"
   ]
  },
  {
   "cell_type": "code",
   "execution_count": 2,
   "metadata": {},
   "outputs": [],
   "source": [
    "import pyvista as pv\n",
    "import numpy as np\n",
    "import plotly.graph_objects as go\n",
    "import plotly.express as px\n",
    "from pathlib import Path"
   ]
  },
  {
   "cell_type": "code",
   "execution_count": 3,
   "metadata": {},
   "outputs": [],
   "source": [
    "p  = !pwd\n",
    "root=Path(p[0])"
   ]
  },
  {
   "cell_type": "code",
   "execution_count": 4,
   "metadata": {},
   "outputs": [],
   "source": [
    "ROOT = root.parent\n",
    "marv_obj = ROOT / \"meshes/marv_lid.obj\"\n",
    "test_mesh = pv.read(marv_obj)"
   ]
  },
  {
   "cell_type": "code",
   "execution_count": 5,
   "metadata": {},
   "outputs": [
    {
     "name": "stderr",
     "output_type": "stream",
     "text": [
      "2024-12-09 11:54:36.405 Python[61096:16864505] ApplePersistenceIgnoreState: Existing state will not be touched. New state will be written to /var/folders/yj/_6b0pqvs5xg33v_xy5q2v9_40000gn/T/org.python.python.savedState\n"
     ]
    },
    {
     "data": {
      "application/vnd.jupyter.widget-view+json": {
       "model_id": "f005c6ab5c904b0d909b2e4e2094ba5d",
       "version_major": 2,
       "version_minor": 0
      },
      "text/plain": [
       "Widget(value='<iframe src=\"http://localhost:51306/index.html?ui=P_0x16a5da890_0&reconnect=auto\" class=\"pyvista…"
      ]
     },
     "metadata": {},
     "output_type": "display_data"
    }
   ],
   "source": [
    "test_mesh.plot()"
   ]
  },
  {
   "cell_type": "code",
   "execution_count": 6,
   "metadata": {},
   "outputs": [],
   "source": [
    "import yaml\n",
    "with open(root.parent / f\"robots/marv.yaml\", \"r\") as file:\n",
    "    robot_params = yaml.safe_load(file)"
   ]
  },
  {
   "cell_type": "code",
   "execution_count": 7,
   "metadata": {},
   "outputs": [],
   "source": [
    "import torch\n",
    "driving_part_bboxes = [torch.tensor(bbox) for bbox in robot_params[\"driving_part_bboxes\"]]\n",
    "body_bbox = torch.tensor(robot_params[\"body_bbox\"])"
   ]
  },
  {
   "cell_type": "code",
   "execution_count": 8,
   "metadata": {},
   "outputs": [],
   "source": [
    "robot_points = torch.tensor(pv.read(str(marv_obj)).points)"
   ]
  },
  {
   "cell_type": "code",
   "execution_count": 9,
   "metadata": {},
   "outputs": [],
   "source": [
    "assert test_mesh.is_all_triangles"
   ]
  },
  {
   "cell_type": "code",
   "execution_count": 10,
   "metadata": {},
   "outputs": [],
   "source": [
    "import pyacvd\n",
    "\n",
    "\n",
    "def extract_flipper_points_from_mesh(mesh: pv.PolyData, n_points: int = 100, **clus_opts) -> torch.Tensor:\n",
    "    delaunay = mesh.delaunay_3d()\n",
    "    surf = delaunay.extract_surface()\n",
    "    clus: pyacvd.Clustering = pyacvd.Clustering(surf)\n",
    "    clus.cluster(n_points, **clus_opts)\n",
    "    return torch.tensor(clus.cluster_centroid)"
   ]
  },
  {
   "cell_type": "code",
   "execution_count": 11,
   "metadata": {},
   "outputs": [
    {
     "name": "stderr",
     "output_type": "stream",
     "text": [
      "\u001b[0m\u001b[33m2024-12-09 11:54:38.234 (   3.631s) [         10154F9]            vtkMath.cxx:570   WARN| Unable to factor linear system\u001b[0m\n",
      "\u001b[0m\u001b[33m2024-12-09 11:54:38.370 (   3.767s) [         10154F9]      vtkDelaunay3D.cxx:514   WARN| vtkDelaunay3D (0x31c37ede0): 38 degenerate triangles encountered, mesh quality suspect\u001b[0m\n",
      "\u001b[0m\u001b[33m2024-12-09 11:54:38.593 (   3.991s) [         10154F9]            vtkMath.cxx:570   WARN| Unable to factor linear system\u001b[0m\n",
      "\u001b[0m\u001b[33m2024-12-09 11:54:38.724 (   4.122s) [         10154F9]      vtkDelaunay3D.cxx:514   WARN| vtkDelaunay3D (0x31c408af0): 31 degenerate triangles encountered, mesh quality suspect\u001b[0m\n",
      "\u001b[0m\u001b[33m2024-12-09 11:54:38.960 (   4.358s) [         10154F9]            vtkMath.cxx:570   WARN| Unable to factor linear system\u001b[0m\n",
      "\u001b[0m\u001b[33m2024-12-09 11:54:39.100 (   4.497s) [         10154F9]      vtkDelaunay3D.cxx:514   WARN| vtkDelaunay3D (0x333804080): 30 degenerate triangles encountered, mesh quality suspect\u001b[0m\n",
      "\u001b[0m\u001b[33m2024-12-09 11:54:39.335 (   4.732s) [         10154F9]            vtkMath.cxx:570   WARN| Unable to factor linear system\u001b[0m\n",
      "\u001b[0m\u001b[33m2024-12-09 11:54:39.466 (   4.864s) [         10154F9]      vtkDelaunay3D.cxx:514   WARN| vtkDelaunay3D (0x31c36f4d0): 30 degenerate triangles encountered, mesh quality suspect\u001b[0m\n"
     ]
    }
   ],
   "source": [
    "from flipper_training.utils.geometry import points_in_oriented_box\n",
    "driving_meshes = []\n",
    "driving_points = []\n",
    "faces = test_mesh.faces.reshape(-1, 4)[:, 1:]\n",
    "for p in driving_part_bboxes:\n",
    "    mask = points_in_oriented_box(robot_points[:, :2], p)\n",
    "    nonzero = mask.nonzero().numpy().flatten()\n",
    "    pointgrid = test_mesh.extract_points(nonzero, adjacent_cells=False, include_cells=True)\n",
    "    driving_meshes.append(pointgrid)\n",
    "    driving_points.append(extract_flipper_points_from_mesh(pointgrid, 200))"
   ]
  },
  {
   "cell_type": "code",
   "execution_count": 12,
   "metadata": {},
   "outputs": [
    {
     "data": {
      "application/vnd.jupyter.widget-view+json": {
       "model_id": "23239f5f38a1470c919f704f349bd935",
       "version_major": 2,
       "version_minor": 0
      },
      "text/plain": [
       "Widget(value='<iframe src=\"http://localhost:51306/index.html?ui=P_0x31f54e9d0_1&reconnect=auto\" class=\"pyvista…"
      ]
     },
     "metadata": {},
     "output_type": "display_data"
    }
   ],
   "source": [
    "driving_meshes[0].plot(render_points_as_spheres=True)"
   ]
  },
  {
   "cell_type": "code",
   "execution_count": 13,
   "metadata": {},
   "outputs": [
    {
     "name": "stderr",
     "output_type": "stream",
     "text": [
      "\u001b[0m\u001b[33m2024-12-09 11:54:39.834 (   5.232s) [         10154F9]            vtkMath.cxx:570   WARN| Unable to factor linear system\u001b[0m\n",
      "\u001b[0m\u001b[33m2024-12-09 11:54:39.969 (   5.367s) [         10154F9]      vtkDelaunay3D.cxx:514   WARN| vtkDelaunay3D (0x10878d600): 38 degenerate triangles encountered, mesh quality suspect\u001b[0m\n"
     ]
    },
    {
     "data": {
      "application/vnd.jupyter.widget-view+json": {
       "model_id": "f413890c08ec42539278e0b0943ca3b4",
       "version_major": 2,
       "version_minor": 0
      },
      "text/plain": [
       "Widget(value='<iframe src=\"http://localhost:51306/index.html?ui=P_0x31f9f66d0_2&reconnect=auto\" class=\"pyvista…"
      ]
     },
     "metadata": {},
     "output_type": "display_data"
    }
   ],
   "source": [
    "delaunay = driving_meshes[0].delaunay_3d()\n",
    "delaunay.plot()"
   ]
  },
  {
   "cell_type": "code",
   "execution_count": 14,
   "metadata": {},
   "outputs": [
    {
     "data": {
      "application/vnd.jupyter.widget-view+json": {
       "model_id": "5b7319cade3d4e86a28778ca9afb6669",
       "version_major": 2,
       "version_minor": 0
      },
      "text/plain": [
       "Widget(value='<iframe src=\"http://localhost:51306/index.html?ui=P_0x31f739290_3&reconnect=auto\" class=\"pyvista…"
      ]
     },
     "metadata": {},
     "output_type": "display_data"
    }
   ],
   "source": [
    "surface = delaunay.extract_surface()\n",
    "surface_points = pv.PolyData(surface.points)\n",
    "surface_points.plot(render_points_as_spheres=True, point_size=10,)"
   ]
  },
  {
   "cell_type": "code",
   "execution_count": 15,
   "metadata": {},
   "outputs": [],
   "source": [
    "import pyacvd"
   ]
  },
  {
   "cell_type": "code",
   "execution_count": 16,
   "metadata": {},
   "outputs": [
    {
     "data": {
      "text/plain": [
       "array([  0,   1,   0, ..., 102,  42, 101], dtype=int32)"
      ]
     },
     "execution_count": 16,
     "metadata": {},
     "output_type": "execute_result"
    }
   ],
   "source": [
    "clus = pyacvd.Clustering(surface)\n",
    "clus.cluster(200, maxiter=1000, iso_try=50)"
   ]
  },
  {
   "cell_type": "code",
   "execution_count": 17,
   "metadata": {},
   "outputs": [
    {
     "data": {
      "application/vnd.jupyter.widget-view+json": {
       "model_id": "8e65b7d7cef8400ab06ae3c24023dc19",
       "version_major": 2,
       "version_minor": 0
      },
      "text/plain": [
       "Widget(value='<iframe src=\"http://localhost:51306/index.html?ui=P_0x337e489d0_4&reconnect=auto\" class=\"pyvista…"
      ]
     },
     "metadata": {},
     "output_type": "display_data"
    }
   ],
   "source": [
    "pv.PolyData(clus.cluster_centroid).plot(render_points_as_spheres=True, point_size=10,)"
   ]
  },
  {
   "cell_type": "code",
   "execution_count": 18,
   "metadata": {},
   "outputs": [],
   "source": [
    "body_mask = points_in_oriented_box(robot_points[:, :2], body_bbox)\n",
    "nonzero = body_mask.nonzero().numpy().flatten()\n",
    "body_pointgrid = test_mesh.extract_points(nonzero, adjacent_cells=False, include_cells=True)"
   ]
  },
  {
   "cell_type": "code",
   "execution_count": 19,
   "metadata": {},
   "outputs": [
    {
     "data": {
      "application/vnd.jupyter.widget-view+json": {
       "model_id": "99b6cf38ab6d427d80b73ab24b960a08",
       "version_major": 2,
       "version_minor": 0
      },
      "text/plain": [
       "Widget(value='<iframe src=\"http://localhost:51306/index.html?ui=P_0x337ec08d0_5&reconnect=auto\" class=\"pyvista…"
      ]
     },
     "metadata": {},
     "output_type": "display_data"
    }
   ],
   "source": [
    "body_pointgrid.plot()"
   ]
  },
  {
   "cell_type": "code",
   "execution_count": 20,
   "metadata": {},
   "outputs": [
    {
     "name": "stderr",
     "output_type": "stream",
     "text": [
      "\u001b[0m\u001b[33m2024-12-09 11:54:41.289 (   6.686s) [         10154F9]            vtkMath.cxx:570   WARN| Unable to factor linear system\u001b[0m\n",
      "\u001b[0m\u001b[33m2024-12-09 11:54:41.289 (   6.686s) [         10154F9]            vtkMath.cxx:570   WARN| Unable to factor linear system\u001b[0m\n",
      "\u001b[0m\u001b[33m2024-12-09 11:54:41.289 (   6.686s) [         10154F9]            vtkMath.cxx:570   WARN| Unable to factor linear system\u001b[0m\n",
      "\u001b[0m\u001b[33m2024-12-09 11:54:41.289 (   6.686s) [         10154F9]            vtkMath.cxx:570   WARN| Unable to factor linear system\u001b[0m\n",
      "\u001b[0m\u001b[33m2024-12-09 11:54:41.289 (   6.686s) [         10154F9]            vtkMath.cxx:570   WARN| Unable to factor linear system\u001b[0m\n",
      "\u001b[0m\u001b[33m2024-12-09 11:54:41.289 (   6.687s) [         10154F9]            vtkMath.cxx:570   WARN| Unable to factor linear system\u001b[0m\n",
      "\u001b[0m\u001b[33m2024-12-09 11:54:41.289 (   6.687s) [         10154F9]            vtkMath.cxx:570   WARN| Unable to factor linear system\u001b[0m\n",
      "\u001b[0m\u001b[33m2024-12-09 11:54:41.289 (   6.687s) [         10154F9]            vtkMath.cxx:570   WARN| Unable to factor linear system\u001b[0m\n",
      "\u001b[0m\u001b[33m2024-12-09 11:54:41.289 (   6.687s) [         10154F9]            vtkMath.cxx:570   WARN| Unable to factor linear system\u001b[0m\n",
      "\u001b[0m\u001b[33m2024-12-09 11:54:43.105 (   8.502s) [         10154F9]      vtkDelaunay3D.cxx:514   WARN| vtkDelaunay3D (0x3335cf5f0): 144 degenerate triangles encountered, mesh quality suspect\u001b[0m\n"
     ]
    },
    {
     "data": {
      "application/vnd.jupyter.widget-view+json": {
       "model_id": "7927977084654cc199ca4a8597f13119",
       "version_major": 2,
       "version_minor": 0
      },
      "text/plain": [
       "Widget(value='<iframe src=\"http://localhost:51306/index.html?ui=P_0x16a5d8850_6&reconnect=auto\" class=\"pyvista…"
      ]
     },
     "metadata": {},
     "output_type": "display_data"
    }
   ],
   "source": [
    "body_delaunay = body_pointgrid.delaunay_3d()\n",
    "body_delaunay.plot()"
   ]
  },
  {
   "cell_type": "code",
   "execution_count": 21,
   "metadata": {},
   "outputs": [
    {
     "data": {
      "application/vnd.jupyter.widget-view+json": {
       "model_id": "bf7cb62cd84d4280a940c606fd7b8429",
       "version_major": 2,
       "version_minor": 0
      },
      "text/plain": [
       "Widget(value='<iframe src=\"http://localhost:51306/index.html?ui=P_0x349fddcd0_7&reconnect=auto\" class=\"pyvista…"
      ]
     },
     "metadata": {},
     "output_type": "display_data"
    }
   ],
   "source": [
    "body_surface = body_pointgrid.extract_surface()\n",
    "body_surface_points = pv.PolyData(body_surface.points)\n",
    "body_surface_points.plot(render_points_as_spheres=True, point_size=10,)"
   ]
  },
  {
   "cell_type": "code",
   "execution_count": 22,
   "metadata": {},
   "outputs": [
    {
     "data": {
      "application/vnd.jupyter.widget-view+json": {
       "model_id": "fa0a43f7f4634721b75c32250870fc50",
       "version_major": 2,
       "version_minor": 0
      },
      "text/plain": [
       "Widget(value='<iframe src=\"http://localhost:51306/index.html?ui=P_0x35011be90_8&reconnect=auto\" class=\"pyvista…"
      ]
     },
     "metadata": {},
     "output_type": "display_data"
    }
   ],
   "source": [
    "pv.PolyData(pv.voxelize(body_pointgrid.extract_surface(),density=0.1,check_surface=False).points).plot(render_points_as_spheres=True, point_size=10,)"
   ]
  }
 ],
 "metadata": {
  "kernelspec": {
   "display_name": ".venv",
   "language": "python",
   "name": "python3"
  },
  "language_info": {
   "codemirror_mode": {
    "name": "ipython",
    "version": 3
   },
   "file_extension": ".py",
   "mimetype": "text/x-python",
   "name": "python",
   "nbconvert_exporter": "python",
   "pygments_lexer": "ipython3",
   "version": "3.11.11"
  }
 },
 "nbformat": 4,
 "nbformat_minor": 2
}
