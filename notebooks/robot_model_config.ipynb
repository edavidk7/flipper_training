{
 "cells": [
  {
   "cell_type": "code",
   "execution_count": 1,
   "metadata": {},
   "outputs": [],
   "source": [
    "%load_ext autoreload\n",
    "%autoreload 2"
   ]
  },
  {
   "cell_type": "code",
   "execution_count": 2,
   "metadata": {},
   "outputs": [],
   "source": [
    "import pyvista as pv\n",
    "import numpy as np\n",
    "import plotly.graph_objects as go\n",
    "import plotly.express as px\n",
    "from pathlib import Path"
   ]
  },
  {
   "cell_type": "code",
   "execution_count": 3,
   "metadata": {},
   "outputs": [],
   "source": [
    "p  = !pwd\n",
    "root=Path(p[0])"
   ]
  },
  {
   "cell_type": "code",
   "execution_count": 4,
   "metadata": {},
   "outputs": [],
   "source": [
    "ROOT = root.parent\n",
    "marv_obj = ROOT / \"meshes/marv_lid.obj\"\n",
    "test_mesh = pv.read(marv_obj)"
   ]
  },
  {
   "cell_type": "code",
   "execution_count": null,
   "metadata": {},
   "outputs": [],
   "source": [
    "test_mesh.plot()"
   ]
  },
  {
   "cell_type": "code",
   "execution_count": 6,
   "metadata": {},
   "outputs": [],
   "source": [
    "import yaml\n",
    "with open(root.parent / f\"robots/marv.yaml\", \"r\") as file:\n",
    "    robot_params = yaml.safe_load(file)"
   ]
  },
  {
   "cell_type": "code",
   "execution_count": 7,
   "metadata": {},
   "outputs": [],
   "source": [
    "import torch\n",
    "driving_part_bboxes = [torch.tensor(bbox) for bbox in robot_params[\"driving_part_bboxes\"]]\n",
    "body_bbox = torch.tensor(robot_params[\"body_bbox\"])"
   ]
  },
  {
   "cell_type": "code",
   "execution_count": 8,
   "metadata": {},
   "outputs": [],
   "source": [
    "robot_points = torch.tensor(pv.read(str(marv_obj)).points)"
   ]
  },
  {
   "cell_type": "code",
   "execution_count": 9,
   "metadata": {},
   "outputs": [],
   "source": [
    "assert test_mesh.is_all_triangles"
   ]
  },
  {
   "cell_type": "code",
   "execution_count": 10,
   "metadata": {},
   "outputs": [],
   "source": [
    "import pyacvd\n",
    "\n",
    "\n",
    "def extract_flipper_points_from_mesh(mesh: pv.PolyData, n_points: int = 100, **clus_opts) -> torch.Tensor:\n",
    "    delaunay = mesh.delaunay_3d()\n",
    "    surf = delaunay.extract_surface()\n",
    "    clus: pyacvd.Clustering = pyacvd.Clustering(surf)\n",
    "    clus.cluster(n_points, **clus_opts)\n",
    "    return torch.tensor(clus.cluster_centroid)"
   ]
  },
  {
   "cell_type": "code",
   "execution_count": null,
   "metadata": {},
   "outputs": [],
   "source": [
    "from flipper_training.utils.geometry import points_in_oriented_box\n",
    "driving_meshes = []\n",
    "driving_points = []\n",
    "faces = test_mesh.faces.reshape(-1, 4)[:, 1:]\n",
    "for p in driving_part_bboxes:\n",
    "    mask = points_in_oriented_box(robot_points[:, :2], p)\n",
    "    nonzero = mask.nonzero().numpy().flatten()\n",
    "    pointgrid = test_mesh.extract_points(nonzero, adjacent_cells=False, include_cells=True)\n",
    "    driving_meshes.append(pointgrid)\n",
    "    driving_points.append(extract_flipper_points_from_mesh(pointgrid, 200))"
   ]
  },
  {
   "cell_type": "code",
   "execution_count": null,
   "metadata": {},
   "outputs": [],
   "source": [
    "driving_meshes[0].plot(render_points_as_spheres=True)"
   ]
  },
  {
   "cell_type": "code",
   "execution_count": null,
   "metadata": {},
   "outputs": [],
   "source": [
    "delaunay = driving_meshes[0].delaunay_3d()\n",
    "delaunay.plot()"
   ]
  },
  {
   "cell_type": "code",
   "execution_count": null,
   "metadata": {},
   "outputs": [],
   "source": [
    "surface = delaunay.extract_surface()\n",
    "surface_points = pv.PolyData(surface.points)\n",
    "surface_points.plot(render_points_as_spheres=True, point_size=10,)"
   ]
  },
  {
   "cell_type": "code",
   "execution_count": 15,
   "metadata": {},
   "outputs": [],
   "source": [
    "import pyacvd"
   ]
  },
  {
   "cell_type": "code",
   "execution_count": null,
   "metadata": {},
   "outputs": [],
   "source": [
    "clus = pyacvd.Clustering(surface)\n",
    "clus.cluster(400, maxiter=1000, iso_try=50)"
   ]
  },
  {
   "cell_type": "code",
   "execution_count": null,
   "metadata": {},
   "outputs": [],
   "source": [
    "pv.PolyData(clus.cluster_centroid).plot(render_points_as_spheres=True, point_size=10,)"
   ]
  },
  {
   "cell_type": "code",
   "execution_count": 18,
   "metadata": {},
   "outputs": [],
   "source": [
    "body_mask = points_in_oriented_box(robot_points[:, :2], body_bbox)\n",
    "nonzero = body_mask.nonzero().numpy().flatten()\n",
    "body_pointgrid = test_mesh.extract_points(nonzero, adjacent_cells=False, include_cells=True)"
   ]
  },
  {
   "cell_type": "code",
   "execution_count": null,
   "metadata": {},
   "outputs": [],
   "source": [
    "body_pointgrid.plot()"
   ]
  },
  {
   "cell_type": "code",
   "execution_count": null,
   "metadata": {},
   "outputs": [],
   "source": [
    "body_delaunay = body_pointgrid.delaunay_3d()\n",
    "body_delaunay.plot()"
   ]
  },
  {
   "cell_type": "code",
   "execution_count": null,
   "metadata": {},
   "outputs": [],
   "source": [
    "pv.PolyData(pv.voxelize(body_delaunay,density=0.05,check_surface=False).points).plot(render_points_as_spheres=True, point_size=10,)"
   ]
  }
 ],
 "metadata": {
  "kernelspec": {
   "display_name": ".venv",
   "language": "python",
   "name": "python3"
  },
  "language_info": {
   "codemirror_mode": {
    "name": "ipython",
    "version": 3
   },
   "file_extension": ".py",
   "mimetype": "text/x-python",
   "name": "python",
   "nbconvert_exporter": "python",
   "pygments_lexer": "ipython3",
   "version": "3.12.8"
  }
 },
 "nbformat": 4,
 "nbformat_minor": 2
}
