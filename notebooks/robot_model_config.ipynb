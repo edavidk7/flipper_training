{
 "cells": [
  {
   "cell_type": "code",
   "execution_count": 1,
   "metadata": {},
   "outputs": [],
   "source": [
    "%load_ext autoreload\n",
    "%autoreload 2"
   ]
  },
  {
   "cell_type": "code",
   "execution_count": 2,
   "metadata": {},
   "outputs": [],
   "source": [
    "import pyvista as pv\n",
    "import numpy as np\n",
    "import plotly.graph_objects as go\n",
    "import plotly.express as px\n",
    "from pathlib import Path"
   ]
  },
  {
   "cell_type": "code",
   "execution_count": 3,
   "metadata": {},
   "outputs": [],
   "source": [
    "p  = !pwd\n",
    "root=Path(p[0])"
   ]
  },
  {
   "cell_type": "code",
   "execution_count": 27,
   "metadata": {},
   "outputs": [],
   "source": [
    "ROOT = root.parent\n",
    "marv_obj = ROOT / \"meshes/marv_lid.obj\"\n",
    "test_mesh = pv.read(marv_obj)"
   ]
  },
  {
   "cell_type": "code",
   "execution_count": 28,
   "metadata": {},
   "outputs": [
    {
     "data": {
      "application/vnd.jupyter.widget-view+json": {
       "model_id": "3e13195f6d2d461fb3cdf8f99e977225",
       "version_major": 2,
       "version_minor": 0
      },
      "text/plain": [
       "Widget(value='<iframe src=\"http://localhost:63615/index.html?ui=P_0x368beb310_10&reconnect=auto\" class=\"pyvist…"
      ]
     },
     "metadata": {},
     "output_type": "display_data"
    }
   ],
   "source": [
    "test_mesh.plot()"
   ]
  },
  {
   "cell_type": "code",
   "execution_count": 29,
   "metadata": {},
   "outputs": [],
   "source": [
    "import yaml\n",
    "with open(root.parent / f\"robots/marv.yaml\", \"r\") as file:\n",
    "    robot_params = yaml.safe_load(file)"
   ]
  },
  {
   "cell_type": "code",
   "execution_count": 30,
   "metadata": {},
   "outputs": [],
   "source": [
    "import torch\n",
    "driving_part_bboxes = [torch.tensor(bbox) for bbox in robot_params[\"driving_part_bboxes\"]]\n",
    "body_bbox = torch.tensor(robot_params[\"body_bbox\"])"
   ]
  },
  {
   "cell_type": "code",
   "execution_count": 31,
   "metadata": {},
   "outputs": [],
   "source": [
    "robot_points = torch.tensor(pv.read(str(marv_obj)).points)"
   ]
  },
  {
   "cell_type": "code",
   "execution_count": 32,
   "metadata": {},
   "outputs": [],
   "source": [
    "assert test_mesh.is_all_triangles"
   ]
  },
  {
   "cell_type": "code",
   "execution_count": 33,
   "metadata": {},
   "outputs": [],
   "source": [
    "import pyacvd\n",
    "\n",
    "\n",
    "def extract_flipper_points_from_mesh(mesh: pv.PolyData, n_points: int = 100, **clus_opts) -> torch.Tensor:\n",
    "    delaunay = mesh.delaunay_3d()\n",
    "    surf = delaunay.extract_surface()\n",
    "    clus: pyacvd.Clustering = pyacvd.Clustering(surf)\n",
    "    clus.cluster(n_points, **clus_opts)\n",
    "    return torch.tensor(clus.cluster_centroid)"
   ]
  },
  {
   "cell_type": "code",
   "execution_count": 34,
   "metadata": {},
   "outputs": [
    {
     "name": "stderr",
     "output_type": "stream",
     "text": [
      "\u001b[0m\u001b[33m2024-12-01 21:12:08.791 ( 377.911s) [          58CB80]            vtkMath.cxx:570   WARN| Unable to factor linear system\u001b[0m\n",
      "\u001b[0m\u001b[33m2024-12-01 21:12:08.932 ( 378.052s) [          58CB80]      vtkDelaunay3D.cxx:514   WARN| vtkDelaunay3D (0x34d435b10): 38 degenerate triangles encountered, mesh quality suspect\u001b[0m\n",
      "\u001b[0m\u001b[33m2024-12-01 21:12:09.165 ( 378.285s) [          58CB80]            vtkMath.cxx:570   WARN| Unable to factor linear system\u001b[0m\n",
      "\u001b[0m\u001b[33m2024-12-01 21:12:09.301 ( 378.421s) [          58CB80]      vtkDelaunay3D.cxx:514   WARN| vtkDelaunay3D (0x34d251330): 31 degenerate triangles encountered, mesh quality suspect\u001b[0m\n",
      "\u001b[0m\u001b[33m2024-12-01 21:12:09.524 ( 378.643s) [          58CB80]            vtkMath.cxx:570   WARN| Unable to factor linear system\u001b[0m\n",
      "\u001b[0m\u001b[33m2024-12-01 21:12:09.659 ( 378.779s) [          58CB80]      vtkDelaunay3D.cxx:514   WARN| vtkDelaunay3D (0x34d42c220): 30 degenerate triangles encountered, mesh quality suspect\u001b[0m\n",
      "\u001b[0m\u001b[33m2024-12-01 21:12:09.885 ( 379.004s) [          58CB80]            vtkMath.cxx:570   WARN| Unable to factor linear system\u001b[0m\n",
      "\u001b[0m\u001b[33m2024-12-01 21:12:10.026 ( 379.145s) [          58CB80]      vtkDelaunay3D.cxx:514   WARN| vtkDelaunay3D (0x35674b0d0): 30 degenerate triangles encountered, mesh quality suspect\u001b[0m\n"
     ]
    }
   ],
   "source": [
    "from flipper_training.utils.geometry import points_in_oriented_box\n",
    "driving_meshes = []\n",
    "driving_points = []\n",
    "faces = test_mesh.faces.reshape(-1, 4)[:, 1:]\n",
    "for p in driving_part_bboxes:\n",
    "    mask = points_in_oriented_box(robot_points[:, :2], p)\n",
    "    nonzero = mask.nonzero().numpy().flatten()\n",
    "    pointgrid = test_mesh.extract_points(nonzero, adjacent_cells=False, include_cells=True)\n",
    "    driving_meshes.append(pointgrid)\n",
    "    driving_points.append(extract_flipper_points_from_mesh(pointgrid, 200))"
   ]
  },
  {
   "cell_type": "code",
   "execution_count": 35,
   "metadata": {},
   "outputs": [
    {
     "data": {
      "application/vnd.jupyter.widget-view+json": {
       "model_id": "98f41898436e495fba66b64281daf041",
       "version_major": 2,
       "version_minor": 0
      },
      "text/plain": [
       "Widget(value='<iframe src=\"http://localhost:63615/index.html?ui=P_0x310d4e850_11&reconnect=auto\" class=\"pyvist…"
      ]
     },
     "metadata": {},
     "output_type": "display_data"
    }
   ],
   "source": [
    "driving_meshes[0].plot(render_points_as_spheres=True)"
   ]
  },
  {
   "cell_type": "code",
   "execution_count": 36,
   "metadata": {},
   "outputs": [
    {
     "name": "stderr",
     "output_type": "stream",
     "text": [
      "\u001b[0m\u001b[33m2024-12-01 21:12:10.430 ( 379.549s) [          58CB80]            vtkMath.cxx:570   WARN| Unable to factor linear system\u001b[0m\n",
      "\u001b[0m\u001b[33m2024-12-01 21:12:10.564 ( 379.684s) [          58CB80]      vtkDelaunay3D.cxx:514   WARN| vtkDelaunay3D (0x3425a73b0): 38 degenerate triangles encountered, mesh quality suspect\u001b[0m\n"
     ]
    },
    {
     "data": {
      "application/vnd.jupyter.widget-view+json": {
       "model_id": "593a1028627e451893c00dc8d336e8ca",
       "version_major": 2,
       "version_minor": 0
      },
      "text/plain": [
       "Widget(value='<iframe src=\"http://localhost:63615/index.html?ui=P_0x343aaa990_12&reconnect=auto\" class=\"pyvist…"
      ]
     },
     "metadata": {},
     "output_type": "display_data"
    }
   ],
   "source": [
    "delaunay = driving_meshes[0].delaunay_3d()\n",
    "delaunay.plot()"
   ]
  },
  {
   "cell_type": "code",
   "execution_count": 37,
   "metadata": {},
   "outputs": [
    {
     "data": {
      "application/vnd.jupyter.widget-view+json": {
       "model_id": "99c9c97f41e54efdaca6d8d4a680ff73",
       "version_major": 2,
       "version_minor": 0
      },
      "text/plain": [
       "Widget(value='<iframe src=\"http://localhost:63615/index.html?ui=P_0x17c789d10_13&reconnect=auto\" class=\"pyvist…"
      ]
     },
     "metadata": {},
     "output_type": "display_data"
    }
   ],
   "source": [
    "surface = delaunay.extract_surface()\n",
    "surface_points = pv.PolyData(surface.points)\n",
    "surface_points.plot(render_points_as_spheres=True, point_size=10,)"
   ]
  },
  {
   "cell_type": "code",
   "execution_count": 38,
   "metadata": {},
   "outputs": [],
   "source": [
    "import pyacvd"
   ]
  },
  {
   "cell_type": "code",
   "execution_count": 39,
   "metadata": {},
   "outputs": [
    {
     "data": {
      "text/plain": [
       "array([  0,   1,   0, ..., 102,  42, 101], dtype=int32)"
      ]
     },
     "execution_count": 39,
     "metadata": {},
     "output_type": "execute_result"
    }
   ],
   "source": [
    "clus = pyacvd.Clustering(surface)\n",
    "clus.cluster(200, maxiter=1000, iso_try=50)"
   ]
  },
  {
   "cell_type": "code",
   "execution_count": 46,
   "metadata": {},
   "outputs": [
    {
     "data": {
      "application/vnd.jupyter.widget-view+json": {
       "model_id": "b5b059119f57401880e42954049ade3d",
       "version_major": 2,
       "version_minor": 0
      },
      "text/plain": [
       "Widget(value='<iframe src=\"http://localhost:63615/index.html?ui=P_0x36fe48d90_19&reconnect=auto\" class=\"pyvist…"
      ]
     },
     "metadata": {},
     "output_type": "display_data"
    }
   ],
   "source": [
    "pv.PolyData(clus.cluster_centroid).plot(render_points_as_spheres=True, point_size=10,)"
   ]
  },
  {
   "cell_type": "code",
   "execution_count": 41,
   "metadata": {},
   "outputs": [],
   "source": [
    "body_mask = points_in_oriented_box(robot_points[:, :2], body_bbox)\n",
    "nonzero = body_mask.nonzero().numpy().flatten()\n",
    "body_pointgrid = test_mesh.extract_points(nonzero, adjacent_cells=False, include_cells=True)"
   ]
  },
  {
   "cell_type": "code",
   "execution_count": 47,
   "metadata": {},
   "outputs": [
    {
     "data": {
      "application/vnd.jupyter.widget-view+json": {
       "model_id": "711bb35c3c6c47daa667871ad4aa7bd2",
       "version_major": 2,
       "version_minor": 0
      },
      "text/plain": [
       "Widget(value='<iframe src=\"http://localhost:63615/index.html?ui=P_0x36fec2690_20&reconnect=auto\" class=\"pyvist…"
      ]
     },
     "metadata": {},
     "output_type": "display_data"
    }
   ],
   "source": [
    "body_pointgrid.plot()"
   ]
  },
  {
   "cell_type": "code",
   "execution_count": 48,
   "metadata": {},
   "outputs": [
    {
     "name": "stderr",
     "output_type": "stream",
     "text": [
      "\u001b[0m\u001b[33m2024-12-01 21:12:35.722 ( 404.841s) [          58CB80]            vtkMath.cxx:570   WARN| Unable to factor linear system\u001b[0m\n",
      "\u001b[0m\u001b[33m2024-12-01 21:12:35.722 ( 404.841s) [          58CB80]            vtkMath.cxx:570   WARN| Unable to factor linear system\u001b[0m\n",
      "\u001b[0m\u001b[33m2024-12-01 21:12:35.722 ( 404.841s) [          58CB80]            vtkMath.cxx:570   WARN| Unable to factor linear system\u001b[0m\n",
      "\u001b[0m\u001b[33m2024-12-01 21:12:35.722 ( 404.841s) [          58CB80]            vtkMath.cxx:570   WARN| Unable to factor linear system\u001b[0m\n",
      "\u001b[0m\u001b[33m2024-12-01 21:12:35.722 ( 404.841s) [          58CB80]            vtkMath.cxx:570   WARN| Unable to factor linear system\u001b[0m\n",
      "\u001b[0m\u001b[33m2024-12-01 21:12:35.722 ( 404.842s) [          58CB80]            vtkMath.cxx:570   WARN| Unable to factor linear system\u001b[0m\n",
      "\u001b[0m\u001b[33m2024-12-01 21:12:35.722 ( 404.842s) [          58CB80]            vtkMath.cxx:570   WARN| Unable to factor linear system\u001b[0m\n",
      "\u001b[0m\u001b[33m2024-12-01 21:12:35.722 ( 404.842s) [          58CB80]            vtkMath.cxx:570   WARN| Unable to factor linear system\u001b[0m\n",
      "\u001b[0m\u001b[33m2024-12-01 21:12:35.722 ( 404.842s) [          58CB80]            vtkMath.cxx:570   WARN| Unable to factor linear system\u001b[0m\n",
      "\u001b[0m\u001b[33m2024-12-01 21:12:37.539 ( 406.658s) [          58CB80]      vtkDelaunay3D.cxx:514   WARN| vtkDelaunay3D (0x374975e10): 144 degenerate triangles encountered, mesh quality suspect\u001b[0m\n"
     ]
    },
    {
     "data": {
      "application/vnd.jupyter.widget-view+json": {
       "model_id": "579265f82a4f44d096f538c9b5ec5253",
       "version_major": 2,
       "version_minor": 0
      },
      "text/plain": [
       "Widget(value='<iframe src=\"http://localhost:63615/index.html?ui=P_0x396ce2ad0_21&reconnect=auto\" class=\"pyvist…"
      ]
     },
     "metadata": {},
     "output_type": "display_data"
    }
   ],
   "source": [
    "body_delaunay = body_pointgrid.delaunay_3d()\n",
    "body_delaunay.plot()"
   ]
  },
  {
   "cell_type": "code",
   "execution_count": 54,
   "metadata": {},
   "outputs": [
    {
     "data": {
      "application/vnd.jupyter.widget-view+json": {
       "model_id": "69e3a6db6d7748b1a921b5239cd29da0",
       "version_major": 2,
       "version_minor": 0
      },
      "text/plain": [
       "Widget(value='<iframe src=\"http://localhost:63615/index.html?ui=P_0x39fd925d0_24&reconnect=auto\" class=\"pyvist…"
      ]
     },
     "metadata": {},
     "output_type": "display_data"
    }
   ],
   "source": [
    "body_surface = body_pointgrid.extract_surface()\n",
    "body_surface_points = pv.PolyData(body_surface.points)\n",
    "body_surface_points.plot(render_points_as_spheres=True, point_size=10,)"
   ]
  },
  {
   "cell_type": "code",
   "execution_count": 56,
   "metadata": {},
   "outputs": [
    {
     "data": {
      "application/vnd.jupyter.widget-view+json": {
       "model_id": "d667fb8f2c244a728a25f66274a59874",
       "version_major": 2,
       "version_minor": 0
      },
      "text/plain": [
       "Widget(value='<iframe src=\"http://localhost:63615/index.html?ui=P_0x3b5c78a90_25&reconnect=auto\" class=\"pyvist…"
      ]
     },
     "metadata": {},
     "output_type": "display_data"
    }
   ],
   "source": [
    "pv.PolyData(pv.voxelize(body_pointgrid.extract_surface(),density=0.1,check_surface=False).points).plot(render_points_as_spheres=True, point_size=10,)"
   ]
  }
 ],
 "metadata": {
  "kernelspec": {
   "display_name": ".venv",
   "language": "python",
   "name": "python3"
  },
  "language_info": {
   "codemirror_mode": {
    "name": "ipython",
    "version": 3
   },
   "file_extension": ".py",
   "mimetype": "text/x-python",
   "name": "python",
   "nbconvert_exporter": "python",
   "pygments_lexer": "ipython3",
   "version": "3.11.10"
  }
 },
 "nbformat": 4,
 "nbformat_minor": 2
}
