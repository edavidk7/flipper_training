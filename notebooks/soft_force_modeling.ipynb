{
 "cells": [
  {
   "cell_type": "code",
   "execution_count": null,
   "metadata": {},
   "outputs": [],
   "source": [
    "import torch\n",
    "import matplotlib.pyplot as plt"
   ]
  },
  {
   "cell_type": "code",
   "execution_count": null,
   "metadata": {},
   "outputs": [],
   "source": [
    "sp = torch.linspace(-5, 5, 1000)"
   ]
  },
  {
   "cell_type": "code",
   "execution_count": null,
   "metadata": {},
   "outputs": [],
   "source": [
    "sigmas = torch.tensor([0.1, 0.5, 1.0, 2.0])\n",
    "figure = plt.figure(figsize=(20, 6), dpi=100)\n",
    "for sigma in sigmas:\n",
    "    gelu = 0.5 * (1 + torch.tanh((-sp / sigma * (3**0.5))))\n",
    "    gelu = gelu.cpu().numpy()\n",
    "    plt.plot(sp.cpu().numpy(), gelu, label=f\"tanh approx with $\\sigma={sigma}$\")\n",
    "    plt.scatter([sigma], [1], color=\"red\", s=100, zorder=5)\n",
    "    sigmoid_temperature = sigma / (2 * 3**0.5)\n",
    "    sigmoid = torch.sigmoid(-sp / sigmoid_temperature)\n",
    "    sigmoid = sigmoid.cpu().numpy()\n",
    "    plt.plot(sp.cpu().numpy(), sigmoid, label=f\"sigmoid approx with $\\tau={sigmoid_temperature}$\")\n",
    "plt.title(\"Soft Step Function\")\n",
    "plt.xlabel(\"Input\")\n",
    "plt.ylabel(\"Output\")\n",
    "plt.legend()\n",
    "plt.grid()\n",
    "plt.show()"
   ]
  },
  {
   "cell_type": "code",
   "execution_count": null,
   "metadata": {},
   "outputs": [],
   "source": [
    "import lovely_tensors\n",
    "\n",
    "lovely_tensors.monkey_patch()"
   ]
  },
  {
   "cell_type": "code",
   "execution_count": null,
   "metadata": {},
   "outputs": [],
   "source": [
    "sigma = 0.01\n",
    "gelu = 0.5 * (1 + torch.tanh((-sp / sigma * (3**0.5))))\n",
    "sigmoid_temperature = sigma / (2 * 3**0.5)\n",
    "sigmoid = torch.sigmoid(-sp / sigmoid_temperature)\n",
    "plt.plot(sp.cpu().numpy(), gelu.cpu().numpy(), label=f\"tanh approx with $\\sigma={sigma}$\")\n",
    "plt.scatter([sigma], [1], color=\"red\", s=100, zorder=5)\n",
    "plt.plot(sp.cpu().numpy(), sigmoid.cpu().numpy(), label=f\"sigmoid approx with $\\tau={sigmoid_temperature}$\")\n",
    "plt.title(\"Soft Step Function\")\n",
    "plt.legend()\n",
    "plt.xlabel(\"Input\")\n",
    "print(torch.abs(gelu - sigmoid))"
   ]
  }
 ],
 "metadata": {
  "kernelspec": {
   "display_name": ".venv",
   "language": "python",
   "name": "python3"
  },
  "language_info": {
   "codemirror_mode": {
    "name": "ipython",
    "version": 3
   },
   "file_extension": ".py",
   "mimetype": "text/x-python",
   "name": "python",
   "nbconvert_exporter": "python",
   "pygments_lexer": "ipython3",
   "version": "3.12.10"
  }
 },
 "nbformat": 4,
 "nbformat_minor": 2
}
