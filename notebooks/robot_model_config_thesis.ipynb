{
 "cells": [
  {
   "cell_type": "code",
   "execution_count": 1,
   "metadata": {},
   "outputs": [],
   "source": [
    "%load_ext autoreload\n",
    "%autoreload 2"
   ]
  },
  {
   "cell_type": "code",
   "execution_count": 2,
   "metadata": {},
   "outputs": [
    {
     "name": "stderr",
     "output_type": "stream",
     "text": [
      "2025-05-09 15:16:15,170 [RobotModelConfig][\u001b[92mINFO\u001b[00m]: Loading robot model from cache: /Users/davidkorcak/Documents/ctu/bachelors/flipper_training/.robot_cache/marv_vx0.010_dp384_b512_whl0.02_trck0.05_eaecc2d5466de1eb8911703837d75c759b5c075158ced88ea318e932700dabb2 (robot_config.py:155)\n"
     ]
    }
   ],
   "source": [
    "from flipper_training.configs.robot_config import RobotModelConfig\n",
    "\n",
    "marv_config = {\n",
    "    \"kind\": \"marv\",\n",
    "    \"mesh_voxel_size\": 0.01,\n",
    "    \"points_per_driving_part\": 384,\n",
    "    \"points_per_body\": 512,\n",
    "    \"wheel_assignment_margin\": 0.02,\n",
    "    \"linear_track_assignment_margin\": 0.05,\n",
    "}\n",
    "\n",
    "marv = RobotModelConfig(**marv_config)"
   ]
  },
  {
   "cell_type": "code",
   "execution_count": 3,
   "metadata": {},
   "outputs": [
    {
     "name": "stdout",
     "output_type": "stream",
     "text": [
      "driving_direction: torch.Size([3])\n",
      "body_bbox: torch.Size([6])\n",
      "driving_part_bboxes: torch.Size([4, 6])\n",
      "driving_part_masses: torch.Size([4])\n",
      "joint_positions: torch.Size([4, 3])\n",
      "joint_limits: torch.Size([2, 4])\n",
      "joint_max_pivot_vels: torch.Size([4])\n",
      "driving_part_points: torch.Size([4, 384, 3])\n",
      "driving_part_inertias: torch.Size([4, 3, 3])\n",
      "driving_part_cogs: torch.Size([4, 3])\n",
      "body_points: torch.Size([512, 3])\n",
      "body_inertia: torch.Size([3, 3])\n",
      "body_cog: torch.Size([3])\n",
      "thrust_directions: torch.Size([4, 384, 3])\n",
      "joint_local_driving_part_pts: torch.Size([4, 384, 3])\n",
      "joint_local_driving_part_cogs: torch.Size([4, 3])\n",
      "RobotModelConfig for marv\n",
      "Total mass: 67.8\n"
     ]
    },
    {
     "data": {
      "application/vnd.jupyter.widget-view+json": {
       "model_id": "ca1ef155f1df41658475c10771aca230",
       "version_major": 2,
       "version_minor": 0
      },
      "text/plain": [
       "Widget(value='<iframe src=\"http://localhost:65114/index.html?ui=P_0x31823ee40_0&reconnect=auto\" class=\"pyvista…"
      ]
     },
     "metadata": {},
     "output_type": "display_data"
    }
   ],
   "source": [
    "marv.visualize_robot()"
   ]
  },
  {
   "cell_type": "code",
   "execution_count": 5,
   "metadata": {},
   "outputs": [
    {
     "data": {
      "application/vnd.jupyter.widget-view+json": {
       "model_id": "4978fcb1fbae4be090fbcbe3578605f0",
       "version_major": 2,
       "version_minor": 0
      },
      "text/plain": [
       "Widget(value='<iframe src=\"http://localhost:65114/index.html?ui=P_0x31d39f680_2&reconnect=auto\" class=\"pyvista…"
      ]
     },
     "metadata": {},
     "output_type": "display_data"
    }
   ],
   "source": [
    "import pyvista as pv\n",
    "\n",
    "\n",
    "def visualize_robot(\n",
    "    self,\n",
    "    grid_size: float = 1.0,\n",
    "    grid_spacing: float = 0.1,\n",
    "    return_plotter: bool = False,\n",
    ") -> None:\n",
    "    \"\"\"\n",
    "    Visualizes the robot in 3D using PyVista.\n",
    "\n",
    "    Parameters:\n",
    "        grid_size (float): Size of the grid.\n",
    "        grid_spacing (float): Spacing of the grid.\n",
    "        return_plotter (bool): Return the plotter object.\n",
    "        jupyter_backend (str): Jupyter backend.\n",
    "    \"\"\"\n",
    "    body_points = self.body_points.cpu().numpy()\n",
    "    driving_part_points = self.driving_part_points.cpu().numpy()\n",
    "    plotter = pv.Plotter(window_size=(814, 493))\n",
    "    for i in range(self.num_driving_parts):\n",
    "        driving_part_pcd = pv.PolyData(driving_part_points[i])\n",
    "        plotter.add_mesh(driving_part_pcd, point_size=5, render_points_as_spheres=True)\n",
    "    body_pcd = pv.PolyData(body_points)\n",
    "    plotter.add_mesh(body_pcd, point_size=5, render_points_as_spheres=True)\n",
    "    plotter.show_axes()\n",
    "    plotter.show()\n",
    "\n",
    "\n",
    "visualize_robot(marv)"
   ]
  }
 ],
 "metadata": {
  "kernelspec": {
   "display_name": ".venv",
   "language": "python",
   "name": "python3"
  },
  "language_info": {
   "codemirror_mode": {
    "name": "ipython",
    "version": 3
   },
   "file_extension": ".py",
   "mimetype": "text/x-python",
   "name": "python",
   "nbconvert_exporter": "python",
   "pygments_lexer": "ipython3",
   "version": "3.12.10"
  }
 },
 "nbformat": 4,
 "nbformat_minor": 2
}
