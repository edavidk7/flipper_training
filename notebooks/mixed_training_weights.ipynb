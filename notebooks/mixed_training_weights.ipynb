{
 "cells": [
  {
   "cell_type": "code",
   "execution_count": 1,
   "id": "5ba0aa89",
   "metadata": {},
   "outputs": [],
   "source": [
    "%load_ext autoreload\n",
    "%autoreload 2\n",
    "from pathlib import Path\n",
    "import matplotlib.pyplot as plt\n",
    "import pickle"
   ]
  },
  {
   "cell_type": "code",
   "execution_count": 2,
   "id": "4671991a",
   "metadata": {},
   "outputs": [],
   "source": [
    "eval_results_dir = \"../cross_eval_results\"\n",
    "eval_results_dir = Path(eval_results_dir)"
   ]
  },
  {
   "cell_type": "code",
   "execution_count": 3,
   "id": "d7dedde7",
   "metadata": {},
   "outputs": [],
   "source": [
    "train_env_to_run_map = {\n",
    "    \"trunk\": \"final_trunk_thesis_training_42_policy_final\",\n",
    "    \"stairs\": \"final_stairs_from_scratch_thesis_16_policy_final\",\n",
    "    \"barrier\": \"final_barrier_thesis_42_policy_final\",\n",
    "    \"gauss_fine\": \"final_fine_gaussian_terrain_thesis_98_policy_final\",\n",
    "    \"gauss_coarse\": \"final_coarse_gaussian_terrain_thesis_98_policy_final\",\n",
    "}"
   ]
  },
  {
   "cell_type": "code",
   "execution_count": 4,
   "id": "1960d37d",
   "metadata": {},
   "outputs": [],
   "source": [
    "def list_of_dicts_to_dict_of_lists(list_of_dicts):\n",
    "    \"\"\"\n",
    "    Convert a list of dictionaries to a dictionary of lists.\n",
    "    \"\"\"\n",
    "    dict_of_lists = {}\n",
    "    for d in list_of_dicts:\n",
    "        for k, v in d.items():\n",
    "            if k not in dict_of_lists:\n",
    "                dict_of_lists[k] = []\n",
    "            dict_of_lists[k].append(v)\n",
    "    return dict_of_lists"
   ]
  },
  {
   "cell_type": "code",
   "execution_count": 29,
   "id": "726d5389",
   "metadata": {},
   "outputs": [
    {
     "data": {
      "text/plain": [
       "(dict_keys(['trunk', 'stairs', 'barrier', 'gauss_fine', 'gauss_coarse']),\n",
       " dict_keys(['trunk', 'stairs', 'barrier', 'gauss_fine', 'gauss_coarse']))"
      ]
     },
     "execution_count": 29,
     "metadata": {},
     "output_type": "execute_result"
    }
   ],
   "source": [
    "from collections import defaultdict\n",
    "results_per_env_easy = defaultdict(dict)\n",
    "results_per_env_hard = defaultdict(dict)\n",
    "for train_env, run_name in train_env_to_run_map.items():\n",
    "    run_dir = eval_results_dir / run_name\n",
    "    for res in run_dir.glob(\"*.pkl\"):\n",
    "        if \"easy\" in res.stem:\n",
    "            with open(res, \"rb\") as f:\n",
    "                eval_env = res.stem\n",
    "                results_per_env_easy[train_env][eval_env] = list_of_dicts_to_dict_of_lists(pickle.load(f))\n",
    "        elif \"hard\" in res.stem:\n",
    "            with open(res, \"rb\") as f:\n",
    "                eval_env = res.stem\n",
    "                results_per_env_hard[train_env][eval_env] = list_of_dicts_to_dict_of_lists(pickle.load(f))\n",
    "\n",
    "results_per_env_easy.keys(), results_per_env_hard.keys()"
   ]
  },
  {
   "cell_type": "code",
   "execution_count": 30,
   "id": "0d7f4a0c",
   "metadata": {},
   "outputs": [],
   "source": [
    "success_key = \"eval/pct_succeeded\""
   ]
  },
  {
   "cell_type": "code",
   "execution_count": 33,
   "id": "845daae8",
   "metadata": {},
   "outputs": [],
   "source": [
    "import pandas as pd\n",
    "import numpy as np  \n",
    "\n",
    "mean_success_per_env_easy = {}\n",
    "mean_success_per_env_hard = {}\n",
    "\n",
    "for train_env in results_per_env_easy.keys():\n",
    "    mean_success_per_env_easy[train_env] = {}\n",
    "    for eval_env in map(lambda x: f\"{x}_easy\", results_per_env_easy.keys()):\n",
    "        results = results_per_env_easy[train_env][eval_env]\n",
    "        mean_success_per_env_easy[train_env][eval_env] = np.mean(results[success_key])\n",
    "        \n",
    "for train_env in results_per_env_hard.keys():\n",
    "    mean_success_per_env_hard[train_env] = {}\n",
    "    for eval_env in map(lambda x: f\"{x}_hard\", results_per_env_hard.keys()):\n",
    "        results = results_per_env_hard[train_env][eval_env]\n",
    "        mean_success_per_env_hard[train_env][eval_env] = np.mean(results[success_key])\n",
    "\n",
    "\n",
    "mean_success_per_env_easy_df = pd.DataFrame(mean_success_per_env_easy).T\n",
    "mean_success_per_env_hard_df = pd.DataFrame(mean_success_per_env_hard).T"
   ]
  },
  {
   "cell_type": "code",
   "execution_count": 48,
   "id": "c4af7dad",
   "metadata": {},
   "outputs": [
    {
     "data": {
      "text/html": [
       "<div>\n",
       "<style scoped>\n",
       "    .dataframe tbody tr th:only-of-type {\n",
       "        vertical-align: middle;\n",
       "    }\n",
       "\n",
       "    .dataframe tbody tr th {\n",
       "        vertical-align: top;\n",
       "    }\n",
       "\n",
       "    .dataframe thead th {\n",
       "        text-align: right;\n",
       "    }\n",
       "</style>\n",
       "<table border=\"1\" class=\"dataframe\">\n",
       "  <thead>\n",
       "    <tr style=\"text-align: right;\">\n",
       "      <th></th>\n",
       "      <th>trunk_easy</th>\n",
       "      <th>stairs_easy</th>\n",
       "      <th>barrier_easy</th>\n",
       "      <th>gauss_fine_easy</th>\n",
       "      <th>gauss_coarse_easy</th>\n",
       "    </tr>\n",
       "  </thead>\n",
       "  <tbody>\n",
       "    <tr>\n",
       "      <th>trunk</th>\n",
       "      <td>0.995833</td>\n",
       "      <td>0.850000</td>\n",
       "      <td>0.762500</td>\n",
       "      <td>0.379167</td>\n",
       "      <td>0.516667</td>\n",
       "    </tr>\n",
       "    <tr>\n",
       "      <th>stairs</th>\n",
       "      <td>0.000000</td>\n",
       "      <td>0.356250</td>\n",
       "      <td>0.027083</td>\n",
       "      <td>0.022917</td>\n",
       "      <td>0.064583</td>\n",
       "    </tr>\n",
       "    <tr>\n",
       "      <th>barrier</th>\n",
       "      <td>0.014583</td>\n",
       "      <td>0.460417</td>\n",
       "      <td>0.981250</td>\n",
       "      <td>0.356250</td>\n",
       "      <td>0.277083</td>\n",
       "    </tr>\n",
       "    <tr>\n",
       "      <th>gauss_fine</th>\n",
       "      <td>0.881250</td>\n",
       "      <td>0.666667</td>\n",
       "      <td>0.764583</td>\n",
       "      <td>0.902083</td>\n",
       "      <td>0.756250</td>\n",
       "    </tr>\n",
       "    <tr>\n",
       "      <th>gauss_coarse</th>\n",
       "      <td>0.977083</td>\n",
       "      <td>0.847917</td>\n",
       "      <td>0.837500</td>\n",
       "      <td>0.839583</td>\n",
       "      <td>0.943750</td>\n",
       "    </tr>\n",
       "  </tbody>\n",
       "</table>\n",
       "</div>"
      ],
      "text/plain": [
       "              trunk_easy  stairs_easy  barrier_easy  gauss_fine_easy  \\\n",
       "trunk           0.995833     0.850000      0.762500         0.379167   \n",
       "stairs          0.000000     0.356250      0.027083         0.022917   \n",
       "barrier         0.014583     0.460417      0.981250         0.356250   \n",
       "gauss_fine      0.881250     0.666667      0.764583         0.902083   \n",
       "gauss_coarse    0.977083     0.847917      0.837500         0.839583   \n",
       "\n",
       "              gauss_coarse_easy  \n",
       "trunk                  0.516667  \n",
       "stairs                 0.064583  \n",
       "barrier                0.277083  \n",
       "gauss_fine             0.756250  \n",
       "gauss_coarse           0.943750  "
      ]
     },
     "execution_count": 48,
     "metadata": {},
     "output_type": "execute_result"
    }
   ],
   "source": [
    "mean_success_per_env_easy_df  "
   ]
  },
  {
   "cell_type": "code",
   "execution_count": 56,
   "id": "41b36749",
   "metadata": {},
   "outputs": [
    {
     "data": {
      "text/html": [
       "<div>\n",
       "<style scoped>\n",
       "    .dataframe tbody tr th:only-of-type {\n",
       "        vertical-align: middle;\n",
       "    }\n",
       "\n",
       "    .dataframe tbody tr th {\n",
       "        vertical-align: top;\n",
       "    }\n",
       "\n",
       "    .dataframe thead th {\n",
       "        text-align: right;\n",
       "    }\n",
       "</style>\n",
       "<table border=\"1\" class=\"dataframe\">\n",
       "  <thead>\n",
       "    <tr style=\"text-align: right;\">\n",
       "      <th></th>\n",
       "      <th>trunk_hard</th>\n",
       "      <th>stairs_hard</th>\n",
       "      <th>barrier_hard</th>\n",
       "      <th>gauss_fine_hard</th>\n",
       "      <th>gauss_coarse_hard</th>\n",
       "    </tr>\n",
       "  </thead>\n",
       "  <tbody>\n",
       "    <tr>\n",
       "      <th>trunk</th>\n",
       "      <td>0.895833</td>\n",
       "      <td>0.245833</td>\n",
       "      <td>0.291667</td>\n",
       "      <td>0.037500</td>\n",
       "      <td>0.189583</td>\n",
       "    </tr>\n",
       "    <tr>\n",
       "      <th>stairs</th>\n",
       "      <td>0.000000</td>\n",
       "      <td>0.189583</td>\n",
       "      <td>0.041667</td>\n",
       "      <td>0.000000</td>\n",
       "      <td>0.029167</td>\n",
       "    </tr>\n",
       "    <tr>\n",
       "      <th>barrier</th>\n",
       "      <td>0.000000</td>\n",
       "      <td>0.227083</td>\n",
       "      <td>0.504167</td>\n",
       "      <td>0.008333</td>\n",
       "      <td>0.212500</td>\n",
       "    </tr>\n",
       "    <tr>\n",
       "      <th>gauss_fine</th>\n",
       "      <td>0.322917</td>\n",
       "      <td>0.214583</td>\n",
       "      <td>0.164583</td>\n",
       "      <td>0.137500</td>\n",
       "      <td>0.531250</td>\n",
       "    </tr>\n",
       "    <tr>\n",
       "      <th>gauss_coarse</th>\n",
       "      <td>0.729167</td>\n",
       "      <td>0.375000</td>\n",
       "      <td>0.335417</td>\n",
       "      <td>0.116667</td>\n",
       "      <td>0.737500</td>\n",
       "    </tr>\n",
       "  </tbody>\n",
       "</table>\n",
       "</div>"
      ],
      "text/plain": [
       "              trunk_hard  stairs_hard  barrier_hard  gauss_fine_hard  \\\n",
       "trunk           0.895833     0.245833      0.291667         0.037500   \n",
       "stairs          0.000000     0.189583      0.041667         0.000000   \n",
       "barrier         0.000000     0.227083      0.504167         0.008333   \n",
       "gauss_fine      0.322917     0.214583      0.164583         0.137500   \n",
       "gauss_coarse    0.729167     0.375000      0.335417         0.116667   \n",
       "\n",
       "              gauss_coarse_hard  \n",
       "trunk                  0.189583  \n",
       "stairs                 0.029167  \n",
       "barrier                0.212500  \n",
       "gauss_fine             0.531250  \n",
       "gauss_coarse           0.737500  "
      ]
     },
     "execution_count": 56,
     "metadata": {},
     "output_type": "execute_result"
    }
   ],
   "source": [
    "mean_success_per_env_hard_df    "
   ]
  },
  {
   "cell_type": "code",
   "execution_count": 53,
   "id": "7afc7934",
   "metadata": {},
   "outputs": [
    {
     "data": {
      "text/plain": [
       "trunk           0.243478\n",
       "stairs          0.011122\n",
       "barrier         0.107583\n",
       "gauss_fine      0.297877\n",
       "gauss_coarse    0.339939\n",
       "dtype: float64"
      ]
     },
     "execution_count": 53,
     "metadata": {},
     "output_type": "execute_result"
    }
   ],
   "source": [
    "# process the easy dataframe\n",
    "# 1. compute the mean success rate of policies not trained on this env\n",
    "non_specialist_succ = mean_success_per_env_easy_df.copy()\n",
    "for i in range(len(non_specialist_succ)):\n",
    "    non_specialist_succ.iloc[i, i] = 0.0\n",
    "non_specialist_rates = non_specialist_succ.sum(axis=1) / (len(non_specialist_succ.columns) - 1)\n",
    "# 2. compute the non-specialist success rate\n",
    "sampling_rates_easy = non_specialist_rates / non_specialist_rates.sum()\n",
    "sampling_rates_easy"
   ]
  },
  {
   "cell_type": "code",
   "execution_count": 55,
   "id": "2ed1e70d",
   "metadata": {},
   "outputs": [
    {
     "data": {
      "text/plain": [
       "trunk           0.187724\n",
       "stairs          0.017391\n",
       "barrier         0.109974\n",
       "gauss_fine      0.302813\n",
       "gauss_coarse    0.382097\n",
       "dtype: float64"
      ]
     },
     "execution_count": 55,
     "metadata": {},
     "output_type": "execute_result"
    }
   ],
   "source": [
    "# process the hard dataframe\n",
    "# 1. compute the mean success rate of policies not trained on this env\n",
    "non_specialist_succ_hard = mean_success_per_env_hard_df.copy()\n",
    "for i in range(len(non_specialist_succ_hard)):\n",
    "    non_specialist_succ_hard.iloc[i, i] = 0.0\n",
    "non_specialist_rates_hard = non_specialist_succ_hard.sum(axis=1) / (len(non_specialist_succ_hard.columns) - 1)\n",
    "# 2. compute the non-specialist success rate\n",
    "sampling_rates_hard = non_specialist_rates_hard / non_specialist_rates_hard.sum()\n",
    "sampling_rates_hard"
   ]
  },
  {
   "cell_type": "code",
   "execution_count": 57,
   "id": "07cc2dc4",
   "metadata": {},
   "outputs": [
    {
     "data": {
      "text/plain": [
       "trunk           0.215601\n",
       "stairs          0.014257\n",
       "barrier         0.108779\n",
       "gauss_fine      0.300345\n",
       "gauss_coarse    0.361018\n",
       "dtype: float64"
      ]
     },
     "execution_count": 57,
     "metadata": {},
     "output_type": "execute_result"
    }
   ],
   "source": [
    "final_sampling_rates = (sampling_rates_easy + sampling_rates_hard) / 2\n",
    "final_sampling_rates"
   ]
  }
 ],
 "metadata": {
  "kernelspec": {
   "display_name": ".venv",
   "language": "python",
   "name": "python3"
  },
  "language_info": {
   "codemirror_mode": {
    "name": "ipython",
    "version": 3
   },
   "file_extension": ".py",
   "mimetype": "text/x-python",
   "name": "python",
   "nbconvert_exporter": "python",
   "pygments_lexer": "ipython3",
   "version": "3.12.9"
  }
 },
 "nbformat": 4,
 "nbformat_minor": 5
}
