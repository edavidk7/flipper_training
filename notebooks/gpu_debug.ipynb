{
 "cells": [
  {
   "cell_type": "code",
   "execution_count": 15,
   "id": "945dfe12",
   "metadata": {},
   "outputs": [
    {
     "name": "stdout",
     "output_type": "stream",
     "text": [
      "The autoreload extension is already loaded. To reload it, use:\n",
      "  %reload_ext autoreload\n"
     ]
    }
   ],
   "source": [
    "%load_ext autoreload\n",
    "%autoreload 3"
   ]
  },
  {
   "cell_type": "code",
   "execution_count": 16,
   "id": "4c2e16fc",
   "metadata": {},
   "outputs": [
    {
     "name": "stdout",
     "output_type": "stream",
     "text": [
      "env: TORCH_LOGS=dynamo\n",
      "env: TORCHDYNAMO_VERBOSE=1\n"
     ]
    }
   ],
   "source": [
    "%env TORCH_LOGS=dynamo \n",
    "%env TORCHDYNAMO_VERBOSE=1"
   ]
  },
  {
   "cell_type": "code",
   "execution_count": 17,
   "id": "a1c3e6f7",
   "metadata": {},
   "outputs": [],
   "source": [
    "import torch\n",
    "import matplotlib.pyplot as plt\n",
    "from flipper_training.configs import (\n",
    "    TerrainConfig,\n",
    "    RobotModelConfig,\n",
    "    PhysicsEngineConfig,\n",
    ")\n",
    "from flipper_training.engine.engine import DPhysicsEngine, PhysicsState\n",
    "from flipper_training.utils.dynamics import *\n",
    "from flipper_training.utils.geometry import *\n",
    "from flipper_training.utils.environment import *\n",
    "from flipper_training.utils.numerical import *\n",
    "from collections import deque\n",
    "from copy import deepcopy\n",
    "from tqdm import tqdm, trange"
   ]
  },
  {
   "cell_type": "code",
   "execution_count": 18,
   "id": "e73e3389",
   "metadata": {},
   "outputs": [],
   "source": [
    "from flipper_training.utils.torch_utils import set_device"
   ]
  },
  {
   "cell_type": "code",
   "execution_count": 19,
   "id": "34c26dac",
   "metadata": {},
   "outputs": [
    {
     "data": {
      "text/plain": [
       "<torch._C.Generator at 0x7fe3ddd6dd30>"
      ]
     },
     "execution_count": 19,
     "metadata": {},
     "output_type": "execute_result"
    }
   ],
   "source": [
    "torch.random.manual_seed(420)"
   ]
  },
  {
   "cell_type": "code",
   "execution_count": 20,
   "id": "805b854e",
   "metadata": {},
   "outputs": [],
   "source": [
    "num_robots = 128"
   ]
  },
  {
   "cell_type": "code",
   "execution_count": 21,
   "id": "39d203ad",
   "metadata": {},
   "outputs": [],
   "source": [
    "# Heightmap setup - use torch's XY indexing !!!!!\n",
    "grid_res = 0.05  # 5cm per grid cell\n",
    "max_coord = 3.2  # meters\n",
    "DIM = int(2 * max_coord / grid_res)\n",
    "xint = torch.linspace(-max_coord, max_coord, DIM)\n",
    "yint = torch.linspace(-max_coord, max_coord, DIM)\n",
    "x, y = torch.meshgrid(xint, yint, indexing=\"xy\")\n",
    "z = torch.zeros_like(x)\n",
    "for thresh in [1.0, 0, -1.0, -2]:\n",
    "    z[torch.logical_and(x > -thresh, y < thresh)] += 0.2\n",
    "x_grid = x.repeat(num_robots, 1, 1)\n",
    "y_grid = y.repeat(num_robots, 1, 1)\n",
    "z_grid = z.repeat(num_robots, 1, 1)"
   ]
  },
  {
   "cell_type": "code",
   "execution_count": 22,
   "id": "de4c5421",
   "metadata": {},
   "outputs": [
    {
     "name": "stderr",
     "output_type": "stream",
     "text": [
      "2025-04-29 22:20:36,352 [RobotModelConfig][\u001b[92mINFO\u001b[00m]: Loading robot model from cache: /mnt/personal/korcadav/flipper_training/.robot_cache/marv_vx0.010_dp384_b512_whl0.02_trck0.05_eaecc2d5466de1eb8911703837d75c759b5c075158ced88ea318e932700dabb2 (robot_config.py:155)\n",
      "2025-04-29 22:20:36,352 [RobotModelConfig][\u001b[92mINFO\u001b[00m]: Loading robot model from cache: /mnt/personal/korcadav/flipper_training/.robot_cache/marv_vx0.010_dp384_b512_whl0.02_trck0.05_eaecc2d5466de1eb8911703837d75c759b5c075158ced88ea318e932700dabb2 (robot_config.py:155)\n"
     ]
    }
   ],
   "source": [
    "# Instatiate the physics config\n",
    "robot_model = RobotModelConfig(kind=\"marv\", points_per_driving_part=384, points_per_body=512)\n",
    "world_config = TerrainConfig(\n",
    "    x_grid=x_grid,\n",
    "    y_grid=y_grid,\n",
    "    z_grid=z_grid,\n",
    "    grid_res=grid_res,\n",
    "    max_coord=max_coord,\n",
    "    k_stiffness=40000,\n",
    "    k_friction_lat=0.5,\n",
    "    k_friction_lon=0.8,\n",
    ")\n",
    "physics_config = PhysicsEngineConfig(num_robots=num_robots, damping_alpha=5.0, dt=0.005)"
   ]
  },
  {
   "cell_type": "code",
   "execution_count": 23,
   "id": "fc17f7c6",
   "metadata": {},
   "outputs": [],
   "source": [
    "compile_opts = {\n",
    "    \"fullgraph\": True,\n",
    "    \"options\": {\n",
    "        \"triton.cudagraphs\": True,\n",
    "        \"coordinate_descent_tuning\": True,\n",
    "        # \"max-autotune\": True,\n",
    "    },\n",
    "}"
   ]
  },
  {
   "cell_type": "code",
   "execution_count": 24,
   "id": "2ab19341",
   "metadata": {},
   "outputs": [],
   "source": [
    "from flipper_training.utils.geometry import euler_to_quaternion\n",
    "\n",
    "num_steps = 1000\n",
    "x0 = torch.tensor([[-2.5, -2.5, 0.400]]).repeat(num_robots, 1)\n",
    "xd0 = torch.zeros_like(x0)\n",
    "q0 = euler_to_quaternion(*torch.tensor([0, 0, 1.0 * torch.pi])).repeat(num_robots, 1)\n",
    "omega0 = torch.zeros_like(x0)\n",
    "thetas0 = torch.zeros((num_robots, robot_model.num_driving_parts))\n",
    "controls_all = torch.rand((num_robots, 2 * robot_model.num_driving_parts))"
   ]
  },
  {
   "cell_type": "code",
   "execution_count": 25,
   "id": "510273d5",
   "metadata": {},
   "outputs": [],
   "source": [
    "init_state = PhysicsState(x0, xd0, q0, omega0, thetas0)"
   ]
  },
  {
   "cell_type": "code",
   "execution_count": 26,
   "id": "77444793",
   "metadata": {},
   "outputs": [
    {
     "name": "stderr",
     "output_type": "stream",
     "text": [
      "I0429 22:20:36.824000 83085 torch/_dynamo/symbolic_convert.py:2706] [0/3] Step 1: torchdynamo start tracing forward /mnt/personal/korcadav/flipper_training/flipper_training/engine/engine.py:27\n",
      "I0429 22:20:36.826000 83085 torch/fx/experimental/symbolic_shapes.py:3192] [0/3] create_env\n"
     ]
    },
    {
     "name": "stdout",
     "output_type": "stream",
     "text": [
      "Running on cuda:0\n"
     ]
    },
    {
     "name": "stderr",
     "output_type": "stream",
     "text": [
      "I0429 22:20:37.555000 83085 torch/_dynamo/symbolic_convert.py:3028] [0/3] Step 1: torchdynamo done tracing forward (RETURN_VALUE)\n",
      "I0429 22:20:37.576000 83085 torch/_dynamo/output_graph.py:1458] [0/3] Step 2: calling compiler function inductor\n",
      "I0429 22:20:44.339000 83085 torch/fx/experimental/symbolic_shapes.py:4547] [0/3] produce_guards\n",
      "I0429 22:20:44.377000 83085 torch/_dynamo/output_graph.py:1463] [0/3] Step 2: done compiler function inductor\n",
      "I0429 22:20:44.423000 83085 torch/fx/experimental/symbolic_shapes.py:4547] [0/3] produce_guards\n",
      "I0429 22:20:44.447000 83085 torch/_dynamo/pgo.py:636] [0/3] put_code_state: no cache key, skipping\n",
      "Trajectory on cuda:0: 100%|██████████| 1000/1000 [00:02<00:00, 481.18it/s]\n",
      "I0429 22:21:01.338000 83085 torch/_dynamo/symbolic_convert.py:2706] [0/4] Step 1: torchdynamo start tracing forward /mnt/personal/korcadav/flipper_training/flipper_training/engine/engine.py:27\n",
      "I0429 22:21:01.340000 83085 torch/fx/experimental/symbolic_shapes.py:3192] [0/4] create_env\n"
     ]
    },
    {
     "name": "stdout",
     "output_type": "stream",
     "text": [
      "Running on cuda:1\n"
     ]
    },
    {
     "name": "stderr",
     "output_type": "stream",
     "text": [
      "I0429 22:21:02.054000 83085 torch/_dynamo/symbolic_convert.py:3028] [0/4] Step 1: torchdynamo done tracing forward (RETURN_VALUE)\n",
      "I0429 22:21:02.076000 83085 torch/_dynamo/output_graph.py:1458] [0/4] Step 2: calling compiler function inductor\n",
      "I0429 22:21:07.666000 83085 torch/fx/experimental/symbolic_shapes.py:4547] [0/4] produce_guards\n",
      "I0429 22:21:07.701000 83085 torch/_dynamo/output_graph.py:1463] [0/4] Step 2: done compiler function inductor\n",
      "I0429 22:21:07.748000 83085 torch/fx/experimental/symbolic_shapes.py:4547] [0/4] produce_guards\n",
      "I0429 22:21:07.771000 83085 torch/_dynamo/pgo.py:636] [0/4] put_code_state: no cache key, skipping\n",
      "Trajectory on cuda:1: 100%|██████████| 1000/1000 [00:01<00:00, 566.40it/s]\n",
      "I0429 22:21:20.644000 83085 torch/_dynamo/symbolic_convert.py:2706] [0/5] Step 1: torchdynamo start tracing forward /mnt/personal/korcadav/flipper_training/flipper_training/engine/engine.py:27\n",
      "I0429 22:21:20.645000 83085 torch/fx/experimental/symbolic_shapes.py:3192] [0/5] create_env\n"
     ]
    },
    {
     "name": "stdout",
     "output_type": "stream",
     "text": [
      "Running on cuda:2\n"
     ]
    },
    {
     "name": "stderr",
     "output_type": "stream",
     "text": [
      "I0429 22:21:21.355000 83085 torch/_dynamo/symbolic_convert.py:3028] [0/5] Step 1: torchdynamo done tracing forward (RETURN_VALUE)\n",
      "I0429 22:21:21.376000 83085 torch/_dynamo/output_graph.py:1458] [0/5] Step 2: calling compiler function inductor\n",
      "I0429 22:21:26.965000 83085 torch/fx/experimental/symbolic_shapes.py:4547] [0/5] produce_guards\n",
      "I0429 22:21:26.999000 83085 torch/_dynamo/output_graph.py:1463] [0/5] Step 2: done compiler function inductor\n",
      "I0429 22:21:27.048000 83085 torch/fx/experimental/symbolic_shapes.py:4547] [0/5] produce_guards\n",
      "I0429 22:21:27.072000 83085 torch/_dynamo/pgo.py:636] [0/5] put_code_state: no cache key, skipping\n",
      "Trajectory on cuda:2: 100%|██████████| 1000/1000 [00:01<00:00, 551.09it/s]\n"
     ]
    }
   ],
   "source": [
    "trajectories = {}\n",
    "\n",
    "for i in range(3):\n",
    "    device_str = f\"cuda:{i}\"\n",
    "    print(f\"Running on {device_str}\")\n",
    "    device = set_device(device_str)\n",
    "    world_config.to(device)\n",
    "    robot_model.to(device)\n",
    "    engine = DPhysicsEngine(physics_config, robot_model, device)\n",
    "    engine.compile(**compile_opts)\n",
    "    comp_state = deepcopy(init_state).to(device)\n",
    "    comp_controls = torch.zeros((num_robots, 2 * robot_model.num_driving_parts)).to(device)\n",
    "    engine(comp_state, comp_controls, world_config)\n",
    "    state = deepcopy(init_state).to(device)\n",
    "    traj = []\n",
    "    for _ in trange(num_steps, desc=f\"Trajectory on {device_str}\"):\n",
    "        next_state, state_der = engine(state, comp_controls, world_config)\n",
    "        next_state = deepcopy(next_state)\n",
    "        state_der = deepcopy(state_der)\n",
    "        traj.append((state.cpu(), state_der.cpu()))\n",
    "        state = next_state\n",
    "    trajectories[device_str] = traj"
   ]
  },
  {
   "cell_type": "code",
   "execution_count": 27,
   "id": "be09cfe3",
   "metadata": {},
   "outputs": [],
   "source": [
    "atol = 1e-5"
   ]
  },
  {
   "cell_type": "code",
   "execution_count": 28,
   "id": "57d11fb8",
   "metadata": {},
   "outputs": [
    {
     "name": "stdout",
     "output_type": "stream",
     "text": [
      "State Derivative torque diff 1.1444091796875e-05 between cuda:0 and cuda:1 at step 51\n",
      "State Derivative torque diff 1.1444091796875e-05 between cuda:1 and cuda:2 at step 51\n",
      "State Derivative torque diff 1.1444091796875e-05 between cuda:0 and cuda:1 at step 52\n",
      "State Derivative torque diff 1.1444091796875e-05 between cuda:1 and cuda:2 at step 52\n",
      "State Derivative f_spring diff 1.2874603271484375e-05 between cuda:0 and cuda:1 at step 55\n",
      "State Derivative f_spring diff 1.2874603271484375e-05 between cuda:1 and cuda:2 at step 55\n",
      "State Derivative f_spring diff 1.52587890625e-05 between cuda:0 and cuda:1 at step 58\n",
      "State Derivative torque diff 1.1444091796875e-05 between cuda:0 and cuda:2 at step 58\n",
      "State Derivative f_spring diff 1.52587890625e-05 between cuda:1 and cuda:2 at step 58\n",
      "State Derivative torque diff 1.33514404296875e-05 between cuda:1 and cuda:2 at step 58\n",
      "State Derivative torque diff 1.1444091796875e-05 between cuda:0 and cuda:1 at step 59\n",
      "State Derivative torque diff 1.52587890625e-05 between cuda:1 and cuda:2 at step 59\n",
      "State Derivative f_spring diff 2.47955322265625e-05 between cuda:0 and cuda:1 at step 64\n",
      "State Derivative f_spring diff 1.9073486328125e-05 between cuda:1 and cuda:2 at step 64\n",
      "State Derivative f_spring diff 2.288818359375e-05 between cuda:0 and cuda:1 at step 66\n",
      "State Derivative f_spring diff 2.193450927734375e-05 between cuda:0 and cuda:2 at step 66\n",
      "State Derivative torque diff 1.33514404296875e-05 between cuda:0 and cuda:2 at step 66\n",
      "State Derivative torque diff 1.33514404296875e-05 between cuda:1 and cuda:2 at step 67\n",
      "State Derivative torque diff 1.1444091796875e-05 between cuda:0 and cuda:1 at step 68\n",
      "State Derivative f_spring diff 1.049041748046875e-05 between cuda:1 and cuda:2 at step 68\n",
      "State Derivative torque diff 1.52587890625e-05 between cuda:0 and cuda:2 at step 85\n",
      "State Derivative torque diff 1.049041748046875e-05 between cuda:0 and cuda:1 at step 102\n",
      "State Derivative torque diff 1.1444091796875e-05 between cuda:0 and cuda:1 at step 109\n",
      "State Derivative torque diff 1.049041748046875e-05 between cuda:0 and cuda:1 at step 111\n",
      "State Derivative torque diff 1.430511474609375e-05 between cuda:0 and cuda:1 at step 113\n",
      "State Derivative torque diff 1.0013580322265625e-05 between cuda:0 and cuda:1 at step 118\n",
      "State Derivative torque diff 1.0013580322265625e-05 between cuda:0 and cuda:2 at step 118\n",
      "State Derivative xdd diff 1.1682510375976562e-05 between cuda:0 and cuda:1 at step 174\n",
      "State Derivative xdd diff 1.0788440704345703e-05 between cuda:0 and cuda:2 at step 174\n",
      "State Derivative torque diff 1.1444091796875e-05 between cuda:0 and cuda:1 at step 196\n",
      "State Derivative torque diff 1.1444091796875e-05 between cuda:0 and cuda:1 at step 227\n",
      "State Derivative torque diff 1.1444091796875e-05 between cuda:0 and cuda:2 at step 227\n",
      "State Derivative torque diff 1.1444091796875e-05 between cuda:0 and cuda:2 at step 335\n",
      "State Derivative torque diff 1.1444091796875e-05 between cuda:0 and cuda:2 at step 398\n"
     ]
    }
   ],
   "source": [
    "for i in range(num_steps):\n",
    "    for t_to_diff in [\n",
    "        (\"cuda:0\", \"cuda:1\"),\n",
    "        (\"cuda:0\", \"cuda:2\"),\n",
    "        (\"cuda:1\", \"cuda:2\"),\n",
    "    ]:\n",
    "        t1 = trajectories[t_to_diff[0]][i]\n",
    "        t2 = trajectories[t_to_diff[1]][i]\n",
    "        state1, state_der1 = t1\n",
    "        state2, state_der2 = t2\n",
    "        state_abs_diff = (state1.cpu() - state2.cpu()).abs()\n",
    "        state_der_abs_diff = (state_der1.cpu() - state_der2.cpu()).abs()\n",
    "        for k, v in state_abs_diff.items():\n",
    "            if v.max() > atol:\n",
    "                print(f\"State {k} diff {v.max()} between {t_to_diff[0]} and {t_to_diff[1]} at step {i}\")\n",
    "        for k, v in state_der_abs_diff.items():\n",
    "            if v.max() > atol:\n",
    "                print(f\"State Derivative {k} diff {v.max()} between {t_to_diff[0]} and {t_to_diff[1]} at step {i}\")"
   ]
  }
 ],
 "metadata": {
  "kernelspec": {
   "display_name": ".venv",
   "language": "python",
   "name": "python3"
  },
  "language_info": {
   "codemirror_mode": {
    "name": "ipython",
    "version": 3
   },
   "file_extension": ".py",
   "mimetype": "text/x-python",
   "name": "python",
   "nbconvert_exporter": "python",
   "pygments_lexer": "ipython3",
   "version": "3.12.9"
  }
 },
 "nbformat": 4,
 "nbformat_minor": 5
}
