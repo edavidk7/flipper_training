{
  "cells": [
    {
      "cell_type": "code",
      "execution_count": null,
      "metadata": {},
      "outputs": [],
      "source": [
        "%load_ext autoreload\n",
        "%autoreload 3"
      ]
    },
    {
      "cell_type": "code",
      "execution_count": null,
      "metadata": {},
      "outputs": [],
      "source": [
        "DYNAMO_DEBUG = False\n",
        "COMPILE = True\n",
        "SHOW_ANIMATION = False"
      ]
    },
    {
      "cell_type": "code",
      "execution_count": null,
      "metadata": {},
      "outputs": [],
      "source": [
        "%env TORCH_LOGS=dynamo \n",
        "%env TORCHDYNAMO_VERBOSE=1"
      ]
    },
    {
      "cell_type": "code",
      "execution_count": null,
      "metadata": {},
      "outputs": [],
      "source": [
        "import torch\n",
        "import matplotlib.pyplot as plt\n",
        "from flipper_training.configs import (\n",
        "    WorldConfig,\n",
        "    RobotModelConfig,\n",
        "    PhysicsEngineConfig,\n",
        ")\n",
        "from flipper_training.engine.engine import DPhysicsEngine, PhysicsState\n",
        "from flipper_training.utils.dynamics import *\n",
        "from flipper_training.utils.geometry import *\n",
        "from flipper_training.utils.environment import *\n",
        "from flipper_training.utils.numerical import *\n",
        "from collections import deque"
      ]
    },
    {
      "cell_type": "code",
      "execution_count": null,
      "metadata": {},
      "outputs": [],
      "source": [
        "from flipper_training.utils.torch_utils import set_device\n",
        "\n",
        "device = \"cuda:0\"\n",
        "device = set_device(device)"
      ]
    },
    {
      "cell_type": "code",
      "execution_count": null,
      "metadata": {},
      "outputs": [],
      "source": [
        "from flipper_training.vis.static_vis import *"
      ]
    },
    {
      "cell_type": "code",
      "execution_count": null,
      "metadata": {},
      "outputs": [],
      "source": [
        "torch.random.manual_seed(420)"
      ]
    },
    {
      "cell_type": "code",
      "execution_count": null,
      "metadata": {},
      "outputs": [],
      "source": [
        "num_robots = 1"
      ]
    },
    {
      "cell_type": "code",
      "execution_count": null,
      "metadata": {},
      "outputs": [],
      "source": [
        "# Heightmap setup - use torch's XY indexing !!!!!\n",
        "grid_res = 0.05  # 5cm per grid cell\n",
        "max_coord = 3.2  # meters\n",
        "DIM = int(2 * max_coord / grid_res)\n",
        "xint = torch.linspace(-max_coord, max_coord, DIM)\n",
        "yint = torch.linspace(-max_coord, max_coord, DIM)\n",
        "x, y = torch.meshgrid(xint, yint, indexing=\"xy\")"
      ]
    },
    {
      "cell_type": "code",
      "execution_count": null,
      "metadata": {},
      "outputs": [],
      "source": [
        "# # gaussian hm\n",
        "# z = (\n",
        "#     (\n",
        "#         1.0 * torch.exp(-0.5 * ((x - 0) ** 2 + (y - 4) ** 2))\n",
        "#         + 5.0 * torch.exp(-0.3 * ((x - 1) ** 2 + (y + 2) ** 2))\n",
        "#         + 2.0 * torch.exp(-0.1 * ((x + max_coord) ** 2 + (y + max_coord) ** 2))\n",
        "#     )\n",
        "#     + 0.01 * torch.randn_like(x)\n",
        "#     + torch.exp(-0.03 * ((x + 5) ** 2 + (y + 5) ** 2))\n",
        "# )\n",
        "# block hm\n",
        "z = torch.zeros_like(x)\n",
        "for thresh in [1.0, 0, -1.0, -2]:\n",
        "    z[torch.logical_and(x > -thresh, y < thresh)] += 0.2\n",
        "\n",
        "# quadratic hill hm\n",
        "# z = 1 - 0.01 * ((x-1)**8 + (y+3)**8) + 0.01 * torch.randn_like(x)\n",
        "# z.clamp_(min=0)\n",
        "# zero hm\n",
        "# z = torch.zeros_like(x)\n",
        "x_grid = x.repeat(num_robots, 1, 1)\n",
        "y_grid = y.repeat(num_robots, 1, 1)\n",
        "z_grid = z.repeat(num_robots, 1, 1)\n",
        "x_grid.shape"
      ]
    },
    {
      "cell_type": "code",
      "execution_count": null,
      "metadata": {},
      "outputs": [],
      "source": [
        "from flipper_training.heightmaps.multi_gaussian import *\n",
        "\n",
        "# Heightmap setup - use torch's XY indexing !!!!!\n",
        "grid_res = 0.05  # 5cm per grid cell\n",
        "max_coord = 3.2  # meters\n",
        "heighmap_gen = MultiGaussianHeightmapGenerator(\n",
        "    min_gaussians=400,\n",
        "    max_gaussians=600,\n",
        "    min_height_fraction=0.03,\n",
        "    max_height_fraction=0.18,\n",
        "    min_std_fraction=0.03,\n",
        "    max_std_fraction=0.08,\n",
        "    min_sigma_ratio=0.6,\n",
        ")\n",
        "x_grid, y_grid, z_grid, extras = heighmap_gen(grid_res, max_coord, num_robots)"
      ]
    },
    {
      "cell_type": "code",
      "execution_count": null,
      "metadata": {},
      "outputs": [],
      "source": [
        "plot_grids_xyz(x_grid[0], y_grid[0], z_grid[0])"
      ]
    },
    {
      "cell_type": "code",
      "execution_count": null,
      "metadata": {},
      "outputs": [],
      "source": [
        "# Instatiate the physics config\n",
        "robot_model = RobotModelConfig(kind=\"marv\", points_per_driving_part=384, points_per_body=512)\n",
        "terrain_config = WorldConfig(\n",
        "    x_grid=x_grid,\n",
        "    y_grid=y_grid,\n",
        "    z_grid=z_grid,\n",
        "    grid_res=grid_res,\n",
        "    max_coord=max_coord,\n",
        "    k_stiffness=40000,\n",
        "    k_friction_lat=0.5,\n",
        "    k_friction_lon=0.8,\n",
        ")\n",
        "physics_config = PhysicsEngineConfig(num_robots=num_robots, damping_alpha=5.0, dt=0.01)"
      ]
    },
    {
      "cell_type": "code",
      "execution_count": null,
      "metadata": {},
      "outputs": [],
      "source": [
        "# Controls\n",
        "traj_length = 8.0  # seconds\n",
        "n_iters = int(traj_length / physics_config.dt)\n",
        "speed = 1.0  # m/s forward\n",
        "omega = 0.0  # rad/s yaw\n",
        "controls = robot_model.vw_to_vels(speed, omega)\n",
        "flipper_controls = torch.zeros_like(controls)"
      ]
    },
    {
      "cell_type": "code",
      "execution_count": null,
      "metadata": {},
      "outputs": [],
      "source": [
        "for cfg in [robot_model, terrain_config, physics_config]:\n",
        "    cfg.to(device)"
      ]
    },
    {
      "cell_type": "code",
      "execution_count": null,
      "metadata": {},
      "outputs": [],
      "source": [
        "engine = DPhysicsEngine(physics_config, robot_model, device)"
      ]
    },
    {
      "cell_type": "code",
      "execution_count": null,
      "metadata": {},
      "outputs": [],
      "source": [
        "from flipper_training.utils.geometry import euler_to_quaternion\n",
        "\n",
        "\n",
        "x0 = torch.tensor([[-2.5, -2.5, 0.400]]).to(device).repeat(num_robots, 1)\n",
        "xd0 = torch.zeros_like(x0)\n",
        "q0 = euler_to_quaternion(*torch.tensor([0, 0, 0.0 * torch.pi])).to(device).repeat(num_robots, 1)\n",
        "omega0 = torch.zeros_like(x0)\n",
        "thetas0 = torch.zeros(num_robots, robot_model.num_driving_parts).to(device)\n",
        "controls_all = torch.cat((controls, flipper_controls), dim=-1).repeat(n_iters, num_robots, 1).to(device)"
      ]
    },
    {
      "cell_type": "code",
      "execution_count": null,
      "metadata": {},
      "outputs": [],
      "source": [
        "# Set joint rotational velocities, we want to follow a sine wave, so we set the joint velocities to the derivative of the sine wave\n",
        "# We want to go +- pi/6 5 times in 10 seconds\n",
        "amplitude = 0 * torch.pi / 4\n",
        "periods = traj_length / 10.0\n",
        "rot_vels = torch.cos(torch.linspace(0, periods * 2 * np.pi, n_iters)) * amplitude\n",
        "rot_vels = rot_vels.unsqueeze(-1).repeat(1, num_robots)\n",
        "controls_all[:, :, robot_model.num_driving_parts] = rot_vels\n",
        "controls_all[:, :, robot_model.num_driving_parts + 1] = rot_vels\n",
        "controls_all[:, :, robot_model.num_driving_parts + 2] = -rot_vels\n",
        "controls_all[:, :, robot_model.num_driving_parts + 3] = -rot_vels"
      ]
    },
    {
      "cell_type": "code",
      "execution_count": null,
      "metadata": {},
      "outputs": [],
      "source": [
        "# Set the flippers to an fixed position at the beginning\n",
        "angles_deg = torch.tensor([-90.0, -90.0, 90.0, 90.0]).to(device)\n",
        "angles = torch.deg2rad(angles_deg)\n",
        "max_joint_vel = robot_model.joint_max_pivot_vels\n",
        "min_joint_vel = -robot_model.joint_max_pivot_vels\n",
        "times = (angles >= 0).float() * (angles / max_joint_vel) + (angles < 0).float() * (angles / min_joint_vel)\n",
        "steps = (times / physics_config.dt).int()\n",
        "vels = angles / times\n",
        "vels[torch.isnan(vels)] = 0.0\n",
        "# controls_all[: steps[0], :, robot_model.num_driving_parts] = vels[0]\n",
        "# controls_all[: steps[1], :, robot_model.num_driving_parts + 1] = vels[1]\n",
        "# controls_all[: steps[2], :, robot_model.num_driving_parts + 2] = vels[2]\n",
        "# controls_all[: steps[3], :, robot_model.num_driving_parts + 3] = vels[3]"
      ]
    },
    {
      "cell_type": "code",
      "execution_count": null,
      "metadata": {},
      "outputs": [],
      "source": [
        "init_state = PhysicsState(x0, xd0, q0, omega0, thetas0)"
      ]
    },
    {
      "cell_type": "code",
      "execution_count": null,
      "metadata": {},
      "outputs": [],
      "source": [
        "bench_state = init_state.new_zeros()"
      ]
    },
    {
      "cell_type": "code",
      "execution_count": null,
      "metadata": {},
      "outputs": [],
      "source": [
        "compile_opts = {\"max-autotune\": True, \"triton.cudagraphs\": True, \"coordinate_descent_tuning\": True}\n",
        "if DYNAMO_DEBUG:\n",
        "    compile_opts |= {\"trace.enabled\": True, \"trace.graph_diagram\": True}"
      ]
    },
    {
      "cell_type": "code",
      "execution_count": null,
      "metadata": {},
      "outputs": [],
      "source": [
        "print(torch._inductor.list_mode_options())\n",
        "print(torch._inductor.list_options())"
      ]
    },
    {
      "cell_type": "code",
      "execution_count": null,
      "metadata": {},
      "outputs": [],
      "source": [
        "if COMPILE:\n",
        "    # run all torch compilation\n",
        "    engine = torch.compile(engine, options=compile_opts)\n",
        "    _ = engine(bench_state, controls_all[0], terrain_config)"
      ]
    },
    {
      "cell_type": "code",
      "execution_count": null,
      "metadata": {},
      "outputs": [],
      "source": [
        "states = deque(maxlen=n_iters)\n",
        "dstates = deque(maxlen=n_iters)\n",
        "auxs = deque(maxlen=n_iters)"
      ]
    },
    {
      "cell_type": "code",
      "execution_count": null,
      "metadata": {},
      "outputs": [],
      "source": [
        "from flipper_training.engine.engine_state import (\n",
        "    vectorize_iter_of_states as vectorize_states,\n",
        ")"
      ]
    },
    {
      "cell_type": "code",
      "execution_count": null,
      "metadata": {},
      "outputs": [],
      "source": [
        "%%time \n",
        "state = init_state\n",
        "for i in range(n_iters):\n",
        "    state, der, aux = engine(state, controls_all[i], terrain_config)\n",
        "    if compile:\n",
        "        state = state.clone()\n",
        "        der = der.clone()\n",
        "        aux = aux.clone()\n",
        "    states.append(state)\n",
        "    dstates.append(der)\n",
        "    auxs.append(aux)"
      ]
    },
    {
      "cell_type": "code",
      "execution_count": null,
      "metadata": {},
      "outputs": [],
      "source": [
        "states_vec = vectorize_states(states)\n",
        "dstates_vec = vectorize_states(dstates)\n",
        "aux_vec = vectorize_states(auxs)"
      ]
    },
    {
      "cell_type": "code",
      "execution_count": null,
      "metadata": {},
      "outputs": [],
      "source": [
        "plot_birdview_trajectory(terrain_config, states, iter_step=500)"
      ]
    },
    {
      "cell_type": "code",
      "execution_count": null,
      "metadata": {},
      "outputs": [],
      "source": [
        "ROBOT_IDX = 0"
      ]
    },
    {
      "cell_type": "code",
      "execution_count": null,
      "metadata": {},
      "outputs": [],
      "source": [
        "# Plot components of acceleration\n",
        "ay, ax, az = dstates_vec.xdd[:, ROBOT_IDX].T.cpu().numpy()\n",
        "plt.figure(figsize=(10, 5))\n",
        "plt.title(\"Acceleration\")\n",
        "plt.plot(ay, label=\"ay\")\n",
        "plt.plot(ax, label=\"ax\")\n",
        "plt.plot(az, label=\"az\")\n",
        "plt.legend()\n",
        "plt.show()\n",
        "\n",
        "# Plot components of torque\n",
        "t1, t2, t3 = aux_vec.torque[:, ROBOT_IDX].T.cpu().numpy()\n",
        "plt.figure(figsize=(10, 5))\n",
        "plt.title(\"Torque\")\n",
        "plt.plot(t1, label=\"t1\")\n",
        "plt.plot(t2, label=\"t2\")\n",
        "plt.plot(t3, label=\"t3\")\n",
        "plt.grid()\n",
        "plt.xlabel(\"Time step\")\n",
        "plt.ylabel(\"Torque (Nm) at CoG\")\n",
        "plt.legend()\n",
        "plt.show()\n",
        "\n",
        "# Plot components of velocity\n",
        "v = dstates_vec.xd[:, ROBOT_IDX].cpu().numpy()\n",
        "plt.figure(figsize=(10, 5))\n",
        "plt.title(\"Velocity\")\n",
        "plt.plot((v**2).sum(-1) ** 0.5, label=\"v\")\n",
        "plt.plot(v[:, 0], label=\"vx\")\n",
        "plt.plot(v[:, 1], label=\"vy\")\n",
        "plt.plot(v[:, 2], label=\"vz\")\n",
        "plt.yticks([-1, 0, 1])\n",
        "plt.legend()\n",
        "plt.grid()\n",
        "plt.show()\n",
        "\n",
        "# Plot components of rotational velocity\n",
        "w = states_vec.omega[:, ROBOT_IDX].cpu().numpy()\n",
        "plt.figure(figsize=(10, 5))\n",
        "plt.title(\"Rotational velocity\")\n",
        "plt.plot((w**2).sum(-1) ** 0.5, label=\"w\")\n",
        "plt.plot(w[:, 0], label=\"wx\")\n",
        "plt.plot(w[:, 1], label=\"wy\")\n",
        "plt.plot(w[:, 2], label=\"wz\")\n",
        "plt.yticks([-1, 0, 1])\n",
        "plt.legend()\n",
        "plt.grid()\n",
        "plt.show()"
      ]
    },
    {
      "cell_type": "code",
      "execution_count": null,
      "metadata": {},
      "outputs": [],
      "source": [
        "# Height of the robot\n",
        "plt.figure(figsize=(10, 5), dpi=200)\n",
        "z = states_vec.x[:, ROBOT_IDX, 2].cpu().numpy()\n",
        "plt.plot(z)"
      ]
    },
    {
      "cell_type": "code",
      "execution_count": null,
      "metadata": {},
      "outputs": [],
      "source": [
        "plot_3d_trajectory(terrain_config, states, auxs)"
      ]
    },
    {
      "cell_type": "code",
      "execution_count": null,
      "metadata": {},
      "outputs": [],
      "source": [
        "if SHOW_ANIMATION:\n",
        "    from flipper_training.vis.animator import animate_trajectory\n",
        "\n",
        "    ani = animate_trajectory(\n",
        "        terrain_config,\n",
        "        physics_config,\n",
        "        states,\n",
        "        auxs,\n",
        "        ROBOT_IDX,\n",
        "        show_xd_points=False,\n",
        "        show_cog_coords=False,\n",
        "        show_friction_forces=False,\n",
        "        show_spring_forces=False,\n",
        "        show_act_forces=True,\n",
        "    )"
      ]
    }
  ],
  "metadata": {
    "kernelspec": {
      "display_name": ".venv",
      "language": "python",
      "name": "python3"
    },
    "language_info": {
      "codemirror_mode": {
        "name": "ipython",
        "version": 3
      },
      "file_extension": ".py",
      "mimetype": "text/x-python",
      "name": "python",
      "nbconvert_exporter": "python",
      "pygments_lexer": "ipython3",
      "version": "3.12.8"
    }
  },
  "nbformat": 4,
  "nbformat_minor": 2
}
