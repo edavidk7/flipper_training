{
 "cells": [
  {
   "cell_type": "code",
   "execution_count": 1,
   "metadata": {},
   "outputs": [],
   "source": [
    "%load_ext autoreload\n",
    "%autoreload 3"
   ]
  },
  {
   "cell_type": "code",
   "execution_count": null,
   "metadata": {},
   "outputs": [],
   "source": [
    "%env TORCH_LOGS=dynamo \n",
    "%env TORCHDYNAMO_VERBOSE=1"
   ]
  },
  {
   "cell_type": "code",
   "execution_count": 3,
   "metadata": {},
   "outputs": [],
   "source": [
    "import torch\n",
    "import matplotlib.pyplot as plt\n",
    "from flipper_training.configs import *\n",
    "from flipper_training.engine.engine import DPhysicsEngine, PhysicsState, PhysicsStateDer\n",
    "from flipper_training.utils.dynamics import *\n",
    "from flipper_training.utils.geometry import *\n",
    "from flipper_training.utils.environment import *\n",
    "from flipper_training.utils.numerical import *\n",
    "from copy import deepcopy\n",
    "from collections import deque"
   ]
  },
  {
   "cell_type": "code",
   "execution_count": 4,
   "metadata": {},
   "outputs": [],
   "source": [
    "HIGH_PERFORMANCE = False"
   ]
  },
  {
   "cell_type": "code",
   "execution_count": 5,
   "metadata": {},
   "outputs": [],
   "source": [
    "from flipper_training.utils.torch_utils import autodevice\n",
    "\n",
    "device = autodevice(HIGH_PERFORMANCE)"
   ]
  },
  {
   "cell_type": "code",
   "execution_count": 6,
   "metadata": {},
   "outputs": [],
   "source": [
    "from flipper_training.vis.static_vis import *"
   ]
  },
  {
   "cell_type": "code",
   "execution_count": null,
   "metadata": {},
   "outputs": [],
   "source": [
    "torch.random.manual_seed(420)"
   ]
  },
  {
   "cell_type": "code",
   "execution_count": 8,
   "metadata": {},
   "outputs": [],
   "source": [
    "num_robots = 1024"
   ]
  },
  {
   "cell_type": "code",
   "execution_count": 9,
   "metadata": {},
   "outputs": [],
   "source": [
    "# Heightmap setup - use torch's XY indexing !!!!!\n",
    "grid_res = 0.05  # 5cm per grid cell\n",
    "max_coord = 6.4  # meters\n",
    "DIM = int(2 * max_coord / grid_res)\n",
    "xint = torch.linspace(-max_coord, max_coord, DIM)\n",
    "yint = torch.linspace(-max_coord, max_coord, DIM)\n",
    "x, y = torch.meshgrid(xint, yint, indexing='xy')"
   ]
  },
  {
   "cell_type": "code",
   "execution_count": null,
   "metadata": {},
   "outputs": [],
   "source": [
    "# gaussian hm\n",
    "z = (1.0 * torch.exp(-0.5 * ((x - 0)**2 + (y - 4)**2)) +\n",
    "     0.0 * torch.exp(-0.3 * ((x - 1)**2 + (y + 2)**2)) +\n",
    "     2.0 * torch.exp(-0.1 * ((x + max_coord)**2 + (y + max_coord)**2))\n",
    "     ) + 0.01 * torch.randn_like(x) + torch.exp(-0.03 * ((x + 5)**2 + (y + 5)**2))\n",
    "x_grid = x.repeat(num_robots, 1, 1)\n",
    "y_grid = y.repeat(num_robots, 1, 1)\n",
    "z_grid = z.repeat(num_robots, 1, 1)\n",
    "x_grid.shape"
   ]
  },
  {
   "cell_type": "code",
   "execution_count": null,
   "metadata": {},
   "outputs": [],
   "source": [
    "plot_grids_xyz(x_grid[0], y_grid[0], z_grid[0])"
   ]
  },
  {
   "cell_type": "code",
   "execution_count": null,
   "metadata": {},
   "outputs": [],
   "source": [
    "# Instatiate the physics config\n",
    "robot_model = RobotModelConfig(robot_type=\"marv\", voxel_size=0.08, points_per_driving_part=150)\n",
    "world_config = WorldConfig(x_grid=x_grid, y_grid=y_grid, z_grid=z_grid, grid_res=grid_res, max_coord=max_coord, k_stiffness=30000)\n",
    "physics_config = PhysicsEngineConfig(num_robots=num_robots)"
   ]
  },
  {
   "cell_type": "code",
   "execution_count": 13,
   "metadata": {},
   "outputs": [],
   "source": [
    "# Controls\n",
    "traj_length = 5.0  # seconds\n",
    "n_iters = int(traj_length / physics_config.dt)\n",
    "speed = 1.0  # m/s forward\n",
    "omega = -0.5  # rad/s yaw\n",
    "controls = robot_model.get_controls(torch.tensor([speed, omega]))\n",
    "flipper_controls = torch.zeros_like(controls)"
   ]
  },
  {
   "cell_type": "code",
   "execution_count": 14,
   "metadata": {},
   "outputs": [],
   "source": [
    "for cfg in [robot_model, world_config, physics_config]:\n",
    "    cfg.move_all_tensors_to_device(device)"
   ]
  },
  {
   "cell_type": "code",
   "execution_count": 15,
   "metadata": {},
   "outputs": [],
   "source": [
    "engine = DPhysicsEngine(physics_config, robot_model, device)"
   ]
  },
  {
   "cell_type": "code",
   "execution_count": 16,
   "metadata": {},
   "outputs": [],
   "source": [
    "x0 = torch.tensor([-6, -6, 3.]).to(device).repeat(num_robots, 1)\n",
    "xd0 = torch.zeros_like(x0)\n",
    "R0 = torch.eye(3).to(device).repeat(num_robots, 1, 1)\n",
    "omega0 = torch.zeros_like(x0)\n",
    "thetas0 = torch.zeros(num_robots, 4).to(device)\n",
    "local_robot_points0 = robot_model.robot_points.to(device).repeat(num_robots, 1, 1)\n",
    "controls_all = torch.cat((controls, flipper_controls)).unsqueeze(0).repeat(n_iters, num_robots, 1).to(device)"
   ]
  },
  {
   "cell_type": "code",
   "execution_count": 17,
   "metadata": {},
   "outputs": [],
   "source": [
    "# Set joint rotational velocities, we want to follow a sine wave, so we set the joint velocities to the derivative of the sine wave\n",
    "# We want to go +- pi/6 5 times in 10 seconds\n",
    "amplitude = torch.pi\n",
    "periods = traj_length / 10.\n",
    "rot_vels = torch.cos(torch.linspace(0, periods * 2 * np.pi, n_iters)) * amplitude\n",
    "rot_vels = rot_vels.unsqueeze(-1).repeat(1, num_robots)\n",
    "controls_all[:, :, len(controls)] = rot_vels\n",
    "controls_all[:, :, len(controls) + 1] = rot_vels\n",
    "controls_all[:, :, len(controls) + 2] = -rot_vels\n",
    "controls_all[:, :, len(controls) + 3] = -rot_vels"
   ]
  },
  {
   "cell_type": "code",
   "execution_count": 18,
   "metadata": {},
   "outputs": [],
   "source": [
    "init_state = PhysicsState(x0, xd0, R0, local_robot_points0, omega0, thetas0)"
   ]
  },
  {
   "cell_type": "code",
   "execution_count": 19,
   "metadata": {},
   "outputs": [],
   "source": [
    "bench_state = PhysicsState.dummy_like(init_state)"
   ]
  },
  {
   "cell_type": "code",
   "execution_count": 20,
   "metadata": {},
   "outputs": [],
   "source": [
    "compile = True\n",
    "compile_opts = {\"options\":{\"trace.enabled\":True, \"trace.graph_diagram\":True,\"max-autotune\":True,\"triton.cudagraphs\":True}}"
   ]
  },
  {
   "cell_type": "code",
   "execution_count": null,
   "metadata": {},
   "outputs": [],
   "source": [
    "print(torch._inductor.list_mode_options())\n",
    "print(torch._inductor.list_options())"
   ]
  },
  {
   "cell_type": "code",
   "execution_count": null,
   "metadata": {},
   "outputs": [],
   "source": [
    "if compile:\n",
    "    # run all torch compilation\n",
    "    engine = torch.compile(engine, **compile_opts)\n",
    "    _ = engine(bench_state, controls_all[0], world_config)"
   ]
  },
  {
   "cell_type": "code",
   "execution_count": null,
   "metadata": {},
   "outputs": [],
   "source": [
    "%%timeit -o\n",
    "_ = engine(bench_state, controls_all[0],world_config)"
   ]
  },
  {
   "cell_type": "code",
   "execution_count": 24,
   "metadata": {},
   "outputs": [],
   "source": [
    "states = deque(maxlen=n_iters)\n",
    "dstates = deque(maxlen=n_iters)\n",
    "auxs = deque(maxlen=n_iters)"
   ]
  },
  {
   "cell_type": "code",
   "execution_count": null,
   "metadata": {},
   "outputs": [],
   "source": [
    "%%time \n",
    "state = deepcopy(init_state)\n",
    "i = 0\n",
    "for ctrl in controls_all:\n",
    "    state, der, aux = engine(state, ctrl, world_config)\n",
    "    states.append(deepcopy(state))\n",
    "    dstates.append(der)\n",
    "    auxs.append(aux)\n",
    "    i += 1"
   ]
  },
  {
   "cell_type": "code",
   "execution_count": 26,
   "metadata": {},
   "outputs": [],
   "source": [
    "from flipper_training.engine.engine_state import vectorize_iter_of_tensor_tuples"
   ]
  },
  {
   "cell_type": "code",
   "execution_count": 27,
   "metadata": {},
   "outputs": [],
   "source": [
    "states_vec = vectorize_iter_of_tensor_tuples(states)\n",
    "dstates_vec = vectorize_iter_of_tensor_tuples(dstates)\n",
    "aux_vec = vectorize_iter_of_tensor_tuples(auxs)"
   ]
  },
  {
   "cell_type": "code",
   "execution_count": null,
   "metadata": {},
   "outputs": [],
   "source": [
    "plot_birdview_trajectory(world_config, states, iter_step=40)"
   ]
  },
  {
   "cell_type": "code",
   "execution_count": 29,
   "metadata": {},
   "outputs": [],
   "source": [
    "ROBOT_IDX = 0"
   ]
  },
  {
   "cell_type": "code",
   "execution_count": null,
   "metadata": {},
   "outputs": [],
   "source": [
    "# Analyze the rotation matrices to check for numerical stability\n",
    "R = states_vec.R[:, ROBOT_IDX].cpu()\n",
    "RTRs = torch.bmm(R, R.permute(0, 2, 1))\n",
    "diffs = torch.norm(RTRs - torch.eye(3), dim=(1, 2))\n",
    "dets = torch.linalg.det(R)\n",
    "plt.plot(diffs, label=\"RTR fro from I\")\n",
    "plt.plot(dets, label=\"det\")\n",
    "plt.legend()"
   ]
  },
  {
   "cell_type": "code",
   "execution_count": null,
   "metadata": {},
   "outputs": [],
   "source": [
    "# Plot components of acceleration\n",
    "ay, ax, az = dstates_vec.xdd[:, ROBOT_IDX].T.cpu().numpy()\n",
    "plt.figure(figsize=(10, 5))\n",
    "plt.plot(ay, label='ay')\n",
    "plt.plot(ax, label='ax')\n",
    "plt.plot(az, label='az')\n",
    "plt.legend()"
   ]
  },
  {
   "cell_type": "code",
   "execution_count": null,
   "metadata": {},
   "outputs": [],
   "source": [
    "# Plot components of torque\n",
    "t1, t2, t3 = aux_vec.torque[:, ROBOT_IDX].T.cpu().numpy()\n",
    "plt.figure(figsize=(10, 5), dpi=200)\n",
    "plt.plot(t1, label='t1')\n",
    "plt.plot(t2, label='t2')\n",
    "plt.plot(t3, label='t3')\n",
    "plt.grid()\n",
    "plt.xlabel('Time step')\n",
    "plt.ylabel('Torque (Nm) at CoG')\n",
    "plt.legend()"
   ]
  },
  {
   "cell_type": "code",
   "execution_count": null,
   "metadata": {},
   "outputs": [],
   "source": [
    "# Joint angles\n",
    "plt.figure(figsize=(10, 5), dpi=200)\n",
    "theta1, theta2, theta3, theta4 = states_vec.thetas[:, ROBOT_IDX].T.cpu().numpy()\n",
    "plt.plot(theta1, label='theta1')\n",
    "plt.plot(theta2, label='theta2')\n",
    "plt.plot(theta3, label='theta3')\n",
    "plt.plot(theta4, label='theta4')\n",
    "plt.grid()"
   ]
  },
  {
   "cell_type": "code",
   "execution_count": null,
   "metadata": {},
   "outputs": [],
   "source": [
    "# Height of the robot\n",
    "plt.figure(figsize=(10, 5), dpi=200)\n",
    "z = states_vec.x[:, ROBOT_IDX, 2].cpu().numpy()\n",
    "plt.plot(z)"
   ]
  },
  {
   "cell_type": "code",
   "execution_count": null,
   "metadata": {},
   "outputs": [],
   "source": [
    "plot_3d_trajectory(world_config, states, auxs)"
   ]
  },
  {
   "cell_type": "code",
   "execution_count": null,
   "metadata": {},
   "outputs": [],
   "source": [
    "from flipper_training.vis.animator import animate_trajectory"
   ]
  },
  {
   "cell_type": "code",
   "execution_count": null,
   "metadata": {},
   "outputs": [],
   "source": [
    "animate_trajectory(world_config, physics_config, states, auxs, 0)"
   ]
  }
 ],
 "metadata": {
  "kernelspec": {
   "display_name": "Python 3 (ipykernel)",
   "language": "python",
   "name": "python3"
  },
  "language_info": {
   "codemirror_mode": {
    "name": "ipython",
    "version": 3
   },
   "file_extension": ".py",
   "mimetype": "text/x-python",
   "name": "python",
   "nbconvert_exporter": "python",
   "pygments_lexer": "ipython3",
   "version": "3.12.3"
  }
 },
 "nbformat": 4,
 "nbformat_minor": 2
}
