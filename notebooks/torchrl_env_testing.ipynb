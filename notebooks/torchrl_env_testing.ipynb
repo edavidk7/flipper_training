{
  "cells": [
    {
      "cell_type": "code",
      "execution_count": null,
      "metadata": {},
      "outputs": [],
      "source": [
        "%load_ext autoreload\n",
        "%autoreload 2"
      ]
    },
    {
      "cell_type": "code",
      "execution_count": null,
      "metadata": {},
      "outputs": [],
      "source": [
        "import torch\n",
        "import torchrl\n",
        "import matplotlib.pyplot as plt\n",
        "from tensordict import TensorDict\n",
        "from flipper_training.environment.env import Env\n",
        "from flipper_training.configs import WorldConfig, RobotModelConfig, PhysicsEngineConfig\n",
        "from flipper_training.utils.torch_utils import set_device"
      ]
    },
    {
      "cell_type": "code",
      "execution_count": null,
      "metadata": {},
      "outputs": [],
      "source": [
        "num_robots = 1"
      ]
    },
    {
      "cell_type": "code",
      "execution_count": null,
      "metadata": {},
      "outputs": [],
      "source": [
        "from flipper_training.heightmaps.flat import FlatHeightmapGenerator\n",
        "\n",
        "# Heightmap setup - use torch's XY indexing !!!!!\n",
        "grid_res = 0.05  # 5cm per grid cell\n",
        "max_coord = 3.2  # meters\n",
        "heighmap_gen = FlatHeightmapGenerator()\n",
        "x_grid, y_grid, z_grid, extras = heighmap_gen(grid_res, max_coord, num_robots)"
      ]
    },
    {
      "cell_type": "code",
      "execution_count": null,
      "metadata": {},
      "outputs": [],
      "source": [
        "from flipper_training.vis.static_vis import plot_heightmap_3d\n",
        "\n",
        "plot_heightmap_3d(x_grid[0], y_grid[0], z_grid[0])"
      ]
    },
    {
      "cell_type": "code",
      "execution_count": null,
      "metadata": {},
      "outputs": [],
      "source": [
        "device = \"cuda:0\"\n",
        "device = set_device(device)"
      ]
    },
    {
      "cell_type": "code",
      "execution_count": null,
      "metadata": {},
      "outputs": [],
      "source": [
        "# Instatiate the physics config\n",
        "robot_model = RobotModelConfig(kind=\"marv\", points_per_driving_part=256, points_per_body=512)\n",
        "terrain_config = WorldConfig(\n",
        "    x_grid=x_grid,\n",
        "    y_grid=y_grid,\n",
        "    z_grid=z_grid,\n",
        "    grid_res=grid_res,\n",
        "    max_coord=max_coord,\n",
        "    k_stiffness=30000,\n",
        "    grid_extras=extras,\n",
        "    k_friction_lat=0.5,\n",
        "    k_friction_lon=1.0,\n",
        ")\n",
        "physics_config = PhysicsEngineConfig(num_robots=num_robots, damping_alpha=5.0)"
      ]
    },
    {
      "cell_type": "code",
      "execution_count": null,
      "metadata": {},
      "outputs": [],
      "source": [
        "from flipper_training.observations import *\n",
        "from functools import partial\n",
        "\n",
        "obs = {\n",
        "    \"perception\": partial(Heightmap, percep_shape=(128, 128), percep_extent=(1.0, 1.0, -1.0, -1.0)),\n",
        "    \"observation\": partial(RobotStateVector),\n",
        "}\n",
        "\n",
        "obs[\"perception\"]"
      ]
    },
    {
      "cell_type": "code",
      "execution_count": null,
      "metadata": {},
      "outputs": [],
      "source": [
        "from flipper_training.rl_rewards.rewards import Goal\n",
        "\n",
        "reward = Goal(100, -100, 1.0, exp=1)"
      ]
    },
    {
      "cell_type": "code",
      "execution_count": null,
      "metadata": {},
      "outputs": [],
      "source": [
        "from flipper_training.rl_objectives.fixed_goal import FixedStartGoalNavigation\n",
        "\n",
        "objective = FixedStartGoalNavigation(\n",
        "    physics_config=physics_config,\n",
        "    robot_model=robot_model,\n",
        "    terrain_config=terrain_config,\n",
        "    device=device,\n",
        "    rng=torch.manual_seed(0),\n",
        "    **{\n",
        "        \"start_x_y_z\": torch.tensor([-1.0, 0.0, 0.2]),\n",
        "        \"goal_x_y_z\": torch.tensor([1.0, 0.0, 0.0]),\n",
        "        \"goal_reached_threshold\": 0.05,\n",
        "        \"max_feasible_pitch\": torch.deg2rad(torch.tensor(70.0)),\n",
        "        \"max_feasible_roll\": torch.deg2rad(torch.tensor(70.0)),\n",
        "        \"iteration_limit\": 500,\n",
        "        \"init_joint_angles\": torch.tensor([0.0, 0.0, 0.0, 0.0]),\n",
        "    },\n",
        ")"
      ]
    },
    {
      "cell_type": "code",
      "execution_count": null,
      "metadata": {},
      "outputs": [],
      "source": [
        "torch_env = Env(\n",
        "    objective,\n",
        "    reward,\n",
        "    obs,\n",
        "    terrain_config,\n",
        "    physics_config,\n",
        "    robot_model,\n",
        "    device,\n",
        "    differentiable=False,\n",
        "    batch_size=[num_robots],\n",
        "    engine_compile_opts={\n",
        "        \"max-autotune\": True,\n",
        "        \"triton.cudagraphs\": True,\n",
        "        \"coordinate_descent_tuning\": True,\n",
        "        \"correctness_iters\": 100,\n",
        "        \"benchmark_iters\": 1000,\n",
        "        \"atol\": 1,\n",
        "        \"rtol\": 0,\n",
        "    },\n",
        ")"
      ]
    },
    {
      "cell_type": "code",
      "execution_count": null,
      "metadata": {},
      "outputs": [],
      "source": [
        "torchrl.envs.utils.check_env_specs(torch_env)"
      ]
    },
    {
      "cell_type": "code",
      "execution_count": null,
      "metadata": {},
      "outputs": [],
      "source": [
        "torch_env.reset(reset_all=True)\n",
        "torch_env.visualize_curr_state()"
      ]
    },
    {
      "cell_type": "code",
      "execution_count": null,
      "metadata": {},
      "outputs": [],
      "source": [
        "from collections import deque\n",
        "from flipper_training.engine.engine_state import vectorize_iter_of_states"
      ]
    },
    {
      "cell_type": "code",
      "execution_count": null,
      "metadata": {},
      "outputs": [],
      "source": [
        "ROBOT_IDX = 0"
      ]
    },
    {
      "cell_type": "code",
      "execution_count": null,
      "metadata": {},
      "outputs": [],
      "source": [
        "import time"
      ]
    },
    {
      "cell_type": "code",
      "execution_count": null,
      "metadata": {},
      "outputs": [],
      "source": [
        "states = deque()\n",
        "dstates = deque()\n",
        "auxs = deque()\n",
        "\n",
        "# Controls\n",
        "speed = 1.0  # m/s forward\n",
        "flipper_controls = torch.full((robot_model.num_driving_parts,), 0.0)\n",
        "control_vec = torch.cat([torch.full((4,), speed), flipper_controls]).unsqueeze(0).repeat(num_robots, 1)\n",
        "control_td = TensorDict({\"action\": control_vec}, batch_size=num_robots)\n",
        "\n",
        "torch_env.reset(reset_all=True)\n",
        "\n",
        "start_time = time.time()\n",
        "for _ in range(1000):\n",
        "    o = torch_env.step(control_td)\n",
        "    states.append(torch_env.state.clone())\n",
        "    dstates.append(torch_env.last_step_der.clone())\n",
        "    auxs.append(torch_env.last_step_aux_info.clone())\n",
        "dur = time.time() - start_time\n",
        "print(f\"Simulation time: {dur:.5f} seconds ({dur / 500:.5f} seconds per step)\")\n",
        "\n",
        "dstates_vec = vectorize_iter_of_states(dstates)\n",
        "auxs_vec = vectorize_iter_of_states(auxs)\n",
        "states_vec = vectorize_iter_of_states(states)\n",
        "\n",
        "# Plot components of acceleration\n",
        "ay, ax, az = dstates_vec.xdd[:, ROBOT_IDX].T.cpu().numpy()\n",
        "plt.figure(figsize=(10, 5))\n",
        "plt.title(\"Acceleration\")\n",
        "plt.plot(ay, label=\"ay\")\n",
        "plt.plot(ax, label=\"ax\")\n",
        "plt.plot(az, label=\"az\")\n",
        "plt.legend()\n",
        "plt.show()\n",
        "\n",
        "# Plot components of torque\n",
        "t1, t2, t3 = auxs_vec.torque[:, ROBOT_IDX].T.cpu().numpy()\n",
        "plt.figure(figsize=(10, 5))\n",
        "plt.title(\"Torque\")\n",
        "plt.plot(t1, label=\"t1\")\n",
        "plt.plot(t2, label=\"t2\")\n",
        "plt.plot(t3, label=\"t3\")\n",
        "plt.grid()\n",
        "plt.xlabel(\"Time step\")\n",
        "plt.ylabel(\"Torque (Nm) at CoG\")\n",
        "plt.legend()\n",
        "plt.show()\n",
        "\n",
        "# Plot components of velocity\n",
        "v = dstates_vec.xd[:, ROBOT_IDX].cpu().numpy()\n",
        "plt.figure(figsize=(10, 5))\n",
        "plt.title(\"Velocity\")\n",
        "plt.plot((v**2).sum(-1) ** 0.5, label=\"v\")\n",
        "plt.plot(v[:, 0], label=\"vx\")\n",
        "plt.plot(v[:, 1], label=\"vy\")\n",
        "plt.plot(v[:, 2], label=\"vz\")\n",
        "plt.yticks([-1, 0, 1])\n",
        "plt.legend()\n",
        "plt.grid()\n",
        "plt.show()\n",
        "\n",
        "# Plot components of rotational velocity\n",
        "w = states_vec.omega[:, ROBOT_IDX].cpu().numpy()\n",
        "plt.figure(figsize=(10, 5))\n",
        "plt.title(\"Rotational velocity\")\n",
        "plt.plot((w**2).sum(-1) ** 0.5, label=\"w\")\n",
        "plt.plot(w[:, 0], label=\"wx\")\n",
        "plt.plot(w[:, 1], label=\"wy\")\n",
        "plt.plot(w[:, 2], label=\"wz\")\n",
        "plt.yticks([-1, 0, 1])\n",
        "plt.legend()\n",
        "plt.grid()\n",
        "plt.show()\n",
        "\n",
        "torch_env.visualize_curr_state()"
      ]
    },
    {
      "cell_type": "code",
      "execution_count": null,
      "metadata": {},
      "outputs": [],
      "source": [
        "from flipper_training.vis.animator import animate_trajectory\n",
        "\n",
        "ani = animate_trajectory(\n",
        "    terrain_config,\n",
        "    physics_config,\n",
        "    states,\n",
        "    auxs,\n",
        "    ROBOT_IDX,\n",
        "    show_xd_points=False,\n",
        "    show_cog_coords=False,\n",
        "    show_friction_forces=True,\n",
        "    show_spring_forces=True,\n",
        "    show_act_forces=False,\n",
        ")"
      ]
    }
  ],
  "metadata": {
    "kernelspec": {
      "display_name": ".venv",
      "language": "python",
      "name": "python3"
    },
    "language_info": {
      "codemirror_mode": {
        "name": "ipython",
        "version": 3
      },
      "file_extension": ".py",
      "mimetype": "text/x-python",
      "name": "python",
      "nbconvert_exporter": "python",
      "pygments_lexer": "ipython3",
      "version": "3.12.8"
    }
  },
  "nbformat": 4,
  "nbformat_minor": 2
}
