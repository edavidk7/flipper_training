{
 "cells": [
  {
   "cell_type": "code",
   "execution_count": 1,
   "metadata": {},
   "outputs": [],
   "source": [
    "import wandb"
   ]
  },
  {
   "cell_type": "code",
   "execution_count": 2,
   "metadata": {},
   "outputs": [],
   "source": [
    "api = wandb.Api()"
   ]
  },
  {
   "cell_type": "code",
   "execution_count": 3,
   "metadata": {},
   "outputs": [],
   "source": [
    "run = api.run(\"flipper_training/0891ee832909c7fe382f53cb77a82304\")"
   ]
  },
  {
   "cell_type": "code",
   "execution_count": 4,
   "metadata": {},
   "outputs": [
    {
     "name": "stdout",
     "output_type": "stream",
     "text": [
      "best:v258\n",
      "weights_1024:v3\n",
      "vecnorm_best:v26\n",
      "vecnorm_weights_1024:v2\n",
      "best:v259\n",
      "vecnorm_best:v27\n",
      "weights_11264:v3\n",
      "vecnorm_weights_11264:v1\n",
      "weights_21504:v3\n",
      "vecnorm_weights_21504:v1\n",
      "weights_31744:v3\n",
      "vecnorm_weights_31744:v1\n",
      "weights_41984:v3\n",
      "vecnorm_weights_41984:v1\n",
      "best:v260\n",
      "vecnorm_best:v28\n",
      "weights_52224:v3\n",
      "vecnorm_weights_52224:v1\n",
      "weights_62464:v2\n",
      "vecnorm_weights_62464:v0\n",
      "weights_72704:v2\n",
      "vecnorm_weights_72704:v0\n",
      "weights_82944:v2\n",
      "vecnorm_weights_82944:v0\n",
      "weights_93184:v2\n",
      "vecnorm_weights_93184:v0\n",
      "weights_103424:v2\n",
      "vecnorm_weights_103424:v0\n",
      "weights_113664:v2\n",
      "vecnorm_weights_113664:v0\n",
      "weights_123904:v2\n",
      "vecnorm_weights_123904:v0\n",
      "weights_134144:v2\n",
      "vecnorm_weights_134144:v0\n",
      "weights_144384:v2\n",
      "vecnorm_weights_144384:v0\n",
      "weights_154624:v2\n",
      "vecnorm_weights_154624:v0\n",
      "weights_164864:v2\n",
      "vecnorm_weights_164864:v0\n",
      "weights_175104:v2\n",
      "vecnorm_weights_175104:v0\n",
      "weights_185344:v2\n",
      "vecnorm_weights_185344:v0\n",
      "weights_195584:v2\n",
      "vecnorm_weights_195584:v0\n",
      "weights_205824:v2\n",
      "vecnorm_weights_205824:v0\n",
      "weights_216064:v2\n",
      "vecnorm_weights_216064:v0\n",
      "weights_226304:v2\n",
      "vecnorm_weights_226304:v0\n",
      "weights_236544:v2\n",
      "vecnorm_weights_236544:v0\n",
      "weights_246784:v2\n",
      "vecnorm_weights_246784:v0\n",
      "vecnorm_weights_257024:v0\n",
      "weights_257024:v2\n",
      "weights_267264:v2\n",
      "vecnorm_weights_267264:v0\n",
      "weights_277504:v2\n",
      "vecnorm_weights_277504:v0\n",
      "weights_287744:v2\n",
      "vecnorm_weights_287744:v0\n"
     ]
    }
   ],
   "source": [
    "for a in run.logged_artifacts():\n",
    "    print(a.name)"
   ]
  },
  {
   "cell_type": "code",
   "execution_count": 5,
   "metadata": {},
   "outputs": [
    {
     "data": {
      "text/plain": [
       "<File weights_277504:v2 (None) 0.0B>"
      ]
     },
     "execution_count": 5,
     "metadata": {},
     "output_type": "execute_result"
    }
   ],
   "source": [
    "run.file(\"weights_277504:v2\")"
   ]
  },
  {
   "cell_type": "code",
   "execution_count": 6,
   "metadata": {},
   "outputs": [
    {
     "data": {
      "text/plain": [
       "{'name': 'random_start_goal_flat_terrain_navigation',\n",
       " 'seed': 42,\n",
       " 'type': '${cls:flipper_training.experiments.ppo.config.PPOExperimentConfig}',\n",
       " 'device': 'cpu',\n",
       " 'reward': '${cls:flipper_training.rl_rewards.rewards.Goal}',\n",
       " 'comment': 'Debugging config',\n",
       " 'gae_opts': {'gamma': 0.99,\n",
       "  'lmbda': 0.95,\n",
       "  'average_gae': True,\n",
       "  'skip_existing': False},\n",
       " 'grid_res': 0.05,\n",
       " 'ppo_opts': {'critic_coef': 1,\n",
       "  'clip_epsilon': 0.2,\n",
       "  'entropy_coef': 0.01,\n",
       "  'entropy_bonus': True,\n",
       "  'loss_critic_type': 'smooth_l1'},\n",
       " 'max_coord': 3.2,\n",
       " 'objective': '${cls:flipper_training.rl_objectives.random_nav.RandomNavigationObjective}',\n",
       " 'optimizer': '${cls:torch.optim.AdamW}',\n",
       " 'scheduler': '${cls:torch.optim.lr_scheduler.StepLR}',\n",
       " 'use_wandb': True,\n",
       " 'num_robots': 16,\n",
       " 'world_opts': {'k_stiffness': 30000,\n",
       "  'k_friction_lat': 0.5,\n",
       "  'k_friction_lon': 0.8},\n",
       " 'engine_opts': {'dt': 0.01, 'damping_alpha': 5},\n",
       " 'policy_opts': {'hidden_dim': 32,\n",
       "  'actor_mlp_layers': 2,\n",
       "  'value_mlp_layers': 2},\n",
       " 'reward_opts': {'exp': 1,\n",
       "  'weight': 1,\n",
       "  'failed_reward': -1000,\n",
       "  'goal_reached_reward': 1000},\n",
       " 'observations': {'state': {'observation': '${cls:flipper_training.observations.robot_state.LocalStateVector}'}},\n",
       " 'total_frames': '${mul:5242880,1}',\n",
       " 'vecnorm_opts': {'eps': 0.0001, 'decay': 0.9},\n",
       " 'heightmap_gen': '${ cls:flipper_training.heightmaps.flat.FlatHeightmapGenerator}',\n",
       " 'max_grad_norm': 5,\n",
       " 'evaluate_every': 10,\n",
       " 'max_eval_steps': 1000,\n",
       " 'objective_opts': {'cache_size': 30000,\n",
       "  'goal_z_offset': 0.1,\n",
       "  'higher_allowed': 0.8,\n",
       "  'start_z_offset': 0.2,\n",
       "  'max_dist_to_goal': 1,\n",
       "  'min_dist_to_goal': 0.7,\n",
       "  'max_feasible_roll': 1.5,\n",
       "  'max_feasible_pitch': 1.5,\n",
       "  'goal_reached_threshold': 0.15,\n",
       "  'iteration_limit_factor': 50,\n",
       "  'start_position_orientation': 'towards_goal'},\n",
       " 'optimizer_opts': {'lr': 0.0003, 'amsgrad': True},\n",
       " 'scheduler_opts': {'gamma': 0.5,\n",
       "  'step_size': '${intdiv:${intdiv:${total_frames},${mul:${frames_per_batch},${num_robots}}},2}'},\n",
       " 'training_dtype': '${dtype:float32}',\n",
       " 'epochs_per_batch': 2,\n",
       " 'frames_per_batch': 64,\n",
       " 'gae_compile_opts': None,\n",
       " 'ppo_compile_opts': None,\n",
       " 'robot_model_opts': {'kind': 'marv',\n",
       "  'mesh_voxel_size': 0.01,\n",
       "  'points_per_body': 512,\n",
       "  'points_per_driving_part': 384,\n",
       "  'wheel_assignment_margin': 0.02,\n",
       "  'linear_track_assignment_margin': 0.05},\n",
       " 'save_weights_every': 10,\n",
       " 'data_collector_opts': {'split_trajs': False,\n",
       "  'compile_policy': False,\n",
       "  'exploration_type': 'RANDOM'},\n",
       " 'engine_compile_opts': {'atol': 1,\n",
       "  'rtol': 0,\n",
       "  'max-autotune': True,\n",
       "  'benchmark_iters': 1000,\n",
       "  'correctness_iters': 100,\n",
       "  'triton.cudagraphs': True,\n",
       "  'coordinate_descent_tuning': True},\n",
       " 'frames_per_sub_batch': 32}"
      ]
     },
     "execution_count": 6,
     "metadata": {},
     "output_type": "execute_result"
    }
   ],
   "source": [
    "run.config"
   ]
  }
 ],
 "metadata": {
  "kernelspec": {
   "display_name": ".venv",
   "language": "python",
   "name": "python3"
  },
  "language_info": {
   "codemirror_mode": {
    "name": "ipython",
    "version": 3
   },
   "file_extension": ".py",
   "mimetype": "text/x-python",
   "name": "python",
   "nbconvert_exporter": "python",
   "pygments_lexer": "ipython3",
   "version": "3.12.9"
  }
 },
 "nbformat": 4,
 "nbformat_minor": 2
}
