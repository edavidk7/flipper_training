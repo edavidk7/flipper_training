{
 "cells": [
  {
   "cell_type": "code",
   "execution_count": 1,
   "id": "59bad9f1",
   "metadata": {},
   "outputs": [],
   "source": [
    "%load_ext autoreload\n",
    "%autoreload 2\n",
    "from pathlib import Path\n",
    "import pandas as pd\n",
    "import matplotlib.pyplot as plt\n",
    "from omegaconf import OmegaConf"
   ]
  },
  {
   "cell_type": "code",
   "execution_count": 2,
   "id": "3b0facaf",
   "metadata": {},
   "outputs": [
    {
     "name": "stdout",
     "output_type": "stream",
     "text": [
      "[12345, 67890, 11121, 31415, 92653, 58979, 32384, 62643, 38327, 95028]\n"
     ]
    }
   ],
   "source": [
    "with open(\"../cross_eval_configs/cross_eval_seeds.txt\") as f:\n",
    "    seeds = list(map(int, f.readlines()))\n",
    "\n",
    "print(seeds)"
   ]
  },
  {
   "cell_type": "code",
   "execution_count": 3,
   "id": "16fef2fa",
   "metadata": {},
   "outputs": [
    {
     "name": "stdout",
     "output_type": "stream",
     "text": [
      "[PosixPath('../runs/ppo/final_trunk_thesis_training_13_2025-05-09_19-54-16'), PosixPath('../runs/ppo/final_trunk_thesis_training_16_2025-05-09_19-49-38'), PosixPath('../runs/ppo/final_trunk_thesis_training_16_2025-05-09_21-01-13'), PosixPath('../runs/ppo/final_trunk_thesis_training_1_2025-05-09_19-54-19'), PosixPath('../runs/ppo/final_trunk_thesis_training_26_2025-05-09_19-54-17'), PosixPath('../runs/ppo/final_trunk_thesis_training_32_2025-05-09_19-50-22'), PosixPath('../runs/ppo/final_trunk_thesis_training_32_2025-05-09_21-01-16'), PosixPath('../runs/ppo/final_trunk_thesis_training_420_2025-05-09_19-54-16'), PosixPath('../runs/ppo/final_trunk_thesis_training_42_2025-05-09_19-48-57'), PosixPath('../runs/ppo/final_trunk_thesis_training_42_2025-05-09_21-01-13'), PosixPath('../runs/ppo/final_trunk_thesis_training_64_2025-05-09_19-51-13'), PosixPath('../runs/ppo/final_trunk_thesis_training_64_2025-05-09_21-01-16'), PosixPath('../runs/ppo/final_trunk_thesis_training_666_2025-05-09_19-54-33'), PosixPath('../runs/ppo/final_trunk_thesis_training_98_2025-05-09_19-54-25')]\n"
     ]
    }
   ],
   "source": [
    "runs_path = Path(\"../runs/ppo\")\n",
    "run_basename = \"final_trunk_thesis_\"\n",
    "all_runs = list(runs_path.glob(f\"{run_basename}*\"))\n",
    "all_runs.sort()\n",
    "print(all_runs)"
   ]
  },
  {
   "cell_type": "code",
   "execution_count": 4,
   "id": "f6da4f8e",
   "metadata": {},
   "outputs": [],
   "source": [
    "from flipper_training.experiments.ppo.eval import get_eval_rollout, log_from_eval_rollout, PPOExperimentConfig\n",
    "import contextlib\n",
    "from tqdm import tqdm\n",
    "import pickle\n",
    "import os"
   ]
  },
  {
   "cell_type": "code",
   "execution_count": 5,
   "id": "779c340a",
   "metadata": {},
   "outputs": [],
   "source": [
    "n_robots_eval = 16"
   ]
  },
  {
   "cell_type": "code",
   "execution_count": null,
   "id": "43be9631",
   "metadata": {},
   "outputs": [
    {
     "name": "stderr",
     "output_type": "stream",
     "text": [
      "Runs:   0%|          | 0/14 [00:00<?, ?it/s]"
     ]
    },
    {
     "data": {
      "text/html": [
       "<pre style=\"white-space:pre;overflow-x:auto;line-height:normal;font-family:Menlo,'DejaVu Sans Mono',consolas,'Courier New',monospace\"><span style=\"font-style: italic\">                 Environment Summary                 </span>\n",
       "┏━━━━━━━━━━━━━━━━━━━━━┳━━━━━━━━━━━━━━━━━━━━━━━━━━━━━┓\n",
       "┃<span style=\"font-weight: bold\">                 Key </span>┃<span style=\"font-weight: bold\">                       Value </span>┃\n",
       "┡━━━━━━━━━━━━━━━━━━━━━╇━━━━━━━━━━━━━━━━━━━━━━━━━━━━━┩\n",
       "│<span style=\"color: #008080; text-decoration-color: #008080\">    Number of robots </span>│<span style=\"color: #800080; text-decoration-color: #800080\">                          16 </span>│\n",
       "│<span style=\"color: #008080; text-decoration-color: #008080\">        Observations </span>│<span style=\"color: #800080; text-decoration-color: #800080\"> LocalStateVector, Heightmap </span>│\n",
       "│<span style=\"color: #008080; text-decoration-color: #008080\">              Reward </span>│<span style=\"color: #800080; text-decoration-color: #800080\">               PotentialGoal </span>│\n",
       "│<span style=\"color: #008080; text-decoration-color: #008080\">           Objective </span>│<span style=\"color: #800080; text-decoration-color: #800080\">               TrunkCrossing </span>│\n",
       "│<span style=\"color: #008080; text-decoration-color: #008080\">   Physics frequency </span>│<span style=\"color: #800080; text-decoration-color: #800080\">                   142.86 Hz </span>│\n",
       "│<span style=\"color: #008080; text-decoration-color: #008080\">   Engine iters/step </span>│<span style=\"color: #800080; text-decoration-color: #800080\">                           4 </span>│\n",
       "│<span style=\"color: #008080; text-decoration-color: #008080\"> Effective frequency </span>│<span style=\"color: #800080; text-decoration-color: #800080\">                    35.71 Hz </span>│\n",
       "└─────────────────────┴─────────────────────────────┘\n",
       "</pre>\n"
      ],
      "text/plain": [
       "\u001b[3m                 Environment Summary                 \u001b[0m\n",
       "┏━━━━━━━━━━━━━━━━━━━━━┳━━━━━━━━━━━━━━━━━━━━━━━━━━━━━┓\n",
       "┃\u001b[1m \u001b[0m\u001b[1m                Key\u001b[0m\u001b[1m \u001b[0m┃\u001b[1m \u001b[0m\u001b[1m                      Value\u001b[0m\u001b[1m \u001b[0m┃\n",
       "┡━━━━━━━━━━━━━━━━━━━━━╇━━━━━━━━━━━━━━━━━━━━━━━━━━━━━┩\n",
       "│\u001b[36m \u001b[0m\u001b[36m   Number of robots\u001b[0m\u001b[36m \u001b[0m│\u001b[35m \u001b[0m\u001b[35m                         16\u001b[0m\u001b[35m \u001b[0m│\n",
       "│\u001b[36m \u001b[0m\u001b[36m       Observations\u001b[0m\u001b[36m \u001b[0m│\u001b[35m \u001b[0m\u001b[35mLocalStateVector, Heightmap\u001b[0m\u001b[35m \u001b[0m│\n",
       "│\u001b[36m \u001b[0m\u001b[36m             Reward\u001b[0m\u001b[36m \u001b[0m│\u001b[35m \u001b[0m\u001b[35m              PotentialGoal\u001b[0m\u001b[35m \u001b[0m│\n",
       "│\u001b[36m \u001b[0m\u001b[36m          Objective\u001b[0m\u001b[36m \u001b[0m│\u001b[35m \u001b[0m\u001b[35m              TrunkCrossing\u001b[0m\u001b[35m \u001b[0m│\n",
       "│\u001b[36m \u001b[0m\u001b[36m  Physics frequency\u001b[0m\u001b[36m \u001b[0m│\u001b[35m \u001b[0m\u001b[35m                  142.86 Hz\u001b[0m\u001b[35m \u001b[0m│\n",
       "│\u001b[36m \u001b[0m\u001b[36m  Engine iters/step\u001b[0m\u001b[36m \u001b[0m│\u001b[35m \u001b[0m\u001b[35m                          4\u001b[0m\u001b[35m \u001b[0m│\n",
       "│\u001b[36m \u001b[0m\u001b[36mEffective frequency\u001b[0m\u001b[36m \u001b[0m│\u001b[35m \u001b[0m\u001b[35m                   35.71 Hz\u001b[0m\u001b[35m \u001b[0m│\n",
       "└─────────────────────┴─────────────────────────────┘\n"
      ]
     },
     "metadata": {},
     "output_type": "display_data"
    },
    {
     "name": "stderr",
     "output_type": "stream",
     "text": [
      "2025-05-10 19:19:55,947 [torchrl][INFO] check_env_specs succeeded!\n"
     ]
    },
    {
     "data": {
      "text/html": [
       "<pre style=\"white-space:pre;overflow-x:auto;line-height:normal;font-family:Menlo,'DejaVu Sans Mono',consolas,'Courier New',monospace\"><span style=\"font-style: italic\">     Policy Parameter Counts     </span>\n",
       "┏━━━━━━━━━━━━━━━━━━┳━━━━━━━━━━━━┓\n",
       "┃<span style=\"font-weight: bold\">        Component </span>┃<span style=\"font-weight: bold\"> Parameters </span>┃\n",
       "┡━━━━━━━━━━━━━━━━━━╇━━━━━━━━━━━━┩\n",
       "│<span style=\"color: #008080; text-decoration-color: #008080\">    Actor Encoder </span>│<span style=\"color: #800080; text-decoration-color: #800080\">     32,032 </span>│\n",
       "│<span style=\"color: #008080; text-decoration-color: #008080\">       Actor Head </span>│<span style=\"color: #800080; text-decoration-color: #800080\">     13,456 </span>│\n",
       "│<span style=\"color: #008080; text-decoration-color: #008080\">    Value Encoder </span>│<span style=\"color: #800080; text-decoration-color: #800080\">     32,032 </span>│\n",
       "│<span style=\"color: #008080; text-decoration-color: #008080\">       Value Head </span>│<span style=\"color: #800080; text-decoration-color: #800080\">     12,737 </span>│\n",
       "│<span style=\"color: #008080; text-decoration-color: #008080\">              --- </span>│<span style=\"color: #800080; text-decoration-color: #800080\">        --- </span>│\n",
       "│<span style=\"color: #008080; text-decoration-color: #008080\">      Total Actor </span>│<span style=\"color: #800080; text-decoration-color: #800080\">     45,488 </span>│\n",
       "│<span style=\"color: #008080; text-decoration-color: #008080\">      Total Value </span>│<span style=\"color: #800080; text-decoration-color: #800080\">     44,769 </span>│\n",
       "│<span style=\"color: #008080; text-decoration-color: #008080\">              --- </span>│<span style=\"color: #800080; text-decoration-color: #800080\">        --- </span>│\n",
       "│<span style=\"color: #008080; text-decoration-color: #008080\"> Total Parameters </span>│<span style=\"color: #800080; text-decoration-color: #800080\">     90,257 </span>│\n",
       "└──────────────────┴────────────┘\n",
       "</pre>\n"
      ],
      "text/plain": [
       "\u001b[3m     Policy Parameter Counts     \u001b[0m\n",
       "┏━━━━━━━━━━━━━━━━━━┳━━━━━━━━━━━━┓\n",
       "┃\u001b[1m \u001b[0m\u001b[1m       Component\u001b[0m\u001b[1m \u001b[0m┃\u001b[1m \u001b[0m\u001b[1mParameters\u001b[0m\u001b[1m \u001b[0m┃\n",
       "┡━━━━━━━━━━━━━━━━━━╇━━━━━━━━━━━━┩\n",
       "│\u001b[36m \u001b[0m\u001b[36m   Actor Encoder\u001b[0m\u001b[36m \u001b[0m│\u001b[35m \u001b[0m\u001b[35m    32,032\u001b[0m\u001b[35m \u001b[0m│\n",
       "│\u001b[36m \u001b[0m\u001b[36m      Actor Head\u001b[0m\u001b[36m \u001b[0m│\u001b[35m \u001b[0m\u001b[35m    13,456\u001b[0m\u001b[35m \u001b[0m│\n",
       "│\u001b[36m \u001b[0m\u001b[36m   Value Encoder\u001b[0m\u001b[36m \u001b[0m│\u001b[35m \u001b[0m\u001b[35m    32,032\u001b[0m\u001b[35m \u001b[0m│\n",
       "│\u001b[36m \u001b[0m\u001b[36m      Value Head\u001b[0m\u001b[36m \u001b[0m│\u001b[35m \u001b[0m\u001b[35m    12,737\u001b[0m\u001b[35m \u001b[0m│\n",
       "│\u001b[36m \u001b[0m\u001b[36m             ---\u001b[0m\u001b[36m \u001b[0m│\u001b[35m \u001b[0m\u001b[35m       ---\u001b[0m\u001b[35m \u001b[0m│\n",
       "│\u001b[36m \u001b[0m\u001b[36m     Total Actor\u001b[0m\u001b[36m \u001b[0m│\u001b[35m \u001b[0m\u001b[35m    45,488\u001b[0m\u001b[35m \u001b[0m│\n",
       "│\u001b[36m \u001b[0m\u001b[36m     Total Value\u001b[0m\u001b[36m \u001b[0m│\u001b[35m \u001b[0m\u001b[35m    44,769\u001b[0m\u001b[35m \u001b[0m│\n",
       "│\u001b[36m \u001b[0m\u001b[36m             ---\u001b[0m\u001b[36m \u001b[0m│\u001b[35m \u001b[0m\u001b[35m       ---\u001b[0m\u001b[35m \u001b[0m│\n",
       "│\u001b[36m \u001b[0m\u001b[36mTotal Parameters\u001b[0m\u001b[36m \u001b[0m│\u001b[35m \u001b[0m\u001b[35m    90,257\u001b[0m\u001b[35m \u001b[0m│\n",
       "└──────────────────┴────────────┘\n"
      ]
     },
     "metadata": {},
     "output_type": "display_data"
    },
    {
     "name": "stderr",
     "output_type": "stream",
     "text": []
    },
    {
     "data": {
      "text/html": [
       "<pre style=\"white-space:pre;overflow-x:auto;line-height:normal;font-family:Menlo,'DejaVu Sans Mono',consolas,'Courier New',monospace\"><span style=\"font-style: italic\">                 Environment Summary                 </span>\n",
       "┏━━━━━━━━━━━━━━━━━━━━━┳━━━━━━━━━━━━━━━━━━━━━━━━━━━━━┓\n",
       "┃<span style=\"font-weight: bold\">                 Key </span>┃<span style=\"font-weight: bold\">                       Value </span>┃\n",
       "┡━━━━━━━━━━━━━━━━━━━━━╇━━━━━━━━━━━━━━━━━━━━━━━━━━━━━┩\n",
       "│<span style=\"color: #008080; text-decoration-color: #008080\">    Number of robots </span>│<span style=\"color: #800080; text-decoration-color: #800080\">                          16 </span>│\n",
       "│<span style=\"color: #008080; text-decoration-color: #008080\">        Observations </span>│<span style=\"color: #800080; text-decoration-color: #800080\"> LocalStateVector, Heightmap </span>│\n",
       "│<span style=\"color: #008080; text-decoration-color: #008080\">              Reward </span>│<span style=\"color: #800080; text-decoration-color: #800080\">               PotentialGoal </span>│\n",
       "│<span style=\"color: #008080; text-decoration-color: #008080\">           Objective </span>│<span style=\"color: #800080; text-decoration-color: #800080\">               TrunkCrossing </span>│\n",
       "│<span style=\"color: #008080; text-decoration-color: #008080\">   Physics frequency </span>│<span style=\"color: #800080; text-decoration-color: #800080\">                   142.86 Hz </span>│\n",
       "│<span style=\"color: #008080; text-decoration-color: #008080\">   Engine iters/step </span>│<span style=\"color: #800080; text-decoration-color: #800080\">                           4 </span>│\n",
       "│<span style=\"color: #008080; text-decoration-color: #008080\"> Effective frequency </span>│<span style=\"color: #800080; text-decoration-color: #800080\">                    35.71 Hz </span>│\n",
       "└─────────────────────┴─────────────────────────────┘\n",
       "</pre>\n"
      ],
      "text/plain": [
       "\u001b[3m                 Environment Summary                 \u001b[0m\n",
       "┏━━━━━━━━━━━━━━━━━━━━━┳━━━━━━━━━━━━━━━━━━━━━━━━━━━━━┓\n",
       "┃\u001b[1m \u001b[0m\u001b[1m                Key\u001b[0m\u001b[1m \u001b[0m┃\u001b[1m \u001b[0m\u001b[1m                      Value\u001b[0m\u001b[1m \u001b[0m┃\n",
       "┡━━━━━━━━━━━━━━━━━━━━━╇━━━━━━━━━━━━━━━━━━━━━━━━━━━━━┩\n",
       "│\u001b[36m \u001b[0m\u001b[36m   Number of robots\u001b[0m\u001b[36m \u001b[0m│\u001b[35m \u001b[0m\u001b[35m                         16\u001b[0m\u001b[35m \u001b[0m│\n",
       "│\u001b[36m \u001b[0m\u001b[36m       Observations\u001b[0m\u001b[36m \u001b[0m│\u001b[35m \u001b[0m\u001b[35mLocalStateVector, Heightmap\u001b[0m\u001b[35m \u001b[0m│\n",
       "│\u001b[36m \u001b[0m\u001b[36m             Reward\u001b[0m\u001b[36m \u001b[0m│\u001b[35m \u001b[0m\u001b[35m              PotentialGoal\u001b[0m\u001b[35m \u001b[0m│\n",
       "│\u001b[36m \u001b[0m\u001b[36m          Objective\u001b[0m\u001b[36m \u001b[0m│\u001b[35m \u001b[0m\u001b[35m              TrunkCrossing\u001b[0m\u001b[35m \u001b[0m│\n",
       "│\u001b[36m \u001b[0m\u001b[36m  Physics frequency\u001b[0m\u001b[36m \u001b[0m│\u001b[35m \u001b[0m\u001b[35m                  142.86 Hz\u001b[0m\u001b[35m \u001b[0m│\n",
       "│\u001b[36m \u001b[0m\u001b[36m  Engine iters/step\u001b[0m\u001b[36m \u001b[0m│\u001b[35m \u001b[0m\u001b[35m                          4\u001b[0m\u001b[35m \u001b[0m│\n",
       "│\u001b[36m \u001b[0m\u001b[36mEffective frequency\u001b[0m\u001b[36m \u001b[0m│\u001b[35m \u001b[0m\u001b[35m                   35.71 Hz\u001b[0m\u001b[35m \u001b[0m│\n",
       "└─────────────────────┴─────────────────────────────┘\n"
      ]
     },
     "metadata": {},
     "output_type": "display_data"
    },
    {
     "name": "stderr",
     "output_type": "stream",
     "text": [
      "2025-05-10 19:20:17,411 [torchrl][INFO] check_env_specs succeeded!\n"
     ]
    },
    {
     "data": {
      "text/html": [
       "<pre style=\"white-space:pre;overflow-x:auto;line-height:normal;font-family:Menlo,'DejaVu Sans Mono',consolas,'Courier New',monospace\"><span style=\"font-style: italic\">     Policy Parameter Counts     </span>\n",
       "┏━━━━━━━━━━━━━━━━━━┳━━━━━━━━━━━━┓\n",
       "┃<span style=\"font-weight: bold\">        Component </span>┃<span style=\"font-weight: bold\"> Parameters </span>┃\n",
       "┡━━━━━━━━━━━━━━━━━━╇━━━━━━━━━━━━┩\n",
       "│<span style=\"color: #008080; text-decoration-color: #008080\">    Actor Encoder </span>│<span style=\"color: #800080; text-decoration-color: #800080\">     32,032 </span>│\n",
       "│<span style=\"color: #008080; text-decoration-color: #008080\">       Actor Head </span>│<span style=\"color: #800080; text-decoration-color: #800080\">     13,456 </span>│\n",
       "│<span style=\"color: #008080; text-decoration-color: #008080\">    Value Encoder </span>│<span style=\"color: #800080; text-decoration-color: #800080\">     32,032 </span>│\n",
       "│<span style=\"color: #008080; text-decoration-color: #008080\">       Value Head </span>│<span style=\"color: #800080; text-decoration-color: #800080\">     12,737 </span>│\n",
       "│<span style=\"color: #008080; text-decoration-color: #008080\">              --- </span>│<span style=\"color: #800080; text-decoration-color: #800080\">        --- </span>│\n",
       "│<span style=\"color: #008080; text-decoration-color: #008080\">      Total Actor </span>│<span style=\"color: #800080; text-decoration-color: #800080\">     45,488 </span>│\n",
       "│<span style=\"color: #008080; text-decoration-color: #008080\">      Total Value </span>│<span style=\"color: #800080; text-decoration-color: #800080\">     44,769 </span>│\n",
       "│<span style=\"color: #008080; text-decoration-color: #008080\">              --- </span>│<span style=\"color: #800080; text-decoration-color: #800080\">        --- </span>│\n",
       "│<span style=\"color: #008080; text-decoration-color: #008080\"> Total Parameters </span>│<span style=\"color: #800080; text-decoration-color: #800080\">     90,257 </span>│\n",
       "└──────────────────┴────────────┘\n",
       "</pre>\n"
      ],
      "text/plain": [
       "\u001b[3m     Policy Parameter Counts     \u001b[0m\n",
       "┏━━━━━━━━━━━━━━━━━━┳━━━━━━━━━━━━┓\n",
       "┃\u001b[1m \u001b[0m\u001b[1m       Component\u001b[0m\u001b[1m \u001b[0m┃\u001b[1m \u001b[0m\u001b[1mParameters\u001b[0m\u001b[1m \u001b[0m┃\n",
       "┡━━━━━━━━━━━━━━━━━━╇━━━━━━━━━━━━┩\n",
       "│\u001b[36m \u001b[0m\u001b[36m   Actor Encoder\u001b[0m\u001b[36m \u001b[0m│\u001b[35m \u001b[0m\u001b[35m    32,032\u001b[0m\u001b[35m \u001b[0m│\n",
       "│\u001b[36m \u001b[0m\u001b[36m      Actor Head\u001b[0m\u001b[36m \u001b[0m│\u001b[35m \u001b[0m\u001b[35m    13,456\u001b[0m\u001b[35m \u001b[0m│\n",
       "│\u001b[36m \u001b[0m\u001b[36m   Value Encoder\u001b[0m\u001b[36m \u001b[0m│\u001b[35m \u001b[0m\u001b[35m    32,032\u001b[0m\u001b[35m \u001b[0m│\n",
       "│\u001b[36m \u001b[0m\u001b[36m      Value Head\u001b[0m\u001b[36m \u001b[0m│\u001b[35m \u001b[0m\u001b[35m    12,737\u001b[0m\u001b[35m \u001b[0m│\n",
       "│\u001b[36m \u001b[0m\u001b[36m             ---\u001b[0m\u001b[36m \u001b[0m│\u001b[35m \u001b[0m\u001b[35m       ---\u001b[0m\u001b[35m \u001b[0m│\n",
       "│\u001b[36m \u001b[0m\u001b[36m     Total Actor\u001b[0m\u001b[36m \u001b[0m│\u001b[35m \u001b[0m\u001b[35m    45,488\u001b[0m\u001b[35m \u001b[0m│\n",
       "│\u001b[36m \u001b[0m\u001b[36m     Total Value\u001b[0m\u001b[36m \u001b[0m│\u001b[35m \u001b[0m\u001b[35m    44,769\u001b[0m\u001b[35m \u001b[0m│\n",
       "│\u001b[36m \u001b[0m\u001b[36m             ---\u001b[0m\u001b[36m \u001b[0m│\u001b[35m \u001b[0m\u001b[35m       ---\u001b[0m\u001b[35m \u001b[0m│\n",
       "│\u001b[36m \u001b[0m\u001b[36mTotal Parameters\u001b[0m\u001b[36m \u001b[0m│\u001b[35m \u001b[0m\u001b[35m    90,257\u001b[0m\u001b[35m \u001b[0m│\n",
       "└──────────────────┴────────────┘\n"
      ]
     },
     "metadata": {},
     "output_type": "display_data"
    },
    {
     "name": "stderr",
     "output_type": "stream",
     "text": []
    },
    {
     "data": {
      "text/html": [
       "<pre style=\"white-space:pre;overflow-x:auto;line-height:normal;font-family:Menlo,'DejaVu Sans Mono',consolas,'Courier New',monospace\"><span style=\"font-style: italic\">                 Environment Summary                 </span>\n",
       "┏━━━━━━━━━━━━━━━━━━━━━┳━━━━━━━━━━━━━━━━━━━━━━━━━━━━━┓\n",
       "┃<span style=\"font-weight: bold\">                 Key </span>┃<span style=\"font-weight: bold\">                       Value </span>┃\n",
       "┡━━━━━━━━━━━━━━━━━━━━━╇━━━━━━━━━━━━━━━━━━━━━━━━━━━━━┩\n",
       "│<span style=\"color: #008080; text-decoration-color: #008080\">    Number of robots </span>│<span style=\"color: #800080; text-decoration-color: #800080\">                          16 </span>│\n",
       "│<span style=\"color: #008080; text-decoration-color: #008080\">        Observations </span>│<span style=\"color: #800080; text-decoration-color: #800080\"> LocalStateVector, Heightmap </span>│\n",
       "│<span style=\"color: #008080; text-decoration-color: #008080\">              Reward </span>│<span style=\"color: #800080; text-decoration-color: #800080\">               PotentialGoal </span>│\n",
       "│<span style=\"color: #008080; text-decoration-color: #008080\">           Objective </span>│<span style=\"color: #800080; text-decoration-color: #800080\">               TrunkCrossing </span>│\n",
       "│<span style=\"color: #008080; text-decoration-color: #008080\">   Physics frequency </span>│<span style=\"color: #800080; text-decoration-color: #800080\">                   142.86 Hz </span>│\n",
       "│<span style=\"color: #008080; text-decoration-color: #008080\">   Engine iters/step </span>│<span style=\"color: #800080; text-decoration-color: #800080\">                           4 </span>│\n",
       "│<span style=\"color: #008080; text-decoration-color: #008080\"> Effective frequency </span>│<span style=\"color: #800080; text-decoration-color: #800080\">                    35.71 Hz </span>│\n",
       "└─────────────────────┴─────────────────────────────┘\n",
       "</pre>\n"
      ],
      "text/plain": [
       "\u001b[3m                 Environment Summary                 \u001b[0m\n",
       "┏━━━━━━━━━━━━━━━━━━━━━┳━━━━━━━━━━━━━━━━━━━━━━━━━━━━━┓\n",
       "┃\u001b[1m \u001b[0m\u001b[1m                Key\u001b[0m\u001b[1m \u001b[0m┃\u001b[1m \u001b[0m\u001b[1m                      Value\u001b[0m\u001b[1m \u001b[0m┃\n",
       "┡━━━━━━━━━━━━━━━━━━━━━╇━━━━━━━━━━━━━━━━━━━━━━━━━━━━━┩\n",
       "│\u001b[36m \u001b[0m\u001b[36m   Number of robots\u001b[0m\u001b[36m \u001b[0m│\u001b[35m \u001b[0m\u001b[35m                         16\u001b[0m\u001b[35m \u001b[0m│\n",
       "│\u001b[36m \u001b[0m\u001b[36m       Observations\u001b[0m\u001b[36m \u001b[0m│\u001b[35m \u001b[0m\u001b[35mLocalStateVector, Heightmap\u001b[0m\u001b[35m \u001b[0m│\n",
       "│\u001b[36m \u001b[0m\u001b[36m             Reward\u001b[0m\u001b[36m \u001b[0m│\u001b[35m \u001b[0m\u001b[35m              PotentialGoal\u001b[0m\u001b[35m \u001b[0m│\n",
       "│\u001b[36m \u001b[0m\u001b[36m          Objective\u001b[0m\u001b[36m \u001b[0m│\u001b[35m \u001b[0m\u001b[35m              TrunkCrossing\u001b[0m\u001b[35m \u001b[0m│\n",
       "│\u001b[36m \u001b[0m\u001b[36m  Physics frequency\u001b[0m\u001b[36m \u001b[0m│\u001b[35m \u001b[0m\u001b[35m                  142.86 Hz\u001b[0m\u001b[35m \u001b[0m│\n",
       "│\u001b[36m \u001b[0m\u001b[36m  Engine iters/step\u001b[0m\u001b[36m \u001b[0m│\u001b[35m \u001b[0m\u001b[35m                          4\u001b[0m\u001b[35m \u001b[0m│\n",
       "│\u001b[36m \u001b[0m\u001b[36mEffective frequency\u001b[0m\u001b[36m \u001b[0m│\u001b[35m \u001b[0m\u001b[35m                   35.71 Hz\u001b[0m\u001b[35m \u001b[0m│\n",
       "└─────────────────────┴─────────────────────────────┘\n"
      ]
     },
     "metadata": {},
     "output_type": "display_data"
    },
    {
     "name": "stderr",
     "output_type": "stream",
     "text": [
      "2025-05-10 19:20:37,516 [torchrl][INFO] check_env_specs succeeded!\n"
     ]
    },
    {
     "data": {
      "text/html": [
       "<pre style=\"white-space:pre;overflow-x:auto;line-height:normal;font-family:Menlo,'DejaVu Sans Mono',consolas,'Courier New',monospace\"><span style=\"font-style: italic\">     Policy Parameter Counts     </span>\n",
       "┏━━━━━━━━━━━━━━━━━━┳━━━━━━━━━━━━┓\n",
       "┃<span style=\"font-weight: bold\">        Component </span>┃<span style=\"font-weight: bold\"> Parameters </span>┃\n",
       "┡━━━━━━━━━━━━━━━━━━╇━━━━━━━━━━━━┩\n",
       "│<span style=\"color: #008080; text-decoration-color: #008080\">    Actor Encoder </span>│<span style=\"color: #800080; text-decoration-color: #800080\">     32,032 </span>│\n",
       "│<span style=\"color: #008080; text-decoration-color: #008080\">       Actor Head </span>│<span style=\"color: #800080; text-decoration-color: #800080\">     13,456 </span>│\n",
       "│<span style=\"color: #008080; text-decoration-color: #008080\">    Value Encoder </span>│<span style=\"color: #800080; text-decoration-color: #800080\">     32,032 </span>│\n",
       "│<span style=\"color: #008080; text-decoration-color: #008080\">       Value Head </span>│<span style=\"color: #800080; text-decoration-color: #800080\">     12,737 </span>│\n",
       "│<span style=\"color: #008080; text-decoration-color: #008080\">              --- </span>│<span style=\"color: #800080; text-decoration-color: #800080\">        --- </span>│\n",
       "│<span style=\"color: #008080; text-decoration-color: #008080\">      Total Actor </span>│<span style=\"color: #800080; text-decoration-color: #800080\">     45,488 </span>│\n",
       "│<span style=\"color: #008080; text-decoration-color: #008080\">      Total Value </span>│<span style=\"color: #800080; text-decoration-color: #800080\">     44,769 </span>│\n",
       "│<span style=\"color: #008080; text-decoration-color: #008080\">              --- </span>│<span style=\"color: #800080; text-decoration-color: #800080\">        --- </span>│\n",
       "│<span style=\"color: #008080; text-decoration-color: #008080\"> Total Parameters </span>│<span style=\"color: #800080; text-decoration-color: #800080\">     90,257 </span>│\n",
       "└──────────────────┴────────────┘\n",
       "</pre>\n"
      ],
      "text/plain": [
       "\u001b[3m     Policy Parameter Counts     \u001b[0m\n",
       "┏━━━━━━━━━━━━━━━━━━┳━━━━━━━━━━━━┓\n",
       "┃\u001b[1m \u001b[0m\u001b[1m       Component\u001b[0m\u001b[1m \u001b[0m┃\u001b[1m \u001b[0m\u001b[1mParameters\u001b[0m\u001b[1m \u001b[0m┃\n",
       "┡━━━━━━━━━━━━━━━━━━╇━━━━━━━━━━━━┩\n",
       "│\u001b[36m \u001b[0m\u001b[36m   Actor Encoder\u001b[0m\u001b[36m \u001b[0m│\u001b[35m \u001b[0m\u001b[35m    32,032\u001b[0m\u001b[35m \u001b[0m│\n",
       "│\u001b[36m \u001b[0m\u001b[36m      Actor Head\u001b[0m\u001b[36m \u001b[0m│\u001b[35m \u001b[0m\u001b[35m    13,456\u001b[0m\u001b[35m \u001b[0m│\n",
       "│\u001b[36m \u001b[0m\u001b[36m   Value Encoder\u001b[0m\u001b[36m \u001b[0m│\u001b[35m \u001b[0m\u001b[35m    32,032\u001b[0m\u001b[35m \u001b[0m│\n",
       "│\u001b[36m \u001b[0m\u001b[36m      Value Head\u001b[0m\u001b[36m \u001b[0m│\u001b[35m \u001b[0m\u001b[35m    12,737\u001b[0m\u001b[35m \u001b[0m│\n",
       "│\u001b[36m \u001b[0m\u001b[36m             ---\u001b[0m\u001b[36m \u001b[0m│\u001b[35m \u001b[0m\u001b[35m       ---\u001b[0m\u001b[35m \u001b[0m│\n",
       "│\u001b[36m \u001b[0m\u001b[36m     Total Actor\u001b[0m\u001b[36m \u001b[0m│\u001b[35m \u001b[0m\u001b[35m    45,488\u001b[0m\u001b[35m \u001b[0m│\n",
       "│\u001b[36m \u001b[0m\u001b[36m     Total Value\u001b[0m\u001b[36m \u001b[0m│\u001b[35m \u001b[0m\u001b[35m    44,769\u001b[0m\u001b[35m \u001b[0m│\n",
       "│\u001b[36m \u001b[0m\u001b[36m             ---\u001b[0m\u001b[36m \u001b[0m│\u001b[35m \u001b[0m\u001b[35m       ---\u001b[0m\u001b[35m \u001b[0m│\n",
       "│\u001b[36m \u001b[0m\u001b[36mTotal Parameters\u001b[0m\u001b[36m \u001b[0m│\u001b[35m \u001b[0m\u001b[35m    90,257\u001b[0m\u001b[35m \u001b[0m│\n",
       "└──────────────────┴────────────┘\n"
      ]
     },
     "metadata": {},
     "output_type": "display_data"
    },
    {
     "name": "stderr",
     "output_type": "stream",
     "text": []
    },
    {
     "data": {
      "text/html": [
       "<pre style=\"white-space:pre;overflow-x:auto;line-height:normal;font-family:Menlo,'DejaVu Sans Mono',consolas,'Courier New',monospace\"><span style=\"font-style: italic\">                 Environment Summary                 </span>\n",
       "┏━━━━━━━━━━━━━━━━━━━━━┳━━━━━━━━━━━━━━━━━━━━━━━━━━━━━┓\n",
       "┃<span style=\"font-weight: bold\">                 Key </span>┃<span style=\"font-weight: bold\">                       Value </span>┃\n",
       "┡━━━━━━━━━━━━━━━━━━━━━╇━━━━━━━━━━━━━━━━━━━━━━━━━━━━━┩\n",
       "│<span style=\"color: #008080; text-decoration-color: #008080\">    Number of robots </span>│<span style=\"color: #800080; text-decoration-color: #800080\">                          16 </span>│\n",
       "│<span style=\"color: #008080; text-decoration-color: #008080\">        Observations </span>│<span style=\"color: #800080; text-decoration-color: #800080\"> LocalStateVector, Heightmap </span>│\n",
       "│<span style=\"color: #008080; text-decoration-color: #008080\">              Reward </span>│<span style=\"color: #800080; text-decoration-color: #800080\">               PotentialGoal </span>│\n",
       "│<span style=\"color: #008080; text-decoration-color: #008080\">           Objective </span>│<span style=\"color: #800080; text-decoration-color: #800080\">               TrunkCrossing </span>│\n",
       "│<span style=\"color: #008080; text-decoration-color: #008080\">   Physics frequency </span>│<span style=\"color: #800080; text-decoration-color: #800080\">                   142.86 Hz </span>│\n",
       "│<span style=\"color: #008080; text-decoration-color: #008080\">   Engine iters/step </span>│<span style=\"color: #800080; text-decoration-color: #800080\">                           4 </span>│\n",
       "│<span style=\"color: #008080; text-decoration-color: #008080\"> Effective frequency </span>│<span style=\"color: #800080; text-decoration-color: #800080\">                    35.71 Hz </span>│\n",
       "└─────────────────────┴─────────────────────────────┘\n",
       "</pre>\n"
      ],
      "text/plain": [
       "\u001b[3m                 Environment Summary                 \u001b[0m\n",
       "┏━━━━━━━━━━━━━━━━━━━━━┳━━━━━━━━━━━━━━━━━━━━━━━━━━━━━┓\n",
       "┃\u001b[1m \u001b[0m\u001b[1m                Key\u001b[0m\u001b[1m \u001b[0m┃\u001b[1m \u001b[0m\u001b[1m                      Value\u001b[0m\u001b[1m \u001b[0m┃\n",
       "┡━━━━━━━━━━━━━━━━━━━━━╇━━━━━━━━━━━━━━━━━━━━━━━━━━━━━┩\n",
       "│\u001b[36m \u001b[0m\u001b[36m   Number of robots\u001b[0m\u001b[36m \u001b[0m│\u001b[35m \u001b[0m\u001b[35m                         16\u001b[0m\u001b[35m \u001b[0m│\n",
       "│\u001b[36m \u001b[0m\u001b[36m       Observations\u001b[0m\u001b[36m \u001b[0m│\u001b[35m \u001b[0m\u001b[35mLocalStateVector, Heightmap\u001b[0m\u001b[35m \u001b[0m│\n",
       "│\u001b[36m \u001b[0m\u001b[36m             Reward\u001b[0m\u001b[36m \u001b[0m│\u001b[35m \u001b[0m\u001b[35m              PotentialGoal\u001b[0m\u001b[35m \u001b[0m│\n",
       "│\u001b[36m \u001b[0m\u001b[36m          Objective\u001b[0m\u001b[36m \u001b[0m│\u001b[35m \u001b[0m\u001b[35m              TrunkCrossing\u001b[0m\u001b[35m \u001b[0m│\n",
       "│\u001b[36m \u001b[0m\u001b[36m  Physics frequency\u001b[0m\u001b[36m \u001b[0m│\u001b[35m \u001b[0m\u001b[35m                  142.86 Hz\u001b[0m\u001b[35m \u001b[0m│\n",
       "│\u001b[36m \u001b[0m\u001b[36m  Engine iters/step\u001b[0m\u001b[36m \u001b[0m│\u001b[35m \u001b[0m\u001b[35m                          4\u001b[0m\u001b[35m \u001b[0m│\n",
       "│\u001b[36m \u001b[0m\u001b[36mEffective frequency\u001b[0m\u001b[36m \u001b[0m│\u001b[35m \u001b[0m\u001b[35m                   35.71 Hz\u001b[0m\u001b[35m \u001b[0m│\n",
       "└─────────────────────┴─────────────────────────────┘\n"
      ]
     },
     "metadata": {},
     "output_type": "display_data"
    },
    {
     "name": "stderr",
     "output_type": "stream",
     "text": [
      "2025-05-10 19:20:59,925 [torchrl][INFO] check_env_specs succeeded!\n"
     ]
    },
    {
     "data": {
      "text/html": [
       "<pre style=\"white-space:pre;overflow-x:auto;line-height:normal;font-family:Menlo,'DejaVu Sans Mono',consolas,'Courier New',monospace\"><span style=\"font-style: italic\">     Policy Parameter Counts     </span>\n",
       "┏━━━━━━━━━━━━━━━━━━┳━━━━━━━━━━━━┓\n",
       "┃<span style=\"font-weight: bold\">        Component </span>┃<span style=\"font-weight: bold\"> Parameters </span>┃\n",
       "┡━━━━━━━━━━━━━━━━━━╇━━━━━━━━━━━━┩\n",
       "│<span style=\"color: #008080; text-decoration-color: #008080\">    Actor Encoder </span>│<span style=\"color: #800080; text-decoration-color: #800080\">     32,032 </span>│\n",
       "│<span style=\"color: #008080; text-decoration-color: #008080\">       Actor Head </span>│<span style=\"color: #800080; text-decoration-color: #800080\">     13,456 </span>│\n",
       "│<span style=\"color: #008080; text-decoration-color: #008080\">    Value Encoder </span>│<span style=\"color: #800080; text-decoration-color: #800080\">     32,032 </span>│\n",
       "│<span style=\"color: #008080; text-decoration-color: #008080\">       Value Head </span>│<span style=\"color: #800080; text-decoration-color: #800080\">     12,737 </span>│\n",
       "│<span style=\"color: #008080; text-decoration-color: #008080\">              --- </span>│<span style=\"color: #800080; text-decoration-color: #800080\">        --- </span>│\n",
       "│<span style=\"color: #008080; text-decoration-color: #008080\">      Total Actor </span>│<span style=\"color: #800080; text-decoration-color: #800080\">     45,488 </span>│\n",
       "│<span style=\"color: #008080; text-decoration-color: #008080\">      Total Value </span>│<span style=\"color: #800080; text-decoration-color: #800080\">     44,769 </span>│\n",
       "│<span style=\"color: #008080; text-decoration-color: #008080\">              --- </span>│<span style=\"color: #800080; text-decoration-color: #800080\">        --- </span>│\n",
       "│<span style=\"color: #008080; text-decoration-color: #008080\"> Total Parameters </span>│<span style=\"color: #800080; text-decoration-color: #800080\">     90,257 </span>│\n",
       "└──────────────────┴────────────┘\n",
       "</pre>\n"
      ],
      "text/plain": [
       "\u001b[3m     Policy Parameter Counts     \u001b[0m\n",
       "┏━━━━━━━━━━━━━━━━━━┳━━━━━━━━━━━━┓\n",
       "┃\u001b[1m \u001b[0m\u001b[1m       Component\u001b[0m\u001b[1m \u001b[0m┃\u001b[1m \u001b[0m\u001b[1mParameters\u001b[0m\u001b[1m \u001b[0m┃\n",
       "┡━━━━━━━━━━━━━━━━━━╇━━━━━━━━━━━━┩\n",
       "│\u001b[36m \u001b[0m\u001b[36m   Actor Encoder\u001b[0m\u001b[36m \u001b[0m│\u001b[35m \u001b[0m\u001b[35m    32,032\u001b[0m\u001b[35m \u001b[0m│\n",
       "│\u001b[36m \u001b[0m\u001b[36m      Actor Head\u001b[0m\u001b[36m \u001b[0m│\u001b[35m \u001b[0m\u001b[35m    13,456\u001b[0m\u001b[35m \u001b[0m│\n",
       "│\u001b[36m \u001b[0m\u001b[36m   Value Encoder\u001b[0m\u001b[36m \u001b[0m│\u001b[35m \u001b[0m\u001b[35m    32,032\u001b[0m\u001b[35m \u001b[0m│\n",
       "│\u001b[36m \u001b[0m\u001b[36m      Value Head\u001b[0m\u001b[36m \u001b[0m│\u001b[35m \u001b[0m\u001b[35m    12,737\u001b[0m\u001b[35m \u001b[0m│\n",
       "│\u001b[36m \u001b[0m\u001b[36m             ---\u001b[0m\u001b[36m \u001b[0m│\u001b[35m \u001b[0m\u001b[35m       ---\u001b[0m\u001b[35m \u001b[0m│\n",
       "│\u001b[36m \u001b[0m\u001b[36m     Total Actor\u001b[0m\u001b[36m \u001b[0m│\u001b[35m \u001b[0m\u001b[35m    45,488\u001b[0m\u001b[35m \u001b[0m│\n",
       "│\u001b[36m \u001b[0m\u001b[36m     Total Value\u001b[0m\u001b[36m \u001b[0m│\u001b[35m \u001b[0m\u001b[35m    44,769\u001b[0m\u001b[35m \u001b[0m│\n",
       "│\u001b[36m \u001b[0m\u001b[36m             ---\u001b[0m\u001b[36m \u001b[0m│\u001b[35m \u001b[0m\u001b[35m       ---\u001b[0m\u001b[35m \u001b[0m│\n",
       "│\u001b[36m \u001b[0m\u001b[36mTotal Parameters\u001b[0m\u001b[36m \u001b[0m│\u001b[35m \u001b[0m\u001b[35m    90,257\u001b[0m\u001b[35m \u001b[0m│\n",
       "└──────────────────┴────────────┘\n"
      ]
     },
     "metadata": {},
     "output_type": "display_data"
    },
    {
     "name": "stderr",
     "output_type": "stream",
     "text": []
    },
    {
     "data": {
      "text/html": [
       "<pre style=\"white-space:pre;overflow-x:auto;line-height:normal;font-family:Menlo,'DejaVu Sans Mono',consolas,'Courier New',monospace\"><span style=\"font-style: italic\">                 Environment Summary                 </span>\n",
       "┏━━━━━━━━━━━━━━━━━━━━━┳━━━━━━━━━━━━━━━━━━━━━━━━━━━━━┓\n",
       "┃<span style=\"font-weight: bold\">                 Key </span>┃<span style=\"font-weight: bold\">                       Value </span>┃\n",
       "┡━━━━━━━━━━━━━━━━━━━━━╇━━━━━━━━━━━━━━━━━━━━━━━━━━━━━┩\n",
       "│<span style=\"color: #008080; text-decoration-color: #008080\">    Number of robots </span>│<span style=\"color: #800080; text-decoration-color: #800080\">                          16 </span>│\n",
       "│<span style=\"color: #008080; text-decoration-color: #008080\">        Observations </span>│<span style=\"color: #800080; text-decoration-color: #800080\"> LocalStateVector, Heightmap </span>│\n",
       "│<span style=\"color: #008080; text-decoration-color: #008080\">              Reward </span>│<span style=\"color: #800080; text-decoration-color: #800080\">               PotentialGoal </span>│\n",
       "│<span style=\"color: #008080; text-decoration-color: #008080\">           Objective </span>│<span style=\"color: #800080; text-decoration-color: #800080\">               TrunkCrossing </span>│\n",
       "│<span style=\"color: #008080; text-decoration-color: #008080\">   Physics frequency </span>│<span style=\"color: #800080; text-decoration-color: #800080\">                   142.86 Hz </span>│\n",
       "│<span style=\"color: #008080; text-decoration-color: #008080\">   Engine iters/step </span>│<span style=\"color: #800080; text-decoration-color: #800080\">                           4 </span>│\n",
       "│<span style=\"color: #008080; text-decoration-color: #008080\"> Effective frequency </span>│<span style=\"color: #800080; text-decoration-color: #800080\">                    35.71 Hz </span>│\n",
       "└─────────────────────┴─────────────────────────────┘\n",
       "</pre>\n"
      ],
      "text/plain": [
       "\u001b[3m                 Environment Summary                 \u001b[0m\n",
       "┏━━━━━━━━━━━━━━━━━━━━━┳━━━━━━━━━━━━━━━━━━━━━━━━━━━━━┓\n",
       "┃\u001b[1m \u001b[0m\u001b[1m                Key\u001b[0m\u001b[1m \u001b[0m┃\u001b[1m \u001b[0m\u001b[1m                      Value\u001b[0m\u001b[1m \u001b[0m┃\n",
       "┡━━━━━━━━━━━━━━━━━━━━━╇━━━━━━━━━━━━━━━━━━━━━━━━━━━━━┩\n",
       "│\u001b[36m \u001b[0m\u001b[36m   Number of robots\u001b[0m\u001b[36m \u001b[0m│\u001b[35m \u001b[0m\u001b[35m                         16\u001b[0m\u001b[35m \u001b[0m│\n",
       "│\u001b[36m \u001b[0m\u001b[36m       Observations\u001b[0m\u001b[36m \u001b[0m│\u001b[35m \u001b[0m\u001b[35mLocalStateVector, Heightmap\u001b[0m\u001b[35m \u001b[0m│\n",
       "│\u001b[36m \u001b[0m\u001b[36m             Reward\u001b[0m\u001b[36m \u001b[0m│\u001b[35m \u001b[0m\u001b[35m              PotentialGoal\u001b[0m\u001b[35m \u001b[0m│\n",
       "│\u001b[36m \u001b[0m\u001b[36m          Objective\u001b[0m\u001b[36m \u001b[0m│\u001b[35m \u001b[0m\u001b[35m              TrunkCrossing\u001b[0m\u001b[35m \u001b[0m│\n",
       "│\u001b[36m \u001b[0m\u001b[36m  Physics frequency\u001b[0m\u001b[36m \u001b[0m│\u001b[35m \u001b[0m\u001b[35m                  142.86 Hz\u001b[0m\u001b[35m \u001b[0m│\n",
       "│\u001b[36m \u001b[0m\u001b[36m  Engine iters/step\u001b[0m\u001b[36m \u001b[0m│\u001b[35m \u001b[0m\u001b[35m                          4\u001b[0m\u001b[35m \u001b[0m│\n",
       "│\u001b[36m \u001b[0m\u001b[36mEffective frequency\u001b[0m\u001b[36m \u001b[0m│\u001b[35m \u001b[0m\u001b[35m                   35.71 Hz\u001b[0m\u001b[35m \u001b[0m│\n",
       "└─────────────────────┴─────────────────────────────┘\n"
      ]
     },
     "metadata": {},
     "output_type": "display_data"
    },
    {
     "name": "stderr",
     "output_type": "stream",
     "text": [
      "2025-05-10 19:21:21,421 [torchrl][INFO] check_env_specs succeeded!\n"
     ]
    },
    {
     "data": {
      "text/html": [
       "<pre style=\"white-space:pre;overflow-x:auto;line-height:normal;font-family:Menlo,'DejaVu Sans Mono',consolas,'Courier New',monospace\"><span style=\"font-style: italic\">     Policy Parameter Counts     </span>\n",
       "┏━━━━━━━━━━━━━━━━━━┳━━━━━━━━━━━━┓\n",
       "┃<span style=\"font-weight: bold\">        Component </span>┃<span style=\"font-weight: bold\"> Parameters </span>┃\n",
       "┡━━━━━━━━━━━━━━━━━━╇━━━━━━━━━━━━┩\n",
       "│<span style=\"color: #008080; text-decoration-color: #008080\">    Actor Encoder </span>│<span style=\"color: #800080; text-decoration-color: #800080\">     32,032 </span>│\n",
       "│<span style=\"color: #008080; text-decoration-color: #008080\">       Actor Head </span>│<span style=\"color: #800080; text-decoration-color: #800080\">     13,456 </span>│\n",
       "│<span style=\"color: #008080; text-decoration-color: #008080\">    Value Encoder </span>│<span style=\"color: #800080; text-decoration-color: #800080\">     32,032 </span>│\n",
       "│<span style=\"color: #008080; text-decoration-color: #008080\">       Value Head </span>│<span style=\"color: #800080; text-decoration-color: #800080\">     12,737 </span>│\n",
       "│<span style=\"color: #008080; text-decoration-color: #008080\">              --- </span>│<span style=\"color: #800080; text-decoration-color: #800080\">        --- </span>│\n",
       "│<span style=\"color: #008080; text-decoration-color: #008080\">      Total Actor </span>│<span style=\"color: #800080; text-decoration-color: #800080\">     45,488 </span>│\n",
       "│<span style=\"color: #008080; text-decoration-color: #008080\">      Total Value </span>│<span style=\"color: #800080; text-decoration-color: #800080\">     44,769 </span>│\n",
       "│<span style=\"color: #008080; text-decoration-color: #008080\">              --- </span>│<span style=\"color: #800080; text-decoration-color: #800080\">        --- </span>│\n",
       "│<span style=\"color: #008080; text-decoration-color: #008080\"> Total Parameters </span>│<span style=\"color: #800080; text-decoration-color: #800080\">     90,257 </span>│\n",
       "└──────────────────┴────────────┘\n",
       "</pre>\n"
      ],
      "text/plain": [
       "\u001b[3m     Policy Parameter Counts     \u001b[0m\n",
       "┏━━━━━━━━━━━━━━━━━━┳━━━━━━━━━━━━┓\n",
       "┃\u001b[1m \u001b[0m\u001b[1m       Component\u001b[0m\u001b[1m \u001b[0m┃\u001b[1m \u001b[0m\u001b[1mParameters\u001b[0m\u001b[1m \u001b[0m┃\n",
       "┡━━━━━━━━━━━━━━━━━━╇━━━━━━━━━━━━┩\n",
       "│\u001b[36m \u001b[0m\u001b[36m   Actor Encoder\u001b[0m\u001b[36m \u001b[0m│\u001b[35m \u001b[0m\u001b[35m    32,032\u001b[0m\u001b[35m \u001b[0m│\n",
       "│\u001b[36m \u001b[0m\u001b[36m      Actor Head\u001b[0m\u001b[36m \u001b[0m│\u001b[35m \u001b[0m\u001b[35m    13,456\u001b[0m\u001b[35m \u001b[0m│\n",
       "│\u001b[36m \u001b[0m\u001b[36m   Value Encoder\u001b[0m\u001b[36m \u001b[0m│\u001b[35m \u001b[0m\u001b[35m    32,032\u001b[0m\u001b[35m \u001b[0m│\n",
       "│\u001b[36m \u001b[0m\u001b[36m      Value Head\u001b[0m\u001b[36m \u001b[0m│\u001b[35m \u001b[0m\u001b[35m    12,737\u001b[0m\u001b[35m \u001b[0m│\n",
       "│\u001b[36m \u001b[0m\u001b[36m             ---\u001b[0m\u001b[36m \u001b[0m│\u001b[35m \u001b[0m\u001b[35m       ---\u001b[0m\u001b[35m \u001b[0m│\n",
       "│\u001b[36m \u001b[0m\u001b[36m     Total Actor\u001b[0m\u001b[36m \u001b[0m│\u001b[35m \u001b[0m\u001b[35m    45,488\u001b[0m\u001b[35m \u001b[0m│\n",
       "│\u001b[36m \u001b[0m\u001b[36m     Total Value\u001b[0m\u001b[36m \u001b[0m│\u001b[35m \u001b[0m\u001b[35m    44,769\u001b[0m\u001b[35m \u001b[0m│\n",
       "│\u001b[36m \u001b[0m\u001b[36m             ---\u001b[0m\u001b[36m \u001b[0m│\u001b[35m \u001b[0m\u001b[35m       ---\u001b[0m\u001b[35m \u001b[0m│\n",
       "│\u001b[36m \u001b[0m\u001b[36mTotal Parameters\u001b[0m\u001b[36m \u001b[0m│\u001b[35m \u001b[0m\u001b[35m    90,257\u001b[0m\u001b[35m \u001b[0m│\n",
       "└──────────────────┴────────────┘\n"
      ]
     },
     "metadata": {},
     "output_type": "display_data"
    },
    {
     "name": "stderr",
     "output_type": "stream",
     "text": []
    },
    {
     "data": {
      "text/html": [
       "<pre style=\"white-space:pre;overflow-x:auto;line-height:normal;font-family:Menlo,'DejaVu Sans Mono',consolas,'Courier New',monospace\"><span style=\"font-style: italic\">                 Environment Summary                 </span>\n",
       "┏━━━━━━━━━━━━━━━━━━━━━┳━━━━━━━━━━━━━━━━━━━━━━━━━━━━━┓\n",
       "┃<span style=\"font-weight: bold\">                 Key </span>┃<span style=\"font-weight: bold\">                       Value </span>┃\n",
       "┡━━━━━━━━━━━━━━━━━━━━━╇━━━━━━━━━━━━━━━━━━━━━━━━━━━━━┩\n",
       "│<span style=\"color: #008080; text-decoration-color: #008080\">    Number of robots </span>│<span style=\"color: #800080; text-decoration-color: #800080\">                          16 </span>│\n",
       "│<span style=\"color: #008080; text-decoration-color: #008080\">        Observations </span>│<span style=\"color: #800080; text-decoration-color: #800080\"> LocalStateVector, Heightmap </span>│\n",
       "│<span style=\"color: #008080; text-decoration-color: #008080\">              Reward </span>│<span style=\"color: #800080; text-decoration-color: #800080\">               PotentialGoal </span>│\n",
       "│<span style=\"color: #008080; text-decoration-color: #008080\">           Objective </span>│<span style=\"color: #800080; text-decoration-color: #800080\">               TrunkCrossing </span>│\n",
       "│<span style=\"color: #008080; text-decoration-color: #008080\">   Physics frequency </span>│<span style=\"color: #800080; text-decoration-color: #800080\">                   142.86 Hz </span>│\n",
       "│<span style=\"color: #008080; text-decoration-color: #008080\">   Engine iters/step </span>│<span style=\"color: #800080; text-decoration-color: #800080\">                           4 </span>│\n",
       "│<span style=\"color: #008080; text-decoration-color: #008080\"> Effective frequency </span>│<span style=\"color: #800080; text-decoration-color: #800080\">                    35.71 Hz </span>│\n",
       "└─────────────────────┴─────────────────────────────┘\n",
       "</pre>\n"
      ],
      "text/plain": [
       "\u001b[3m                 Environment Summary                 \u001b[0m\n",
       "┏━━━━━━━━━━━━━━━━━━━━━┳━━━━━━━━━━━━━━━━━━━━━━━━━━━━━┓\n",
       "┃\u001b[1m \u001b[0m\u001b[1m                Key\u001b[0m\u001b[1m \u001b[0m┃\u001b[1m \u001b[0m\u001b[1m                      Value\u001b[0m\u001b[1m \u001b[0m┃\n",
       "┡━━━━━━━━━━━━━━━━━━━━━╇━━━━━━━━━━━━━━━━━━━━━━━━━━━━━┩\n",
       "│\u001b[36m \u001b[0m\u001b[36m   Number of robots\u001b[0m\u001b[36m \u001b[0m│\u001b[35m \u001b[0m\u001b[35m                         16\u001b[0m\u001b[35m \u001b[0m│\n",
       "│\u001b[36m \u001b[0m\u001b[36m       Observations\u001b[0m\u001b[36m \u001b[0m│\u001b[35m \u001b[0m\u001b[35mLocalStateVector, Heightmap\u001b[0m\u001b[35m \u001b[0m│\n",
       "│\u001b[36m \u001b[0m\u001b[36m             Reward\u001b[0m\u001b[36m \u001b[0m│\u001b[35m \u001b[0m\u001b[35m              PotentialGoal\u001b[0m\u001b[35m \u001b[0m│\n",
       "│\u001b[36m \u001b[0m\u001b[36m          Objective\u001b[0m\u001b[36m \u001b[0m│\u001b[35m \u001b[0m\u001b[35m              TrunkCrossing\u001b[0m\u001b[35m \u001b[0m│\n",
       "│\u001b[36m \u001b[0m\u001b[36m  Physics frequency\u001b[0m\u001b[36m \u001b[0m│\u001b[35m \u001b[0m\u001b[35m                  142.86 Hz\u001b[0m\u001b[35m \u001b[0m│\n",
       "│\u001b[36m \u001b[0m\u001b[36m  Engine iters/step\u001b[0m\u001b[36m \u001b[0m│\u001b[35m \u001b[0m\u001b[35m                          4\u001b[0m\u001b[35m \u001b[0m│\n",
       "│\u001b[36m \u001b[0m\u001b[36mEffective frequency\u001b[0m\u001b[36m \u001b[0m│\u001b[35m \u001b[0m\u001b[35m                   35.71 Hz\u001b[0m\u001b[35m \u001b[0m│\n",
       "└─────────────────────┴─────────────────────────────┘\n"
      ]
     },
     "metadata": {},
     "output_type": "display_data"
    },
    {
     "name": "stderr",
     "output_type": "stream",
     "text": [
      "2025-05-10 19:21:39,831 [torchrl][INFO] check_env_specs succeeded!\n"
     ]
    },
    {
     "data": {
      "text/html": [
       "<pre style=\"white-space:pre;overflow-x:auto;line-height:normal;font-family:Menlo,'DejaVu Sans Mono',consolas,'Courier New',monospace\"><span style=\"font-style: italic\">     Policy Parameter Counts     </span>\n",
       "┏━━━━━━━━━━━━━━━━━━┳━━━━━━━━━━━━┓\n",
       "┃<span style=\"font-weight: bold\">        Component </span>┃<span style=\"font-weight: bold\"> Parameters </span>┃\n",
       "┡━━━━━━━━━━━━━━━━━━╇━━━━━━━━━━━━┩\n",
       "│<span style=\"color: #008080; text-decoration-color: #008080\">    Actor Encoder </span>│<span style=\"color: #800080; text-decoration-color: #800080\">     32,032 </span>│\n",
       "│<span style=\"color: #008080; text-decoration-color: #008080\">       Actor Head </span>│<span style=\"color: #800080; text-decoration-color: #800080\">     13,456 </span>│\n",
       "│<span style=\"color: #008080; text-decoration-color: #008080\">    Value Encoder </span>│<span style=\"color: #800080; text-decoration-color: #800080\">     32,032 </span>│\n",
       "│<span style=\"color: #008080; text-decoration-color: #008080\">       Value Head </span>│<span style=\"color: #800080; text-decoration-color: #800080\">     12,737 </span>│\n",
       "│<span style=\"color: #008080; text-decoration-color: #008080\">              --- </span>│<span style=\"color: #800080; text-decoration-color: #800080\">        --- </span>│\n",
       "│<span style=\"color: #008080; text-decoration-color: #008080\">      Total Actor </span>│<span style=\"color: #800080; text-decoration-color: #800080\">     45,488 </span>│\n",
       "│<span style=\"color: #008080; text-decoration-color: #008080\">      Total Value </span>│<span style=\"color: #800080; text-decoration-color: #800080\">     44,769 </span>│\n",
       "│<span style=\"color: #008080; text-decoration-color: #008080\">              --- </span>│<span style=\"color: #800080; text-decoration-color: #800080\">        --- </span>│\n",
       "│<span style=\"color: #008080; text-decoration-color: #008080\"> Total Parameters </span>│<span style=\"color: #800080; text-decoration-color: #800080\">     90,257 </span>│\n",
       "└──────────────────┴────────────┘\n",
       "</pre>\n"
      ],
      "text/plain": [
       "\u001b[3m     Policy Parameter Counts     \u001b[0m\n",
       "┏━━━━━━━━━━━━━━━━━━┳━━━━━━━━━━━━┓\n",
       "┃\u001b[1m \u001b[0m\u001b[1m       Component\u001b[0m\u001b[1m \u001b[0m┃\u001b[1m \u001b[0m\u001b[1mParameters\u001b[0m\u001b[1m \u001b[0m┃\n",
       "┡━━━━━━━━━━━━━━━━━━╇━━━━━━━━━━━━┩\n",
       "│\u001b[36m \u001b[0m\u001b[36m   Actor Encoder\u001b[0m\u001b[36m \u001b[0m│\u001b[35m \u001b[0m\u001b[35m    32,032\u001b[0m\u001b[35m \u001b[0m│\n",
       "│\u001b[36m \u001b[0m\u001b[36m      Actor Head\u001b[0m\u001b[36m \u001b[0m│\u001b[35m \u001b[0m\u001b[35m    13,456\u001b[0m\u001b[35m \u001b[0m│\n",
       "│\u001b[36m \u001b[0m\u001b[36m   Value Encoder\u001b[0m\u001b[36m \u001b[0m│\u001b[35m \u001b[0m\u001b[35m    32,032\u001b[0m\u001b[35m \u001b[0m│\n",
       "│\u001b[36m \u001b[0m\u001b[36m      Value Head\u001b[0m\u001b[36m \u001b[0m│\u001b[35m \u001b[0m\u001b[35m    12,737\u001b[0m\u001b[35m \u001b[0m│\n",
       "│\u001b[36m \u001b[0m\u001b[36m             ---\u001b[0m\u001b[36m \u001b[0m│\u001b[35m \u001b[0m\u001b[35m       ---\u001b[0m\u001b[35m \u001b[0m│\n",
       "│\u001b[36m \u001b[0m\u001b[36m     Total Actor\u001b[0m\u001b[36m \u001b[0m│\u001b[35m \u001b[0m\u001b[35m    45,488\u001b[0m\u001b[35m \u001b[0m│\n",
       "│\u001b[36m \u001b[0m\u001b[36m     Total Value\u001b[0m\u001b[36m \u001b[0m│\u001b[35m \u001b[0m\u001b[35m    44,769\u001b[0m\u001b[35m \u001b[0m│\n",
       "│\u001b[36m \u001b[0m\u001b[36m             ---\u001b[0m\u001b[36m \u001b[0m│\u001b[35m \u001b[0m\u001b[35m       ---\u001b[0m\u001b[35m \u001b[0m│\n",
       "│\u001b[36m \u001b[0m\u001b[36mTotal Parameters\u001b[0m\u001b[36m \u001b[0m│\u001b[35m \u001b[0m\u001b[35m    90,257\u001b[0m\u001b[35m \u001b[0m│\n",
       "└──────────────────┴────────────┘\n"
      ]
     },
     "metadata": {},
     "output_type": "display_data"
    },
    {
     "name": "stderr",
     "output_type": "stream",
     "text": []
    },
    {
     "data": {
      "text/html": [
       "<pre style=\"white-space:pre;overflow-x:auto;line-height:normal;font-family:Menlo,'DejaVu Sans Mono',consolas,'Courier New',monospace\"><span style=\"font-style: italic\">                 Environment Summary                 </span>\n",
       "┏━━━━━━━━━━━━━━━━━━━━━┳━━━━━━━━━━━━━━━━━━━━━━━━━━━━━┓\n",
       "┃<span style=\"font-weight: bold\">                 Key </span>┃<span style=\"font-weight: bold\">                       Value </span>┃\n",
       "┡━━━━━━━━━━━━━━━━━━━━━╇━━━━━━━━━━━━━━━━━━━━━━━━━━━━━┩\n",
       "│<span style=\"color: #008080; text-decoration-color: #008080\">    Number of robots </span>│<span style=\"color: #800080; text-decoration-color: #800080\">                          16 </span>│\n",
       "│<span style=\"color: #008080; text-decoration-color: #008080\">        Observations </span>│<span style=\"color: #800080; text-decoration-color: #800080\"> LocalStateVector, Heightmap </span>│\n",
       "│<span style=\"color: #008080; text-decoration-color: #008080\">              Reward </span>│<span style=\"color: #800080; text-decoration-color: #800080\">               PotentialGoal </span>│\n",
       "│<span style=\"color: #008080; text-decoration-color: #008080\">           Objective </span>│<span style=\"color: #800080; text-decoration-color: #800080\">               TrunkCrossing </span>│\n",
       "│<span style=\"color: #008080; text-decoration-color: #008080\">   Physics frequency </span>│<span style=\"color: #800080; text-decoration-color: #800080\">                   142.86 Hz </span>│\n",
       "│<span style=\"color: #008080; text-decoration-color: #008080\">   Engine iters/step </span>│<span style=\"color: #800080; text-decoration-color: #800080\">                           4 </span>│\n",
       "│<span style=\"color: #008080; text-decoration-color: #008080\"> Effective frequency </span>│<span style=\"color: #800080; text-decoration-color: #800080\">                    35.71 Hz </span>│\n",
       "└─────────────────────┴─────────────────────────────┘\n",
       "</pre>\n"
      ],
      "text/plain": [
       "\u001b[3m                 Environment Summary                 \u001b[0m\n",
       "┏━━━━━━━━━━━━━━━━━━━━━┳━━━━━━━━━━━━━━━━━━━━━━━━━━━━━┓\n",
       "┃\u001b[1m \u001b[0m\u001b[1m                Key\u001b[0m\u001b[1m \u001b[0m┃\u001b[1m \u001b[0m\u001b[1m                      Value\u001b[0m\u001b[1m \u001b[0m┃\n",
       "┡━━━━━━━━━━━━━━━━━━━━━╇━━━━━━━━━━━━━━━━━━━━━━━━━━━━━┩\n",
       "│\u001b[36m \u001b[0m\u001b[36m   Number of robots\u001b[0m\u001b[36m \u001b[0m│\u001b[35m \u001b[0m\u001b[35m                         16\u001b[0m\u001b[35m \u001b[0m│\n",
       "│\u001b[36m \u001b[0m\u001b[36m       Observations\u001b[0m\u001b[36m \u001b[0m│\u001b[35m \u001b[0m\u001b[35mLocalStateVector, Heightmap\u001b[0m\u001b[35m \u001b[0m│\n",
       "│\u001b[36m \u001b[0m\u001b[36m             Reward\u001b[0m\u001b[36m \u001b[0m│\u001b[35m \u001b[0m\u001b[35m              PotentialGoal\u001b[0m\u001b[35m \u001b[0m│\n",
       "│\u001b[36m \u001b[0m\u001b[36m          Objective\u001b[0m\u001b[36m \u001b[0m│\u001b[35m \u001b[0m\u001b[35m              TrunkCrossing\u001b[0m\u001b[35m \u001b[0m│\n",
       "│\u001b[36m \u001b[0m\u001b[36m  Physics frequency\u001b[0m\u001b[36m \u001b[0m│\u001b[35m \u001b[0m\u001b[35m                  142.86 Hz\u001b[0m\u001b[35m \u001b[0m│\n",
       "│\u001b[36m \u001b[0m\u001b[36m  Engine iters/step\u001b[0m\u001b[36m \u001b[0m│\u001b[35m \u001b[0m\u001b[35m                          4\u001b[0m\u001b[35m \u001b[0m│\n",
       "│\u001b[36m \u001b[0m\u001b[36mEffective frequency\u001b[0m\u001b[36m \u001b[0m│\u001b[35m \u001b[0m\u001b[35m                   35.71 Hz\u001b[0m\u001b[35m \u001b[0m│\n",
       "└─────────────────────┴─────────────────────────────┘\n"
      ]
     },
     "metadata": {},
     "output_type": "display_data"
    },
    {
     "name": "stderr",
     "output_type": "stream",
     "text": [
      "2025-05-10 19:21:57,722 [torchrl][INFO] check_env_specs succeeded!\n"
     ]
    },
    {
     "data": {
      "text/html": [
       "<pre style=\"white-space:pre;overflow-x:auto;line-height:normal;font-family:Menlo,'DejaVu Sans Mono',consolas,'Courier New',monospace\"><span style=\"font-style: italic\">     Policy Parameter Counts     </span>\n",
       "┏━━━━━━━━━━━━━━━━━━┳━━━━━━━━━━━━┓\n",
       "┃<span style=\"font-weight: bold\">        Component </span>┃<span style=\"font-weight: bold\"> Parameters </span>┃\n",
       "┡━━━━━━━━━━━━━━━━━━╇━━━━━━━━━━━━┩\n",
       "│<span style=\"color: #008080; text-decoration-color: #008080\">    Actor Encoder </span>│<span style=\"color: #800080; text-decoration-color: #800080\">     32,032 </span>│\n",
       "│<span style=\"color: #008080; text-decoration-color: #008080\">       Actor Head </span>│<span style=\"color: #800080; text-decoration-color: #800080\">     13,456 </span>│\n",
       "│<span style=\"color: #008080; text-decoration-color: #008080\">    Value Encoder </span>│<span style=\"color: #800080; text-decoration-color: #800080\">     32,032 </span>│\n",
       "│<span style=\"color: #008080; text-decoration-color: #008080\">       Value Head </span>│<span style=\"color: #800080; text-decoration-color: #800080\">     12,737 </span>│\n",
       "│<span style=\"color: #008080; text-decoration-color: #008080\">              --- </span>│<span style=\"color: #800080; text-decoration-color: #800080\">        --- </span>│\n",
       "│<span style=\"color: #008080; text-decoration-color: #008080\">      Total Actor </span>│<span style=\"color: #800080; text-decoration-color: #800080\">     45,488 </span>│\n",
       "│<span style=\"color: #008080; text-decoration-color: #008080\">      Total Value </span>│<span style=\"color: #800080; text-decoration-color: #800080\">     44,769 </span>│\n",
       "│<span style=\"color: #008080; text-decoration-color: #008080\">              --- </span>│<span style=\"color: #800080; text-decoration-color: #800080\">        --- </span>│\n",
       "│<span style=\"color: #008080; text-decoration-color: #008080\"> Total Parameters </span>│<span style=\"color: #800080; text-decoration-color: #800080\">     90,257 </span>│\n",
       "└──────────────────┴────────────┘\n",
       "</pre>\n"
      ],
      "text/plain": [
       "\u001b[3m     Policy Parameter Counts     \u001b[0m\n",
       "┏━━━━━━━━━━━━━━━━━━┳━━━━━━━━━━━━┓\n",
       "┃\u001b[1m \u001b[0m\u001b[1m       Component\u001b[0m\u001b[1m \u001b[0m┃\u001b[1m \u001b[0m\u001b[1mParameters\u001b[0m\u001b[1m \u001b[0m┃\n",
       "┡━━━━━━━━━━━━━━━━━━╇━━━━━━━━━━━━┩\n",
       "│\u001b[36m \u001b[0m\u001b[36m   Actor Encoder\u001b[0m\u001b[36m \u001b[0m│\u001b[35m \u001b[0m\u001b[35m    32,032\u001b[0m\u001b[35m \u001b[0m│\n",
       "│\u001b[36m \u001b[0m\u001b[36m      Actor Head\u001b[0m\u001b[36m \u001b[0m│\u001b[35m \u001b[0m\u001b[35m    13,456\u001b[0m\u001b[35m \u001b[0m│\n",
       "│\u001b[36m \u001b[0m\u001b[36m   Value Encoder\u001b[0m\u001b[36m \u001b[0m│\u001b[35m \u001b[0m\u001b[35m    32,032\u001b[0m\u001b[35m \u001b[0m│\n",
       "│\u001b[36m \u001b[0m\u001b[36m      Value Head\u001b[0m\u001b[36m \u001b[0m│\u001b[35m \u001b[0m\u001b[35m    12,737\u001b[0m\u001b[35m \u001b[0m│\n",
       "│\u001b[36m \u001b[0m\u001b[36m             ---\u001b[0m\u001b[36m \u001b[0m│\u001b[35m \u001b[0m\u001b[35m       ---\u001b[0m\u001b[35m \u001b[0m│\n",
       "│\u001b[36m \u001b[0m\u001b[36m     Total Actor\u001b[0m\u001b[36m \u001b[0m│\u001b[35m \u001b[0m\u001b[35m    45,488\u001b[0m\u001b[35m \u001b[0m│\n",
       "│\u001b[36m \u001b[0m\u001b[36m     Total Value\u001b[0m\u001b[36m \u001b[0m│\u001b[35m \u001b[0m\u001b[35m    44,769\u001b[0m\u001b[35m \u001b[0m│\n",
       "│\u001b[36m \u001b[0m\u001b[36m             ---\u001b[0m\u001b[36m \u001b[0m│\u001b[35m \u001b[0m\u001b[35m       ---\u001b[0m\u001b[35m \u001b[0m│\n",
       "│\u001b[36m \u001b[0m\u001b[36mTotal Parameters\u001b[0m\u001b[36m \u001b[0m│\u001b[35m \u001b[0m\u001b[35m    90,257\u001b[0m\u001b[35m \u001b[0m│\n",
       "└──────────────────┴────────────┘\n"
      ]
     },
     "metadata": {},
     "output_type": "display_data"
    },
    {
     "name": "stderr",
     "output_type": "stream",
     "text": []
    },
    {
     "data": {
      "text/html": [
       "<pre style=\"white-space:pre;overflow-x:auto;line-height:normal;font-family:Menlo,'DejaVu Sans Mono',consolas,'Courier New',monospace\"><span style=\"font-style: italic\">                 Environment Summary                 </span>\n",
       "┏━━━━━━━━━━━━━━━━━━━━━┳━━━━━━━━━━━━━━━━━━━━━━━━━━━━━┓\n",
       "┃<span style=\"font-weight: bold\">                 Key </span>┃<span style=\"font-weight: bold\">                       Value </span>┃\n",
       "┡━━━━━━━━━━━━━━━━━━━━━╇━━━━━━━━━━━━━━━━━━━━━━━━━━━━━┩\n",
       "│<span style=\"color: #008080; text-decoration-color: #008080\">    Number of robots </span>│<span style=\"color: #800080; text-decoration-color: #800080\">                          16 </span>│\n",
       "│<span style=\"color: #008080; text-decoration-color: #008080\">        Observations </span>│<span style=\"color: #800080; text-decoration-color: #800080\"> LocalStateVector, Heightmap </span>│\n",
       "│<span style=\"color: #008080; text-decoration-color: #008080\">              Reward </span>│<span style=\"color: #800080; text-decoration-color: #800080\">               PotentialGoal </span>│\n",
       "│<span style=\"color: #008080; text-decoration-color: #008080\">           Objective </span>│<span style=\"color: #800080; text-decoration-color: #800080\">               TrunkCrossing </span>│\n",
       "│<span style=\"color: #008080; text-decoration-color: #008080\">   Physics frequency </span>│<span style=\"color: #800080; text-decoration-color: #800080\">                   142.86 Hz </span>│\n",
       "│<span style=\"color: #008080; text-decoration-color: #008080\">   Engine iters/step </span>│<span style=\"color: #800080; text-decoration-color: #800080\">                           4 </span>│\n",
       "│<span style=\"color: #008080; text-decoration-color: #008080\"> Effective frequency </span>│<span style=\"color: #800080; text-decoration-color: #800080\">                    35.71 Hz </span>│\n",
       "└─────────────────────┴─────────────────────────────┘\n",
       "</pre>\n"
      ],
      "text/plain": [
       "\u001b[3m                 Environment Summary                 \u001b[0m\n",
       "┏━━━━━━━━━━━━━━━━━━━━━┳━━━━━━━━━━━━━━━━━━━━━━━━━━━━━┓\n",
       "┃\u001b[1m \u001b[0m\u001b[1m                Key\u001b[0m\u001b[1m \u001b[0m┃\u001b[1m \u001b[0m\u001b[1m                      Value\u001b[0m\u001b[1m \u001b[0m┃\n",
       "┡━━━━━━━━━━━━━━━━━━━━━╇━━━━━━━━━━━━━━━━━━━━━━━━━━━━━┩\n",
       "│\u001b[36m \u001b[0m\u001b[36m   Number of robots\u001b[0m\u001b[36m \u001b[0m│\u001b[35m \u001b[0m\u001b[35m                         16\u001b[0m\u001b[35m \u001b[0m│\n",
       "│\u001b[36m \u001b[0m\u001b[36m       Observations\u001b[0m\u001b[36m \u001b[0m│\u001b[35m \u001b[0m\u001b[35mLocalStateVector, Heightmap\u001b[0m\u001b[35m \u001b[0m│\n",
       "│\u001b[36m \u001b[0m\u001b[36m             Reward\u001b[0m\u001b[36m \u001b[0m│\u001b[35m \u001b[0m\u001b[35m              PotentialGoal\u001b[0m\u001b[35m \u001b[0m│\n",
       "│\u001b[36m \u001b[0m\u001b[36m          Objective\u001b[0m\u001b[36m \u001b[0m│\u001b[35m \u001b[0m\u001b[35m              TrunkCrossing\u001b[0m\u001b[35m \u001b[0m│\n",
       "│\u001b[36m \u001b[0m\u001b[36m  Physics frequency\u001b[0m\u001b[36m \u001b[0m│\u001b[35m \u001b[0m\u001b[35m                  142.86 Hz\u001b[0m\u001b[35m \u001b[0m│\n",
       "│\u001b[36m \u001b[0m\u001b[36m  Engine iters/step\u001b[0m\u001b[36m \u001b[0m│\u001b[35m \u001b[0m\u001b[35m                          4\u001b[0m\u001b[35m \u001b[0m│\n",
       "│\u001b[36m \u001b[0m\u001b[36mEffective frequency\u001b[0m\u001b[36m \u001b[0m│\u001b[35m \u001b[0m\u001b[35m                   35.71 Hz\u001b[0m\u001b[35m \u001b[0m│\n",
       "└─────────────────────┴─────────────────────────────┘\n"
      ]
     },
     "metadata": {},
     "output_type": "display_data"
    },
    {
     "name": "stderr",
     "output_type": "stream",
     "text": [
      "2025-05-10 19:22:18,603 [torchrl][INFO] check_env_specs succeeded!\n"
     ]
    },
    {
     "data": {
      "text/html": [
       "<pre style=\"white-space:pre;overflow-x:auto;line-height:normal;font-family:Menlo,'DejaVu Sans Mono',consolas,'Courier New',monospace\"><span style=\"font-style: italic\">     Policy Parameter Counts     </span>\n",
       "┏━━━━━━━━━━━━━━━━━━┳━━━━━━━━━━━━┓\n",
       "┃<span style=\"font-weight: bold\">        Component </span>┃<span style=\"font-weight: bold\"> Parameters </span>┃\n",
       "┡━━━━━━━━━━━━━━━━━━╇━━━━━━━━━━━━┩\n",
       "│<span style=\"color: #008080; text-decoration-color: #008080\">    Actor Encoder </span>│<span style=\"color: #800080; text-decoration-color: #800080\">     32,032 </span>│\n",
       "│<span style=\"color: #008080; text-decoration-color: #008080\">       Actor Head </span>│<span style=\"color: #800080; text-decoration-color: #800080\">     13,456 </span>│\n",
       "│<span style=\"color: #008080; text-decoration-color: #008080\">    Value Encoder </span>│<span style=\"color: #800080; text-decoration-color: #800080\">     32,032 </span>│\n",
       "│<span style=\"color: #008080; text-decoration-color: #008080\">       Value Head </span>│<span style=\"color: #800080; text-decoration-color: #800080\">     12,737 </span>│\n",
       "│<span style=\"color: #008080; text-decoration-color: #008080\">              --- </span>│<span style=\"color: #800080; text-decoration-color: #800080\">        --- </span>│\n",
       "│<span style=\"color: #008080; text-decoration-color: #008080\">      Total Actor </span>│<span style=\"color: #800080; text-decoration-color: #800080\">     45,488 </span>│\n",
       "│<span style=\"color: #008080; text-decoration-color: #008080\">      Total Value </span>│<span style=\"color: #800080; text-decoration-color: #800080\">     44,769 </span>│\n",
       "│<span style=\"color: #008080; text-decoration-color: #008080\">              --- </span>│<span style=\"color: #800080; text-decoration-color: #800080\">        --- </span>│\n",
       "│<span style=\"color: #008080; text-decoration-color: #008080\"> Total Parameters </span>│<span style=\"color: #800080; text-decoration-color: #800080\">     90,257 </span>│\n",
       "└──────────────────┴────────────┘\n",
       "</pre>\n"
      ],
      "text/plain": [
       "\u001b[3m     Policy Parameter Counts     \u001b[0m\n",
       "┏━━━━━━━━━━━━━━━━━━┳━━━━━━━━━━━━┓\n",
       "┃\u001b[1m \u001b[0m\u001b[1m       Component\u001b[0m\u001b[1m \u001b[0m┃\u001b[1m \u001b[0m\u001b[1mParameters\u001b[0m\u001b[1m \u001b[0m┃\n",
       "┡━━━━━━━━━━━━━━━━━━╇━━━━━━━━━━━━┩\n",
       "│\u001b[36m \u001b[0m\u001b[36m   Actor Encoder\u001b[0m\u001b[36m \u001b[0m│\u001b[35m \u001b[0m\u001b[35m    32,032\u001b[0m\u001b[35m \u001b[0m│\n",
       "│\u001b[36m \u001b[0m\u001b[36m      Actor Head\u001b[0m\u001b[36m \u001b[0m│\u001b[35m \u001b[0m\u001b[35m    13,456\u001b[0m\u001b[35m \u001b[0m│\n",
       "│\u001b[36m \u001b[0m\u001b[36m   Value Encoder\u001b[0m\u001b[36m \u001b[0m│\u001b[35m \u001b[0m\u001b[35m    32,032\u001b[0m\u001b[35m \u001b[0m│\n",
       "│\u001b[36m \u001b[0m\u001b[36m      Value Head\u001b[0m\u001b[36m \u001b[0m│\u001b[35m \u001b[0m\u001b[35m    12,737\u001b[0m\u001b[35m \u001b[0m│\n",
       "│\u001b[36m \u001b[0m\u001b[36m             ---\u001b[0m\u001b[36m \u001b[0m│\u001b[35m \u001b[0m\u001b[35m       ---\u001b[0m\u001b[35m \u001b[0m│\n",
       "│\u001b[36m \u001b[0m\u001b[36m     Total Actor\u001b[0m\u001b[36m \u001b[0m│\u001b[35m \u001b[0m\u001b[35m    45,488\u001b[0m\u001b[35m \u001b[0m│\n",
       "│\u001b[36m \u001b[0m\u001b[36m     Total Value\u001b[0m\u001b[36m \u001b[0m│\u001b[35m \u001b[0m\u001b[35m    44,769\u001b[0m\u001b[35m \u001b[0m│\n",
       "│\u001b[36m \u001b[0m\u001b[36m             ---\u001b[0m\u001b[36m \u001b[0m│\u001b[35m \u001b[0m\u001b[35m       ---\u001b[0m\u001b[35m \u001b[0m│\n",
       "│\u001b[36m \u001b[0m\u001b[36mTotal Parameters\u001b[0m\u001b[36m \u001b[0m│\u001b[35m \u001b[0m\u001b[35m    90,257\u001b[0m\u001b[35m \u001b[0m│\n",
       "└──────────────────┴────────────┘\n"
      ]
     },
     "metadata": {},
     "output_type": "display_data"
    },
    {
     "name": "stderr",
     "output_type": "stream",
     "text": []
    },
    {
     "data": {
      "text/html": [
       "<pre style=\"white-space:pre;overflow-x:auto;line-height:normal;font-family:Menlo,'DejaVu Sans Mono',consolas,'Courier New',monospace\"><span style=\"font-style: italic\">                 Environment Summary                 </span>\n",
       "┏━━━━━━━━━━━━━━━━━━━━━┳━━━━━━━━━━━━━━━━━━━━━━━━━━━━━┓\n",
       "┃<span style=\"font-weight: bold\">                 Key </span>┃<span style=\"font-weight: bold\">                       Value </span>┃\n",
       "┡━━━━━━━━━━━━━━━━━━━━━╇━━━━━━━━━━━━━━━━━━━━━━━━━━━━━┩\n",
       "│<span style=\"color: #008080; text-decoration-color: #008080\">    Number of robots </span>│<span style=\"color: #800080; text-decoration-color: #800080\">                          16 </span>│\n",
       "│<span style=\"color: #008080; text-decoration-color: #008080\">        Observations </span>│<span style=\"color: #800080; text-decoration-color: #800080\"> LocalStateVector, Heightmap </span>│\n",
       "│<span style=\"color: #008080; text-decoration-color: #008080\">              Reward </span>│<span style=\"color: #800080; text-decoration-color: #800080\">               PotentialGoal </span>│\n",
       "│<span style=\"color: #008080; text-decoration-color: #008080\">           Objective </span>│<span style=\"color: #800080; text-decoration-color: #800080\">               TrunkCrossing </span>│\n",
       "│<span style=\"color: #008080; text-decoration-color: #008080\">   Physics frequency </span>│<span style=\"color: #800080; text-decoration-color: #800080\">                   142.86 Hz </span>│\n",
       "│<span style=\"color: #008080; text-decoration-color: #008080\">   Engine iters/step </span>│<span style=\"color: #800080; text-decoration-color: #800080\">                           4 </span>│\n",
       "│<span style=\"color: #008080; text-decoration-color: #008080\"> Effective frequency </span>│<span style=\"color: #800080; text-decoration-color: #800080\">                    35.71 Hz </span>│\n",
       "└─────────────────────┴─────────────────────────────┘\n",
       "</pre>\n"
      ],
      "text/plain": [
       "\u001b[3m                 Environment Summary                 \u001b[0m\n",
       "┏━━━━━━━━━━━━━━━━━━━━━┳━━━━━━━━━━━━━━━━━━━━━━━━━━━━━┓\n",
       "┃\u001b[1m \u001b[0m\u001b[1m                Key\u001b[0m\u001b[1m \u001b[0m┃\u001b[1m \u001b[0m\u001b[1m                      Value\u001b[0m\u001b[1m \u001b[0m┃\n",
       "┡━━━━━━━━━━━━━━━━━━━━━╇━━━━━━━━━━━━━━━━━━━━━━━━━━━━━┩\n",
       "│\u001b[36m \u001b[0m\u001b[36m   Number of robots\u001b[0m\u001b[36m \u001b[0m│\u001b[35m \u001b[0m\u001b[35m                         16\u001b[0m\u001b[35m \u001b[0m│\n",
       "│\u001b[36m \u001b[0m\u001b[36m       Observations\u001b[0m\u001b[36m \u001b[0m│\u001b[35m \u001b[0m\u001b[35mLocalStateVector, Heightmap\u001b[0m\u001b[35m \u001b[0m│\n",
       "│\u001b[36m \u001b[0m\u001b[36m             Reward\u001b[0m\u001b[36m \u001b[0m│\u001b[35m \u001b[0m\u001b[35m              PotentialGoal\u001b[0m\u001b[35m \u001b[0m│\n",
       "│\u001b[36m \u001b[0m\u001b[36m          Objective\u001b[0m\u001b[36m \u001b[0m│\u001b[35m \u001b[0m\u001b[35m              TrunkCrossing\u001b[0m\u001b[35m \u001b[0m│\n",
       "│\u001b[36m \u001b[0m\u001b[36m  Physics frequency\u001b[0m\u001b[36m \u001b[0m│\u001b[35m \u001b[0m\u001b[35m                  142.86 Hz\u001b[0m\u001b[35m \u001b[0m│\n",
       "│\u001b[36m \u001b[0m\u001b[36m  Engine iters/step\u001b[0m\u001b[36m \u001b[0m│\u001b[35m \u001b[0m\u001b[35m                          4\u001b[0m\u001b[35m \u001b[0m│\n",
       "│\u001b[36m \u001b[0m\u001b[36mEffective frequency\u001b[0m\u001b[36m \u001b[0m│\u001b[35m \u001b[0m\u001b[35m                   35.71 Hz\u001b[0m\u001b[35m \u001b[0m│\n",
       "└─────────────────────┴─────────────────────────────┘\n"
      ]
     },
     "metadata": {},
     "output_type": "display_data"
    },
    {
     "name": "stderr",
     "output_type": "stream",
     "text": [
      "2025-05-10 19:22:38,702 [torchrl][INFO] check_env_specs succeeded!\n"
     ]
    },
    {
     "data": {
      "text/html": [
       "<pre style=\"white-space:pre;overflow-x:auto;line-height:normal;font-family:Menlo,'DejaVu Sans Mono',consolas,'Courier New',monospace\"><span style=\"font-style: italic\">     Policy Parameter Counts     </span>\n",
       "┏━━━━━━━━━━━━━━━━━━┳━━━━━━━━━━━━┓\n",
       "┃<span style=\"font-weight: bold\">        Component </span>┃<span style=\"font-weight: bold\"> Parameters </span>┃\n",
       "┡━━━━━━━━━━━━━━━━━━╇━━━━━━━━━━━━┩\n",
       "│<span style=\"color: #008080; text-decoration-color: #008080\">    Actor Encoder </span>│<span style=\"color: #800080; text-decoration-color: #800080\">     32,032 </span>│\n",
       "│<span style=\"color: #008080; text-decoration-color: #008080\">       Actor Head </span>│<span style=\"color: #800080; text-decoration-color: #800080\">     13,456 </span>│\n",
       "│<span style=\"color: #008080; text-decoration-color: #008080\">    Value Encoder </span>│<span style=\"color: #800080; text-decoration-color: #800080\">     32,032 </span>│\n",
       "│<span style=\"color: #008080; text-decoration-color: #008080\">       Value Head </span>│<span style=\"color: #800080; text-decoration-color: #800080\">     12,737 </span>│\n",
       "│<span style=\"color: #008080; text-decoration-color: #008080\">              --- </span>│<span style=\"color: #800080; text-decoration-color: #800080\">        --- </span>│\n",
       "│<span style=\"color: #008080; text-decoration-color: #008080\">      Total Actor </span>│<span style=\"color: #800080; text-decoration-color: #800080\">     45,488 </span>│\n",
       "│<span style=\"color: #008080; text-decoration-color: #008080\">      Total Value </span>│<span style=\"color: #800080; text-decoration-color: #800080\">     44,769 </span>│\n",
       "│<span style=\"color: #008080; text-decoration-color: #008080\">              --- </span>│<span style=\"color: #800080; text-decoration-color: #800080\">        --- </span>│\n",
       "│<span style=\"color: #008080; text-decoration-color: #008080\"> Total Parameters </span>│<span style=\"color: #800080; text-decoration-color: #800080\">     90,257 </span>│\n",
       "└──────────────────┴────────────┘\n",
       "</pre>\n"
      ],
      "text/plain": [
       "\u001b[3m     Policy Parameter Counts     \u001b[0m\n",
       "┏━━━━━━━━━━━━━━━━━━┳━━━━━━━━━━━━┓\n",
       "┃\u001b[1m \u001b[0m\u001b[1m       Component\u001b[0m\u001b[1m \u001b[0m┃\u001b[1m \u001b[0m\u001b[1mParameters\u001b[0m\u001b[1m \u001b[0m┃\n",
       "┡━━━━━━━━━━━━━━━━━━╇━━━━━━━━━━━━┩\n",
       "│\u001b[36m \u001b[0m\u001b[36m   Actor Encoder\u001b[0m\u001b[36m \u001b[0m│\u001b[35m \u001b[0m\u001b[35m    32,032\u001b[0m\u001b[35m \u001b[0m│\n",
       "│\u001b[36m \u001b[0m\u001b[36m      Actor Head\u001b[0m\u001b[36m \u001b[0m│\u001b[35m \u001b[0m\u001b[35m    13,456\u001b[0m\u001b[35m \u001b[0m│\n",
       "│\u001b[36m \u001b[0m\u001b[36m   Value Encoder\u001b[0m\u001b[36m \u001b[0m│\u001b[35m \u001b[0m\u001b[35m    32,032\u001b[0m\u001b[35m \u001b[0m│\n",
       "│\u001b[36m \u001b[0m\u001b[36m      Value Head\u001b[0m\u001b[36m \u001b[0m│\u001b[35m \u001b[0m\u001b[35m    12,737\u001b[0m\u001b[35m \u001b[0m│\n",
       "│\u001b[36m \u001b[0m\u001b[36m             ---\u001b[0m\u001b[36m \u001b[0m│\u001b[35m \u001b[0m\u001b[35m       ---\u001b[0m\u001b[35m \u001b[0m│\n",
       "│\u001b[36m \u001b[0m\u001b[36m     Total Actor\u001b[0m\u001b[36m \u001b[0m│\u001b[35m \u001b[0m\u001b[35m    45,488\u001b[0m\u001b[35m \u001b[0m│\n",
       "│\u001b[36m \u001b[0m\u001b[36m     Total Value\u001b[0m\u001b[36m \u001b[0m│\u001b[35m \u001b[0m\u001b[35m    44,769\u001b[0m\u001b[35m \u001b[0m│\n",
       "│\u001b[36m \u001b[0m\u001b[36m             ---\u001b[0m\u001b[36m \u001b[0m│\u001b[35m \u001b[0m\u001b[35m       ---\u001b[0m\u001b[35m \u001b[0m│\n",
       "│\u001b[36m \u001b[0m\u001b[36mTotal Parameters\u001b[0m\u001b[36m \u001b[0m│\u001b[35m \u001b[0m\u001b[35m    90,257\u001b[0m\u001b[35m \u001b[0m│\n",
       "└──────────────────┴────────────┘\n"
      ]
     },
     "metadata": {},
     "output_type": "display_data"
    },
    {
     "name": "stderr",
     "output_type": "stream",
     "text": []
    },
    {
     "data": {
      "text/html": [
       "<pre style=\"white-space:pre;overflow-x:auto;line-height:normal;font-family:Menlo,'DejaVu Sans Mono',consolas,'Courier New',monospace\"><span style=\"font-style: italic\">                 Environment Summary                 </span>\n",
       "┏━━━━━━━━━━━━━━━━━━━━━┳━━━━━━━━━━━━━━━━━━━━━━━━━━━━━┓\n",
       "┃<span style=\"font-weight: bold\">                 Key </span>┃<span style=\"font-weight: bold\">                       Value </span>┃\n",
       "┡━━━━━━━━━━━━━━━━━━━━━╇━━━━━━━━━━━━━━━━━━━━━━━━━━━━━┩\n",
       "│<span style=\"color: #008080; text-decoration-color: #008080\">    Number of robots </span>│<span style=\"color: #800080; text-decoration-color: #800080\">                          16 </span>│\n",
       "│<span style=\"color: #008080; text-decoration-color: #008080\">        Observations </span>│<span style=\"color: #800080; text-decoration-color: #800080\"> LocalStateVector, Heightmap </span>│\n",
       "│<span style=\"color: #008080; text-decoration-color: #008080\">              Reward </span>│<span style=\"color: #800080; text-decoration-color: #800080\">               PotentialGoal </span>│\n",
       "│<span style=\"color: #008080; text-decoration-color: #008080\">           Objective </span>│<span style=\"color: #800080; text-decoration-color: #800080\">               TrunkCrossing </span>│\n",
       "│<span style=\"color: #008080; text-decoration-color: #008080\">   Physics frequency </span>│<span style=\"color: #800080; text-decoration-color: #800080\">                   142.86 Hz </span>│\n",
       "│<span style=\"color: #008080; text-decoration-color: #008080\">   Engine iters/step </span>│<span style=\"color: #800080; text-decoration-color: #800080\">                           4 </span>│\n",
       "│<span style=\"color: #008080; text-decoration-color: #008080\"> Effective frequency </span>│<span style=\"color: #800080; text-decoration-color: #800080\">                    35.71 Hz </span>│\n",
       "└─────────────────────┴─────────────────────────────┘\n",
       "</pre>\n"
      ],
      "text/plain": [
       "\u001b[3m                 Environment Summary                 \u001b[0m\n",
       "┏━━━━━━━━━━━━━━━━━━━━━┳━━━━━━━━━━━━━━━━━━━━━━━━━━━━━┓\n",
       "┃\u001b[1m \u001b[0m\u001b[1m                Key\u001b[0m\u001b[1m \u001b[0m┃\u001b[1m \u001b[0m\u001b[1m                      Value\u001b[0m\u001b[1m \u001b[0m┃\n",
       "┡━━━━━━━━━━━━━━━━━━━━━╇━━━━━━━━━━━━━━━━━━━━━━━━━━━━━┩\n",
       "│\u001b[36m \u001b[0m\u001b[36m   Number of robots\u001b[0m\u001b[36m \u001b[0m│\u001b[35m \u001b[0m\u001b[35m                         16\u001b[0m\u001b[35m \u001b[0m│\n",
       "│\u001b[36m \u001b[0m\u001b[36m       Observations\u001b[0m\u001b[36m \u001b[0m│\u001b[35m \u001b[0m\u001b[35mLocalStateVector, Heightmap\u001b[0m\u001b[35m \u001b[0m│\n",
       "│\u001b[36m \u001b[0m\u001b[36m             Reward\u001b[0m\u001b[36m \u001b[0m│\u001b[35m \u001b[0m\u001b[35m              PotentialGoal\u001b[0m\u001b[35m \u001b[0m│\n",
       "│\u001b[36m \u001b[0m\u001b[36m          Objective\u001b[0m\u001b[36m \u001b[0m│\u001b[35m \u001b[0m\u001b[35m              TrunkCrossing\u001b[0m\u001b[35m \u001b[0m│\n",
       "│\u001b[36m \u001b[0m\u001b[36m  Physics frequency\u001b[0m\u001b[36m \u001b[0m│\u001b[35m \u001b[0m\u001b[35m                  142.86 Hz\u001b[0m\u001b[35m \u001b[0m│\n",
       "│\u001b[36m \u001b[0m\u001b[36m  Engine iters/step\u001b[0m\u001b[36m \u001b[0m│\u001b[35m \u001b[0m\u001b[35m                          4\u001b[0m\u001b[35m \u001b[0m│\n",
       "│\u001b[36m \u001b[0m\u001b[36mEffective frequency\u001b[0m\u001b[36m \u001b[0m│\u001b[35m \u001b[0m\u001b[35m                   35.71 Hz\u001b[0m\u001b[35m \u001b[0m│\n",
       "└─────────────────────┴─────────────────────────────┘\n"
      ]
     },
     "metadata": {},
     "output_type": "display_data"
    },
    {
     "name": "stderr",
     "output_type": "stream",
     "text": [
      "2025-05-10 19:23:00,688 [torchrl][INFO] check_env_specs succeeded!\n"
     ]
    },
    {
     "data": {
      "text/html": [
       "<pre style=\"white-space:pre;overflow-x:auto;line-height:normal;font-family:Menlo,'DejaVu Sans Mono',consolas,'Courier New',monospace\"><span style=\"font-style: italic\">     Policy Parameter Counts     </span>\n",
       "┏━━━━━━━━━━━━━━━━━━┳━━━━━━━━━━━━┓\n",
       "┃<span style=\"font-weight: bold\">        Component </span>┃<span style=\"font-weight: bold\"> Parameters </span>┃\n",
       "┡━━━━━━━━━━━━━━━━━━╇━━━━━━━━━━━━┩\n",
       "│<span style=\"color: #008080; text-decoration-color: #008080\">    Actor Encoder </span>│<span style=\"color: #800080; text-decoration-color: #800080\">     32,032 </span>│\n",
       "│<span style=\"color: #008080; text-decoration-color: #008080\">       Actor Head </span>│<span style=\"color: #800080; text-decoration-color: #800080\">     13,456 </span>│\n",
       "│<span style=\"color: #008080; text-decoration-color: #008080\">    Value Encoder </span>│<span style=\"color: #800080; text-decoration-color: #800080\">     32,032 </span>│\n",
       "│<span style=\"color: #008080; text-decoration-color: #008080\">       Value Head </span>│<span style=\"color: #800080; text-decoration-color: #800080\">     12,737 </span>│\n",
       "│<span style=\"color: #008080; text-decoration-color: #008080\">              --- </span>│<span style=\"color: #800080; text-decoration-color: #800080\">        --- </span>│\n",
       "│<span style=\"color: #008080; text-decoration-color: #008080\">      Total Actor </span>│<span style=\"color: #800080; text-decoration-color: #800080\">     45,488 </span>│\n",
       "│<span style=\"color: #008080; text-decoration-color: #008080\">      Total Value </span>│<span style=\"color: #800080; text-decoration-color: #800080\">     44,769 </span>│\n",
       "│<span style=\"color: #008080; text-decoration-color: #008080\">              --- </span>│<span style=\"color: #800080; text-decoration-color: #800080\">        --- </span>│\n",
       "│<span style=\"color: #008080; text-decoration-color: #008080\"> Total Parameters </span>│<span style=\"color: #800080; text-decoration-color: #800080\">     90,257 </span>│\n",
       "└──────────────────┴────────────┘\n",
       "</pre>\n"
      ],
      "text/plain": [
       "\u001b[3m     Policy Parameter Counts     \u001b[0m\n",
       "┏━━━━━━━━━━━━━━━━━━┳━━━━━━━━━━━━┓\n",
       "┃\u001b[1m \u001b[0m\u001b[1m       Component\u001b[0m\u001b[1m \u001b[0m┃\u001b[1m \u001b[0m\u001b[1mParameters\u001b[0m\u001b[1m \u001b[0m┃\n",
       "┡━━━━━━━━━━━━━━━━━━╇━━━━━━━━━━━━┩\n",
       "│\u001b[36m \u001b[0m\u001b[36m   Actor Encoder\u001b[0m\u001b[36m \u001b[0m│\u001b[35m \u001b[0m\u001b[35m    32,032\u001b[0m\u001b[35m \u001b[0m│\n",
       "│\u001b[36m \u001b[0m\u001b[36m      Actor Head\u001b[0m\u001b[36m \u001b[0m│\u001b[35m \u001b[0m\u001b[35m    13,456\u001b[0m\u001b[35m \u001b[0m│\n",
       "│\u001b[36m \u001b[0m\u001b[36m   Value Encoder\u001b[0m\u001b[36m \u001b[0m│\u001b[35m \u001b[0m\u001b[35m    32,032\u001b[0m\u001b[35m \u001b[0m│\n",
       "│\u001b[36m \u001b[0m\u001b[36m      Value Head\u001b[0m\u001b[36m \u001b[0m│\u001b[35m \u001b[0m\u001b[35m    12,737\u001b[0m\u001b[35m \u001b[0m│\n",
       "│\u001b[36m \u001b[0m\u001b[36m             ---\u001b[0m\u001b[36m \u001b[0m│\u001b[35m \u001b[0m\u001b[35m       ---\u001b[0m\u001b[35m \u001b[0m│\n",
       "│\u001b[36m \u001b[0m\u001b[36m     Total Actor\u001b[0m\u001b[36m \u001b[0m│\u001b[35m \u001b[0m\u001b[35m    45,488\u001b[0m\u001b[35m \u001b[0m│\n",
       "│\u001b[36m \u001b[0m\u001b[36m     Total Value\u001b[0m\u001b[36m \u001b[0m│\u001b[35m \u001b[0m\u001b[35m    44,769\u001b[0m\u001b[35m \u001b[0m│\n",
       "│\u001b[36m \u001b[0m\u001b[36m             ---\u001b[0m\u001b[36m \u001b[0m│\u001b[35m \u001b[0m\u001b[35m       ---\u001b[0m\u001b[35m \u001b[0m│\n",
       "│\u001b[36m \u001b[0m\u001b[36mTotal Parameters\u001b[0m\u001b[36m \u001b[0m│\u001b[35m \u001b[0m\u001b[35m    90,257\u001b[0m\u001b[35m \u001b[0m│\n",
       "└──────────────────┴────────────┘\n"
      ]
     },
     "metadata": {},
     "output_type": "display_data"
    },
    {
     "name": "stderr",
     "output_type": "stream",
     "text": [
      "Seeds: 100%|██████████| 10/10 [03:36<00:00, 21.62s/it]\n",
      "Runs:   7%|▋         | 1/14 [03:36<46:51, 216.24s/it]"
     ]
    },
    {
     "name": "stdout",
     "output_type": "stream",
     "text": [
      "Run ../runs/ppo/final_trunk_thesis_training_13_2025-05-09_19-54-16 done\n"
     ]
    },
    {
     "name": "stderr",
     "output_type": "stream",
     "text": []
    },
    {
     "data": {
      "text/html": [
       "<pre style=\"white-space:pre;overflow-x:auto;line-height:normal;font-family:Menlo,'DejaVu Sans Mono',consolas,'Courier New',monospace\"><span style=\"font-style: italic\">                 Environment Summary                 </span>\n",
       "┏━━━━━━━━━━━━━━━━━━━━━┳━━━━━━━━━━━━━━━━━━━━━━━━━━━━━┓\n",
       "┃<span style=\"font-weight: bold\">                 Key </span>┃<span style=\"font-weight: bold\">                       Value </span>┃\n",
       "┡━━━━━━━━━━━━━━━━━━━━━╇━━━━━━━━━━━━━━━━━━━━━━━━━━━━━┩\n",
       "│<span style=\"color: #008080; text-decoration-color: #008080\">    Number of robots </span>│<span style=\"color: #800080; text-decoration-color: #800080\">                          16 </span>│\n",
       "│<span style=\"color: #008080; text-decoration-color: #008080\">        Observations </span>│<span style=\"color: #800080; text-decoration-color: #800080\"> LocalStateVector, Heightmap </span>│\n",
       "│<span style=\"color: #008080; text-decoration-color: #008080\">              Reward </span>│<span style=\"color: #800080; text-decoration-color: #800080\">               PotentialGoal </span>│\n",
       "│<span style=\"color: #008080; text-decoration-color: #008080\">           Objective </span>│<span style=\"color: #800080; text-decoration-color: #800080\">               TrunkCrossing </span>│\n",
       "│<span style=\"color: #008080; text-decoration-color: #008080\">   Physics frequency </span>│<span style=\"color: #800080; text-decoration-color: #800080\">                   142.86 Hz </span>│\n",
       "│<span style=\"color: #008080; text-decoration-color: #008080\">   Engine iters/step </span>│<span style=\"color: #800080; text-decoration-color: #800080\">                           4 </span>│\n",
       "│<span style=\"color: #008080; text-decoration-color: #008080\"> Effective frequency </span>│<span style=\"color: #800080; text-decoration-color: #800080\">                    35.71 Hz </span>│\n",
       "└─────────────────────┴─────────────────────────────┘\n",
       "</pre>\n"
      ],
      "text/plain": [
       "\u001b[3m                 Environment Summary                 \u001b[0m\n",
       "┏━━━━━━━━━━━━━━━━━━━━━┳━━━━━━━━━━━━━━━━━━━━━━━━━━━━━┓\n",
       "┃\u001b[1m \u001b[0m\u001b[1m                Key\u001b[0m\u001b[1m \u001b[0m┃\u001b[1m \u001b[0m\u001b[1m                      Value\u001b[0m\u001b[1m \u001b[0m┃\n",
       "┡━━━━━━━━━━━━━━━━━━━━━╇━━━━━━━━━━━━━━━━━━━━━━━━━━━━━┩\n",
       "│\u001b[36m \u001b[0m\u001b[36m   Number of robots\u001b[0m\u001b[36m \u001b[0m│\u001b[35m \u001b[0m\u001b[35m                         16\u001b[0m\u001b[35m \u001b[0m│\n",
       "│\u001b[36m \u001b[0m\u001b[36m       Observations\u001b[0m\u001b[36m \u001b[0m│\u001b[35m \u001b[0m\u001b[35mLocalStateVector, Heightmap\u001b[0m\u001b[35m \u001b[0m│\n",
       "│\u001b[36m \u001b[0m\u001b[36m             Reward\u001b[0m\u001b[36m \u001b[0m│\u001b[35m \u001b[0m\u001b[35m              PotentialGoal\u001b[0m\u001b[35m \u001b[0m│\n",
       "│\u001b[36m \u001b[0m\u001b[36m          Objective\u001b[0m\u001b[36m \u001b[0m│\u001b[35m \u001b[0m\u001b[35m              TrunkCrossing\u001b[0m\u001b[35m \u001b[0m│\n",
       "│\u001b[36m \u001b[0m\u001b[36m  Physics frequency\u001b[0m\u001b[36m \u001b[0m│\u001b[35m \u001b[0m\u001b[35m                  142.86 Hz\u001b[0m\u001b[35m \u001b[0m│\n",
       "│\u001b[36m \u001b[0m\u001b[36m  Engine iters/step\u001b[0m\u001b[36m \u001b[0m│\u001b[35m \u001b[0m\u001b[35m                          4\u001b[0m\u001b[35m \u001b[0m│\n",
       "│\u001b[36m \u001b[0m\u001b[36mEffective frequency\u001b[0m\u001b[36m \u001b[0m│\u001b[35m \u001b[0m\u001b[35m                   35.71 Hz\u001b[0m\u001b[35m \u001b[0m│\n",
       "└─────────────────────┴─────────────────────────────┘\n"
      ]
     },
     "metadata": {},
     "output_type": "display_data"
    },
    {
     "name": "stderr",
     "output_type": "stream",
     "text": [
      "2025-05-10 19:23:22,519 [torchrl][INFO] check_env_specs succeeded!\n",
      "Seeds:   0%|          | 0/10 [00:10<?, ?it/s]\n",
      "Runs:   7%|▋         | 1/14 [03:46<49:08, 226.80s/it]\n"
     ]
    },
    {
     "ename": "FileNotFoundError",
     "evalue": "[Errno 2] No such file or directory: '../runs/ppo/final_trunk_thesis_training_16_2025-05-09_19-49-38/weights/policy_final.pth'",
     "output_type": "error",
     "traceback": [
      "\u001b[31m---------------------------------------------------------------------------\u001b[39m",
      "\u001b[31mFileNotFoundError\u001b[39m                         Traceback (most recent call last)",
      "\u001b[36mCell\u001b[39m\u001b[36m \u001b[39m\u001b[32mIn[6]\u001b[39m\u001b[32m, line 14\u001b[39m\n\u001b[32m     12\u001b[39m cfg[\u001b[33m\"\u001b[39m\u001b[33mseed\u001b[39m\u001b[33m\"\u001b[39m] = seed\n\u001b[32m     13\u001b[39m \u001b[38;5;28;01mwith\u001b[39;00m (contextlib.redirect_stdout(null_stream), contextlib.redirect_stderr(null_stream)):\n\u001b[32m---> \u001b[39m\u001b[32m14\u001b[39m     _, rollout = \u001b[43mget_eval_rollout\u001b[49m\u001b[43m(\u001b[49m\u001b[43mPPOExperimentConfig\u001b[49m\u001b[43m(\u001b[49m\u001b[43m*\u001b[49m\u001b[43m*\u001b[49m\u001b[43mcfg\u001b[49m\u001b[43m)\u001b[49m\u001b[43m,\u001b[49m\u001b[43m \u001b[49m\u001b[43mpolicy_wt\u001b[49m\u001b[43m,\u001b[49m\u001b[43m \u001b[49m\u001b[43mvecnorm_wt\u001b[49m\u001b[43m)\u001b[49m\n\u001b[32m     15\u001b[39m     rollout_log = log_from_eval_rollout(rollout)\n\u001b[32m     16\u001b[39m result_logs.append(rollout_log)\n",
      "\u001b[36mFile \u001b[39m\u001b[32m/mnt/personal/korcadav/flipper_training/flipper_training/experiments/ppo/eval.py:33\u001b[39m, in \u001b[36mget_eval_rollout\u001b[39m\u001b[34m(train_config, policy_weights_path, vecnorm_weights_path)\u001b[39m\n\u001b[32m     31\u001b[39m env, device, rng = prepare_env(train_config, mode=\u001b[33m\"\u001b[39m\u001b[33meval\u001b[39m\u001b[33m\"\u001b[39m)\n\u001b[32m     32\u001b[39m policy_config = train_config.policy_config(**train_config.policy_opts)\n\u001b[32m---> \u001b[39m\u001b[32m33\u001b[39m actor_value_wrapper, optim_groups, policy_transforms = \u001b[43mpolicy_config\u001b[49m\u001b[43m.\u001b[49m\u001b[43mcreate\u001b[49m\u001b[43m(\u001b[49m\n\u001b[32m     34\u001b[39m \u001b[43m    \u001b[49m\u001b[43menv\u001b[49m\u001b[43m=\u001b[49m\u001b[43menv\u001b[49m\u001b[43m,\u001b[49m\n\u001b[32m     35\u001b[39m \u001b[43m    \u001b[49m\u001b[43mweights_path\u001b[49m\u001b[43m=\u001b[49m\u001b[43mpolicy_weights_path\u001b[49m\u001b[43m,\u001b[49m\n\u001b[32m     36\u001b[39m \u001b[43m    \u001b[49m\u001b[43mdevice\u001b[49m\u001b[43m=\u001b[49m\u001b[43mdevice\u001b[49m\u001b[43m,\u001b[49m\n\u001b[32m     37\u001b[39m \u001b[43m\u001b[49m\u001b[43m)\u001b[49m\n\u001b[32m     38\u001b[39m actor_operator = actor_value_wrapper.get_policy_operator()\n\u001b[32m     39\u001b[39m env, vecnorm = make_transformed_env(env, train_config, policy_transforms)\n",
      "\u001b[36mFile \u001b[39m\u001b[32m/mnt/personal/korcadav/flipper_training/flipper_training/policies/mlp_policy.py:93\u001b[39m, in \u001b[36mMLPPolicyConfig.create\u001b[39m\u001b[34m(self, env, **kwargs)\u001b[39m\n\u001b[32m     91\u001b[39m \u001b[38;5;66;03m# Load weights if path provided\u001b[39;00m\n\u001b[32m     92\u001b[39m \u001b[38;5;28;01mif\u001b[39;00m weights_path := kwargs.get(\u001b[33m\"\u001b[39m\u001b[33mweights_path\u001b[39m\u001b[33m\"\u001b[39m, \u001b[38;5;28;01mNone\u001b[39;00m):\n\u001b[32m---> \u001b[39m\u001b[32m93\u001b[39m     missing_unexpected = actor_value_wrapper.load_state_dict(\u001b[43mtorch\u001b[49m\u001b[43m.\u001b[49m\u001b[43mload\u001b[49m\u001b[43m(\u001b[49m\u001b[43mweights_path\u001b[49m\u001b[43m,\u001b[49m\u001b[43m \u001b[49m\u001b[43mmap_location\u001b[49m\u001b[43m=\u001b[49m\u001b[43mactor_value_wrapper\u001b[49m\u001b[43m.\u001b[49m\u001b[43mdevice\u001b[49m\u001b[43m)\u001b[49m, strict=\u001b[38;5;28;01mFalse\u001b[39;00m)\n\u001b[32m     94\u001b[39m     \u001b[38;5;28mself\u001b[39m.logger.info(\u001b[33mf\u001b[39m\u001b[33m\"\u001b[39m\u001b[33mLoaded weights from \u001b[39m\u001b[38;5;132;01m{\u001b[39;00mkwargs[\u001b[33m'\u001b[39m\u001b[33mweights_path\u001b[39m\u001b[33m'\u001b[39m]\u001b[38;5;132;01m}\u001b[39;00m\u001b[33m\"\u001b[39m)\n\u001b[32m     95\u001b[39m     \u001b[38;5;28;01mif\u001b[39;00m missing_unexpected.missing_keys:\n",
      "\u001b[36mFile \u001b[39m\u001b[32m~/.venv/lib/python3.12/site-packages/torch/serialization.py:1425\u001b[39m, in \u001b[36mload\u001b[39m\u001b[34m(f, map_location, pickle_module, weights_only, mmap, **pickle_load_args)\u001b[39m\n\u001b[32m   1422\u001b[39m \u001b[38;5;28;01mif\u001b[39;00m \u001b[33m\"\u001b[39m\u001b[33mencoding\u001b[39m\u001b[33m\"\u001b[39m \u001b[38;5;129;01mnot\u001b[39;00m \u001b[38;5;129;01min\u001b[39;00m pickle_load_args.keys():\n\u001b[32m   1423\u001b[39m     pickle_load_args[\u001b[33m\"\u001b[39m\u001b[33mencoding\u001b[39m\u001b[33m\"\u001b[39m] = \u001b[33m\"\u001b[39m\u001b[33mutf-8\u001b[39m\u001b[33m\"\u001b[39m\n\u001b[32m-> \u001b[39m\u001b[32m1425\u001b[39m \u001b[38;5;28;01mwith\u001b[39;00m \u001b[43m_open_file_like\u001b[49m\u001b[43m(\u001b[49m\u001b[43mf\u001b[49m\u001b[43m,\u001b[49m\u001b[43m \u001b[49m\u001b[33;43m\"\u001b[39;49m\u001b[33;43mrb\u001b[39;49m\u001b[33;43m\"\u001b[39;49m\u001b[43m)\u001b[49m \u001b[38;5;28;01mas\u001b[39;00m opened_file:\n\u001b[32m   1426\u001b[39m     \u001b[38;5;28;01mif\u001b[39;00m _is_zipfile(opened_file):\n\u001b[32m   1427\u001b[39m         \u001b[38;5;66;03m# The zipfile reader is going to advance the current file position.\u001b[39;00m\n\u001b[32m   1428\u001b[39m         \u001b[38;5;66;03m# If we want to actually tail call to torch.jit.load, we need to\u001b[39;00m\n\u001b[32m   1429\u001b[39m         \u001b[38;5;66;03m# reset back to the original position.\u001b[39;00m\n\u001b[32m   1430\u001b[39m         orig_position = opened_file.tell()\n",
      "\u001b[36mFile \u001b[39m\u001b[32m~/.venv/lib/python3.12/site-packages/torch/serialization.py:751\u001b[39m, in \u001b[36m_open_file_like\u001b[39m\u001b[34m(name_or_buffer, mode)\u001b[39m\n\u001b[32m    749\u001b[39m \u001b[38;5;28;01mdef\u001b[39;00m\u001b[38;5;250m \u001b[39m\u001b[34m_open_file_like\u001b[39m(name_or_buffer, mode):\n\u001b[32m    750\u001b[39m     \u001b[38;5;28;01mif\u001b[39;00m _is_path(name_or_buffer):\n\u001b[32m--> \u001b[39m\u001b[32m751\u001b[39m         \u001b[38;5;28;01mreturn\u001b[39;00m \u001b[43m_open_file\u001b[49m\u001b[43m(\u001b[49m\u001b[43mname_or_buffer\u001b[49m\u001b[43m,\u001b[49m\u001b[43m \u001b[49m\u001b[43mmode\u001b[49m\u001b[43m)\u001b[49m\n\u001b[32m    752\u001b[39m     \u001b[38;5;28;01melse\u001b[39;00m:\n\u001b[32m    753\u001b[39m         \u001b[38;5;28;01mif\u001b[39;00m \u001b[33m\"\u001b[39m\u001b[33mw\u001b[39m\u001b[33m\"\u001b[39m \u001b[38;5;129;01min\u001b[39;00m mode:\n",
      "\u001b[36mFile \u001b[39m\u001b[32m~/.venv/lib/python3.12/site-packages/torch/serialization.py:732\u001b[39m, in \u001b[36m_open_file.__init__\u001b[39m\u001b[34m(self, name, mode)\u001b[39m\n\u001b[32m    731\u001b[39m \u001b[38;5;28;01mdef\u001b[39;00m\u001b[38;5;250m \u001b[39m\u001b[34m__init__\u001b[39m(\u001b[38;5;28mself\u001b[39m, name, mode):\n\u001b[32m--> \u001b[39m\u001b[32m732\u001b[39m     \u001b[38;5;28msuper\u001b[39m().\u001b[34m__init__\u001b[39m(\u001b[38;5;28;43mopen\u001b[39;49m\u001b[43m(\u001b[49m\u001b[43mname\u001b[49m\u001b[43m,\u001b[49m\u001b[43m \u001b[49m\u001b[43mmode\u001b[49m\u001b[43m)\u001b[49m)\n",
      "\u001b[31mFileNotFoundError\u001b[39m: [Errno 2] No such file or directory: '../runs/ppo/final_trunk_thesis_training_16_2025-05-09_19-49-38/weights/policy_final.pth'"
     ]
    }
   ],
   "source": [
    "results_per_run = {}\n",
    "null_stream = open(os.devnull, \"w+\")\n",
    "for run in tqdm(all_runs, desc=\"Runs\", position=0):\n",
    "    cfg = OmegaConf.load(run / \"config.yaml\")\n",
    "    cfg[\"num_robots\"] = n_robots_eval\n",
    "    # cfg[\"engine_compile_opts\"] = None\n",
    "    cfg[\"objective_opts\"][\"cache_size\"] = 10\n",
    "    policy_wt = run / \"weights\" / \"policy_final.pth\"\n",
    "    vecnorm_wt = run / \"weights\" / \"vecnorm_final.pth\"\n",
    "    if not policy_wt.exists() or not vecnorm_wt.exists():\n",
    "        print(f\"Policy or vecnorm weights not found for {run}\")\n",
    "        continue\n",
    "    result_logs = []\n",
    "    for seed in tqdm(seeds, desc=\"Seeds\", position=1):\n",
    "        cfg[\"seed\"] = seed\n",
    "        with contextlib.redirect_stdout(null_stream), contextlib.redirect_stderr(null_stream):\n",
    "            _, rollout = get_eval_rollout(PPOExperimentConfig(**cfg), policy_wt, vecnorm_wt)\n",
    "            rollout_log = log_from_eval_rollout(rollout)\n",
    "        result_logs.append(rollout_log)\n",
    "    results_per_run[run] = result_logs\n",
    "    print(f\"Run {run} done\")\n",
    "\n",
    "with open(f\"../cross_eval_results/{run_basename}results_training_distr.pkl\", \"wb\") as f:\n",
    "    pickle.dump(results_per_run, f)"
   ]
  }
 ],
 "metadata": {
  "kernelspec": {
   "display_name": ".venv",
   "language": "python",
   "name": "python3"
  },
  "language_info": {
   "codemirror_mode": {
    "name": "ipython",
    "version": 3
   },
   "file_extension": ".py",
   "mimetype": "text/x-python",
   "name": "python",
   "nbconvert_exporter": "python",
   "pygments_lexer": "ipython3",
   "version": "3.12.9"
  }
 },
 "nbformat": 4,
 "nbformat_minor": 5
}
