{
 "cells": [
  {
   "cell_type": "code",
   "execution_count": 15,
   "id": "e398b806",
   "metadata": {},
   "outputs": [],
   "source": [
    "import torch\n",
    "import lovely_tensors\n",
    "\n",
    "lovely_tensors.monkey_patch()"
   ]
  },
  {
   "cell_type": "code",
   "execution_count": 6,
   "id": "b38b3c63",
   "metadata": {},
   "outputs": [],
   "source": [
    "p1 = \"../runs/ppo/final_mixed_objective_training_666_2025-05-16_19-08-25/weights/policy_final.pth\"\n",
    "p2 = \"../runs/ppo/final_mixed_objective_weighted_training_thesis_42_2025-05-16_17-57-59/weights/policy_final.pth\""
   ]
  },
  {
   "cell_type": "code",
   "execution_count": 7,
   "id": "b3afe055",
   "metadata": {},
   "outputs": [],
   "source": [
    "sd1 = torch.load(p1, map_location=\"cpu\")\n",
    "sd2 = torch.load(p2, map_location=\"cpu\")"
   ]
  },
  {
   "cell_type": "code",
   "execution_count": 16,
   "id": "6f91607f",
   "metadata": {},
   "outputs": [
    {
     "name": "stdout",
     "output_type": "stream",
     "text": [
      "tensor[64, 15] n=960 (3.8Kb) x∈[2.256e-05, 0.078] μ=0.017 σ=0.013\n",
      "tensor[64] x∈[0.000, 0.064] μ=0.021 σ=0.014\n",
      "tensor[64] x∈[0.001, 0.064] μ=0.019 σ=0.014\n",
      "tensor[64] x∈[0.000, 0.041] μ=0.014 σ=0.011\n",
      "tensor[64, 64] n=4096 (16Kb) x∈[2.105e-05, 0.085] μ=0.015 σ=0.012\n",
      "tensor[64] x∈[0.001, 0.051] μ=0.014 σ=0.011\n",
      "tensor[64] x∈[0.001, 0.053] μ=0.017 σ=0.012\n",
      "tensor[64] x∈[0.000, 0.048] μ=0.014 σ=0.011\n",
      "tensor[64, 64] n=4096 (16Kb) x∈[8.270e-06, 0.084] μ=0.016 σ=0.012\n",
      "tensor[64] x∈[6.741e-05, 0.042] μ=0.012 σ=0.009\n",
      "tensor[64] x∈[0.001, 0.061] μ=0.020 σ=0.014\n",
      "tensor[64] x∈[2.359e-05, 0.039] μ=0.012 σ=0.009\n",
      "tensor[16, 1, 3, 3] n=144 x∈[0.000, 0.039] μ=0.011 σ=0.010\n",
      "tensor[16] x∈[0.003, 0.031] μ=0.012 σ=0.008\n",
      "tensor[32, 16, 3, 3] n=4608 (18Kb) x∈[0., 0.094] μ=0.011 σ=0.011\n",
      "tensor[32] x∈[0.000, 0.021] μ=0.007 σ=0.006\n",
      "tensor[32, 32, 3, 3] n=9216 (36Kb) x∈[1.267e-07, 0.133] μ=0.013 σ=0.013\n",
      "tensor[32] x∈[0.000, 0.022] μ=0.008 σ=0.007\n",
      "tensor[64, 128] n=8192 (32Kb) x∈[6.840e-06, 0.103] μ=0.014 σ=0.012\n",
      "tensor[64] x∈[0.000, 0.023] μ=0.008 σ=0.005\n",
      "tensor[64, 128] n=8192 (32Kb) x∈[1.141e-05, 0.103] μ=0.017 σ=0.014\n",
      "tensor[64] x∈[0.000, 0.046] μ=0.010 σ=0.008\n",
      "tensor[64, 64] n=4096 (16Kb) x∈[2.226e-06, 0.088] μ=0.016 σ=0.012\n",
      "tensor[64] x∈[5.923e-07, 0.033] μ=0.010 σ=0.007\n",
      "tensor[16, 64] n=1024 (4Kb) x∈[2.724e-05, 0.091] μ=0.015 σ=0.014\n",
      "tensor[16] x∈[0.001, 0.015] μ=0.006 σ=0.004\n",
      "tensor[64, 15] n=960 (3.8Kb) x∈[7.812e-05, 0.709] μ=0.104 σ=0.091\n",
      "tensor[64] x∈[0.004, 0.350] μ=0.109 σ=0.085\n",
      "tensor[64] x∈[0.006, 0.594] μ=0.144 σ=0.142\n",
      "tensor[64] x∈[0.001, 0.210] μ=0.075 σ=0.055\n",
      "tensor[64, 64] n=4096 (16Kb) x∈[4.929e-05, 0.751] μ=0.121 σ=0.103\n",
      "tensor[64] x∈[0.001, 0.245] μ=0.075 σ=0.061\n",
      "tensor[64] x∈[0.001, 1.222] μ=0.165 σ=0.199\n",
      "tensor[64] x∈[0.001, 0.346] μ=0.074 σ=0.069\n",
      "tensor[64, 64] n=4096 (16Kb) x∈[2.044e-05, 0.946] μ=0.114 σ=0.105\n",
      "tensor[64] x∈[0.001, 0.208] μ=0.048 σ=0.046\n",
      "tensor[64] x∈[0.002, 0.676] μ=0.156 σ=0.140\n",
      "tensor[64] x∈[0.001, 0.174] μ=0.049 σ=0.044\n",
      "tensor[16, 1, 3, 3] n=144 x∈[0.000, 0.358] μ=0.054 σ=0.058\n",
      "tensor[16] x∈[0.003, 0.065] μ=0.029 σ=0.021\n",
      "tensor[32, 16, 3, 3] n=4608 (18Kb) x∈[6.708e-05, 1.737] μ=0.146 σ=0.175\n",
      "tensor[32] x∈[0.001, 0.237] μ=0.060 σ=0.063\n",
      "tensor[32, 32, 3, 3] n=9216 (36Kb) x∈[3.972e-07, 1.953] μ=0.161 σ=0.175\n",
      "tensor[32] x∈[0.000, 0.195] μ=0.049 σ=0.048\n",
      "tensor[64, 128] n=8192 (32Kb) x∈[7.944e-07, 1.397] μ=0.169 σ=0.159\n",
      "tensor[64] x∈[0.000, 0.251] μ=0.069 σ=0.056\n",
      "tensor[64, 128] n=8192 (32Kb) x∈[4.351e-06, 0.995] μ=0.139 σ=0.123\n",
      "tensor[64] x∈[0.000, 0.164] μ=0.056 σ=0.040\n",
      "tensor[64] x∈[0.002, 0.401] μ=0.138 σ=0.116\n",
      "tensor[64] x∈[0.001, 0.207] μ=0.057 σ=0.054\n",
      "tensor[64, 64] n=4096 (16Kb) x∈[2.965e-05, 0.799] μ=0.131 σ=0.106\n",
      "tensor[64] x∈[0.000, 0.221] μ=0.072 σ=0.055\n",
      "tensor[64] x∈[0.004, 1.890] μ=0.321 σ=0.350\n",
      "tensor[64] x∈[0.003, 0.570] μ=0.107 σ=0.122\n",
      "tensor[1, 64] x∈[0.002, 0.541] μ=0.184 σ=0.142\n",
      "tensor[1] [0.017]\n"
     ]
    }
   ],
   "source": [
    "for k in sd1.keys():\n",
    "    print((sd1[k] - sd2[k]).abs())"
   ]
  }
 ],
 "metadata": {
  "kernelspec": {
   "display_name": ".venv",
   "language": "python",
   "name": "python3"
  },
  "language_info": {
   "codemirror_mode": {
    "name": "ipython",
    "version": 3
   },
   "file_extension": ".py",
   "mimetype": "text/x-python",
   "name": "python",
   "nbconvert_exporter": "python",
   "pygments_lexer": "ipython3",
   "version": "3.12.10"
  }
 },
 "nbformat": 4,
 "nbformat_minor": 5
}
