{
 "cells": [
  {
   "cell_type": "code",
   "execution_count": 36,
   "id": "4dc3a65d",
   "metadata": {},
   "outputs": [],
   "source": [
    "import torch\n",
    "import random\n",
    "\n",
    "x = torch.rand((2, 1), requires_grad=True)\n",
    "x.retain_grad()"
   ]
  },
  {
   "cell_type": "code",
   "execution_count": 37,
   "id": "9dd7cd7f",
   "metadata": {},
   "outputs": [
    {
     "name": "stdout",
     "output_type": "stream",
     "text": [
      "tensor([[ True],\n",
      "        [False]])\n",
      "tensor([[False],\n",
      "        [False]])\n",
      "tensor([[False],\n",
      "        [ True]])\n"
     ]
    }
   ],
   "source": [
    "xs = []\n",
    "for _ in range(10):\n",
    "    xprime = x + torch.randn_like(x) * x\n",
    "    xprime.retain_grad()\n",
    "    xs.append(xprime)\n",
    "    if random.random() < 0.5:\n",
    "        mask = x > xprime\n",
    "        print(mask)\n",
    "        xprime[mask] = 0.0\n",
    "    x = xprime"
   ]
  },
  {
   "cell_type": "code",
   "execution_count": 38,
   "id": "f2154262",
   "metadata": {},
   "outputs": [],
   "source": [
    "x.sum().backward(retain_graph=True)"
   ]
  }
 ],
 "metadata": {
  "kernelspec": {
   "display_name": ".venv",
   "language": "python",
   "name": "python3"
  },
  "language_info": {
   "codemirror_mode": {
    "name": "ipython",
    "version": 3
   },
   "file_extension": ".py",
   "mimetype": "text/x-python",
   "name": "python",
   "nbconvert_exporter": "python",
   "pygments_lexer": "ipython3",
   "version": "3.12.10"
  }
 },
 "nbformat": 4,
 "nbformat_minor": 5
}
