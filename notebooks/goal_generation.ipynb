{
 "cells": [
  {
   "cell_type": "code",
   "execution_count": 1,
   "metadata": {},
   "outputs": [],
   "source": [
    "%load_ext autoreload\n",
    "%autoreload 3"
   ]
  },
  {
   "cell_type": "code",
   "execution_count": 2,
   "metadata": {},
   "outputs": [],
   "source": [
    "import torch\n",
    "import matplotlib.pyplot as plt\n",
    "from flipper_training.configs import *\n",
    "from flipper_training.utils.environment import make_x_y_grids, generate_heightmaps\n",
    "from flipper_training.utils.heightmap_generators import MultiGaussianHeightmapGenerator\n",
    "from flipper_training.vis.static_vis import plot_grids_xyz, plot_heightmap_3d, plot_single_heightmap"
   ]
  },
  {
   "cell_type": "code",
   "execution_count": 3,
   "metadata": {},
   "outputs": [],
   "source": [
    "num_robots = 4"
   ]
  },
  {
   "cell_type": "code",
   "execution_count": 4,
   "metadata": {},
   "outputs": [],
   "source": [
    "# Heightmap setup - use torch's XY indexing !!!!!\n",
    "grid_res = 0.05  # 5cm per grid cell\n",
    "max_coord = 6.4  # meters\n",
    "x_grid, y_grid = make_x_y_grids(max_coord, grid_res, num_robots)"
   ]
  },
  {
   "cell_type": "code",
   "execution_count": 23,
   "metadata": {},
   "outputs": [],
   "source": [
    "min_gaussians = 30\n",
    "max_gaussians = 50\n",
    "max_height_fraction = 0.1\n",
    "min_std_fraction = 0.15  # 20% of maximum grid coordinate\n",
    "max_std_fraction = 0.4  # 50% of maximum grid coordinate\n",
    "min_sigma_ratio = 0.8  # maximum ratio of sigma x,y computed as smaller/larger\n",
    "noise_std = 0.01\n",
    "noise_mu = 0\n",
    "heighmap_gen = MultiGaussianHeightmapGenerator(min_gaussians=min_gaussians, max_gaussians=max_gaussians, max_height_fraction=max_height_fraction, min_std_fraction=min_std_fraction, max_std_fraction=max_std_fraction, min_sigma_ratio=min_sigma_ratio, add_random_noise=True, noise_std=noise_std, noise_mu=noise_mu)\n",
    "\n",
    "z_grid, suit_mask = generate_heightmaps(x_grid, y_grid, heighmap_gen)"
   ]
  },
  {
   "cell_type": "code",
   "execution_count": null,
   "metadata": {},
   "outputs": [],
   "source": [
    "for HM_IDX in range(num_robots):\n",
    "    plot_heightmap_3d(x_grid[HM_IDX], y_grid[HM_IDX], z_grid[HM_IDX]).show()"
   ]
  },
  {
   "cell_type": "code",
   "execution_count": null,
   "metadata": {},
   "outputs": [],
   "source": [
    "robot_model = RobotModelConfig(robot_type=\"marv\", voxel_size=0.08, points_per_driving_part=150)\n",
    "world_config = WorldConfig(x_grid=x_grid, y_grid=y_grid, z_grid=z_grid, grid_res=grid_res, max_coord=max_coord, suitable_mask=suit_mask)"
   ]
  },
  {
   "cell_type": "code",
   "execution_count": 26,
   "metadata": {},
   "outputs": [],
   "source": [
    "from flipper_training.utils.objective_managers import HeightAwareObjectiveManager"
   ]
  },
  {
   "cell_type": "code",
   "execution_count": 27,
   "metadata": {},
   "outputs": [],
   "source": [
    "max_higher_allowed = 0.5\n",
    "min_dist_to_goal = 5.\n",
    "max_dist_to_goal = 10.\n",
    "gen = HeightAwareObjectiveManager(higher_allowed=max_higher_allowed, min_dist_to_goal=min_dist_to_goal, max_dist_to_goal=max_dist_to_goal)"
   ]
  },
  {
   "cell_type": "code",
   "execution_count": 28,
   "metadata": {},
   "outputs": [],
   "source": [
    "start_state, goal_state = gen.generate_start_goal_states(world_config, robot_model)"
   ]
  },
  {
   "cell_type": "code",
   "execution_count": null,
   "metadata": {},
   "outputs": [],
   "source": [
    "for i in range(num_robots):\n",
    "    ax = plot_single_heightmap(x_grid[i], y_grid[i], z_grid[i], start_state.x[i], goal_state.x[i])\n",
    "    plt.show()"
   ]
  },
  {
   "cell_type": "code",
   "execution_count": null,
   "metadata": {},
   "outputs": [],
   "source": [
    "for i in range(num_robots):\n",
    "    f = plot_heightmap_3d(x_grid[i], y_grid[i], z_grid[i], start_state.x[i], goal_state.x[i])\n",
    "    f.show()"
   ]
  }
 ],
 "metadata": {
  "kernelspec": {
   "display_name": ".venv",
   "language": "python",
   "name": "python3"
  },
  "language_info": {
   "codemirror_mode": {
    "name": "ipython",
    "version": 3
   },
   "file_extension": ".py",
   "mimetype": "text/x-python",
   "name": "python",
   "nbconvert_exporter": "python",
   "pygments_lexer": "ipython3",
   "version": "3.11.11"
  }
 },
 "nbformat": 4,
 "nbformat_minor": 2
}
